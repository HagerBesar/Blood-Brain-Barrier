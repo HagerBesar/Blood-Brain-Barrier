{
 "cells": [
  {
   "cell_type": "markdown",
   "metadata": {
    "_cell_guid": "b1076dfc-b9ad-4769-8c92-a6c4dae69d19",
    "_uuid": "8f2839f25d086af736a60e9eeb907d3b93b6e0e5"
   },
   "source": [
    "----------\n",
    "**Blood-Brain Barrier Permeability**\n",
    "=====================================\n",
    "\n",
    "\n",
    "----------"
   ]
  },
  {
   "cell_type": "markdown",
   "metadata": {
    "_cell_guid": "79c7e3d0-c299-4dcb-8224-4455121ee9b0",
    "_uuid": "d629ff2d2480ee46fbb7e2d37f6b5fab8052498a",
    "collapsed": true
   },
   "source": [
    "- <a href='#1'>1. Load libraries and read the data</a>  \n",
    "    - <a href='#1.1'>1.1. Load libraries</a> \n",
    "    - <a href='#1.2'>1.2. Read the data</a> \n",
    "    - <a href='#1.3'>1.3. Label Encoder</a> \n",
    "    - <a href='#1.4'>1.4. Missing values(Clean Data)</a> \n",
    "- <a href='#2'>2. Exploratory Data Analysis (EDA)</a> \n",
    "    - <a href='#2.1'>2.1. Head and describe</a> \n",
    "    - <a href='#2.2'>2.2. Target distribution (number and %)</a> \n",
    "    \n",
    "- <a href='#3'>3. Prepare dataset</a>\n",
    "    - <a href='#3.1'>3.1. Define (X,  y)</a> \n",
    "    - <a href='#3.2'>3.2. Standard scaler (X)</a> \n",
    "    - <a href='#3.3'>3.3. Train test split</a> \n",
    "    \n",
    "- <a href='#4'>4. Define matrics</a>\n",
    "    - <a href='#4.1'>4.1. Confusion matrix and show metrics</a> \n",
    "    - <a href='#4.2'>4.2. ROC curve</a> \n",
    "\n",
    "- <a href='#5'>5. Predictive model 1 :  Gradient Boosting Machine(GBM)</a>\n",
    "    - <a href='#5.1'>5.1. Gradient Boosting classifer  and GridSearch CV to optimise hyperparameters </a> \n",
    "    - <a href='#5.1'>5.2. Feature Selection</a> \n",
    "    \n",
    "- <a href='#6'>6. Predictive model 2 : Logistic Regression</a>\n",
    "    - <a href='#6.1'>6.1. Gradient Boosting classifer  and GridSearch CV to optimise hyperparameters </a> \n",
    "      \n",
    "\n",
    "- <a href='#7'>7. Predictive model 3 : Logistic Regression</a>\n",
    "    - <a href='#7.1'>7.1. Gradient Boosting classifer  and GridSearch CV to optimise hyperparameters </a> \n",
    "    \n",
    "- <a href='#8'>8. Predictive model 4 : Support vector machine (SVM)</a>\n",
    "    - <a href='#8.1'>8.1. Support vector machine (SVM)  and GridSearch CV to optimise hyperparameters </a> \n",
    "    \n",
    "- <a href='#9'>9. Predictive model 5 : K-Nearst Neighbor(KNN)</a>\n",
    "    - <a href='#9.1'>9.1. K-Nearst Neighbor(KNN) and GridSearch CV to optimise hyperparameters </a>   \n",
    "    \n",
    "- <a href='#10'>10. Models performance plot (accuracy, precision, recall)</a> "
   ]
  },
  {
   "cell_type": "markdown",
   "metadata": {
    "_uuid": "686e59146dd06ab6d425ce99090f045a998e607b"
   },
   "source": [
    "# <a id='1'>1. Load libraries and read the data</a> "
   ]
  },
  {
   "cell_type": "markdown",
   "metadata": {
    "_uuid": "918fd73706b63edfd9b456c7b49bd5c46021375e"
   },
   "source": [
    "## <a id='1.1'>1.1. Load libraries</a> "
   ]
  },
  {
   "cell_type": "code",
   "execution_count": 2,
   "metadata": {
    "_uuid": "bbf404e4824ea60fd69de5d6117edec5f61480b8"
   },
   "outputs": [
    {
     "data": {
      "text/html": [
       "        <script type=\"text/javascript\">\n",
       "        window.PlotlyConfig = {MathJaxConfig: 'local'};\n",
       "        if (window.MathJax) {MathJax.Hub.Config({SVG: {font: \"STIX-Web\"}});}\n",
       "        if (typeof require !== 'undefined') {\n",
       "        require.undef(\"plotly\");\n",
       "        requirejs.config({\n",
       "            paths: {\n",
       "                'plotly': ['https://cdn.plot.ly/plotly-2.6.3.min']\n",
       "            }\n",
       "        });\n",
       "        require(['plotly'], function(Plotly) {\n",
       "            window._Plotly = Plotly;\n",
       "        });\n",
       "        }\n",
       "        </script>\n",
       "        "
      ]
     },
     "metadata": {},
     "output_type": "display_data"
    }
   ],
   "source": [
    "# Python libraries\n",
    "import pandas as pd\n",
    "import numpy as np\n",
    "import seaborn as sns\n",
    "import matplotlib.pyplot as plt\n",
    "%matplotlib inline\n",
    "import itertools\n",
    "from itertools import chain\n",
    "\n",
    "#from sklearn.decomposition import PCA\n",
    "from sklearn.preprocessing import StandardScaler\n",
    "from sklearn.ensemble import GradientBoostingClassifier\n",
    "#from sklearn.ensemble import VotingClassifier\n",
    "from sklearn.model_selection import GridSearchCV, cross_val_score, learning_curve, train_test_split\n",
    "from sklearn.metrics import precision_score, recall_score, confusion_matrix, roc_curve, precision_recall_curve, accuracy_score\n",
    "import warnings\n",
    "import plotly.offline as py\n",
    "py.init_notebook_mode(connected=True)\n",
    "import plotly.graph_objs as go\n",
    "import plotly.tools as tls\n",
    "import plotly.figure_factory as ff\n",
    "\n",
    "warnings.filterwarnings('ignore') #ignore warning messages "
   ]
  },
  {
   "cell_type": "markdown",
   "metadata": {
    "_uuid": "c3aca04e153a6fac0d6c37d5166249f9ae8d532e"
   },
   "source": [
    "## <a id='1.2'>1.2. Read the data</a>"
   ]
  },
  {
   "cell_type": "code",
   "execution_count": 3,
   "metadata": {
    "_uuid": "6da5e989161e2ae3a8b3349881fec598b17f78c1"
   },
   "outputs": [
    {
     "data": {
      "text/html": [
       "<div>\n",
       "<style scoped>\n",
       "    .dataframe tbody tr th:only-of-type {\n",
       "        vertical-align: middle;\n",
       "    }\n",
       "\n",
       "    .dataframe tbody tr th {\n",
       "        vertical-align: top;\n",
       "    }\n",
       "\n",
       "    .dataframe thead th {\n",
       "        text-align: right;\n",
       "    }\n",
       "</style>\n",
       "<table border=\"1\" class=\"dataframe\">\n",
       "  <thead>\n",
       "    <tr style=\"text-align: right;\">\n",
       "      <th></th>\n",
       "      <th>Active</th>\n",
       "      <th>x1</th>\n",
       "      <th>pmv1</th>\n",
       "      <th>x2</th>\n",
       "      <th>pmv2</th>\n",
       "      <th>x3</th>\n",
       "      <th>pmv3</th>\n",
       "      <th>x4</th>\n",
       "      <th>pmv4</th>\n",
       "      <th>x5</th>\n",
       "      <th>...</th>\n",
       "      <th>CPCM2</th>\n",
       "      <th>CPCM3</th>\n",
       "      <th>CPCM4</th>\n",
       "      <th>CPCM5</th>\n",
       "      <th>SMD1</th>\n",
       "      <th>SMD2</th>\n",
       "      <th>SMD3</th>\n",
       "      <th>SMD4</th>\n",
       "      <th>SMD5</th>\n",
       "      <th>mol</th>\n",
       "    </tr>\n",
       "  </thead>\n",
       "  <tbody>\n",
       "    <tr>\n",
       "      <th>0</th>\n",
       "      <td>1</td>\n",
       "      <td>37.979584</td>\n",
       "      <td>169.997406</td>\n",
       "      <td>52.716610</td>\n",
       "      <td>404.245483</td>\n",
       "      <td>139.412445</td>\n",
       "      <td>140.044617</td>\n",
       "      <td>4.297644</td>\n",
       "      <td>292.944000</td>\n",
       "      <td>28.023092</td>\n",
       "      <td>...</td>\n",
       "      <td>-17.652098</td>\n",
       "      <td>-17.658243</td>\n",
       "      <td>-18.077089</td>\n",
       "      <td>-18.173771</td>\n",
       "      <td>-18.630166</td>\n",
       "      <td>-17.902943</td>\n",
       "      <td>-17.727189</td>\n",
       "      <td>-18.051943</td>\n",
       "      <td>-13.805539</td>\n",
       "      <td>ClC(F)(F)C(Cl)(F)F</td>\n",
       "    </tr>\n",
       "    <tr>\n",
       "      <th>1</th>\n",
       "      <td>1</td>\n",
       "      <td>75.030350</td>\n",
       "      <td>392.657501</td>\n",
       "      <td>66.645096</td>\n",
       "      <td>792.212769</td>\n",
       "      <td>352.056915</td>\n",
       "      <td>377.674957</td>\n",
       "      <td>-5.893218</td>\n",
       "      <td>358.615875</td>\n",
       "      <td>53.860622</td>\n",
       "      <td>...</td>\n",
       "      <td>-246.975186</td>\n",
       "      <td>-246.992635</td>\n",
       "      <td>-248.209669</td>\n",
       "      <td>-248.498814</td>\n",
       "      <td>-255.605253</td>\n",
       "      <td>-253.338243</td>\n",
       "      <td>-253.019086</td>\n",
       "      <td>-253.484498</td>\n",
       "      <td>-246.509914</td>\n",
       "      <td>C[C@H]1[C@@](N2CCCCC2)(c2sccc2)CCCC1</td>\n",
       "    </tr>\n",
       "    <tr>\n",
       "      <th>2</th>\n",
       "      <td>1</td>\n",
       "      <td>98.376518</td>\n",
       "      <td>503.202484</td>\n",
       "      <td>100.648026</td>\n",
       "      <td>1057.320680</td>\n",
       "      <td>443.864227</td>\n",
       "      <td>469.030701</td>\n",
       "      <td>-4.093867</td>\n",
       "      <td>533.184204</td>\n",
       "      <td>67.382744</td>\n",
       "      <td>...</td>\n",
       "      <td>-259.339213</td>\n",
       "      <td>-259.391827</td>\n",
       "      <td>-263.072341</td>\n",
       "      <td>-263.950062</td>\n",
       "      <td>-273.414022</td>\n",
       "      <td>-270.356295</td>\n",
       "      <td>-269.974022</td>\n",
       "      <td>-270.638854</td>\n",
       "      <td>-266.865933</td>\n",
       "      <td>O=C1N(C)C(=O)c2n(CCN[C@H](Cc3ccccc3)C)cnc2N1C</td>\n",
       "    </tr>\n",
       "    <tr>\n",
       "      <th>3</th>\n",
       "      <td>1</td>\n",
       "      <td>92.564079</td>\n",
       "      <td>468.065063</td>\n",
       "      <td>97.910751</td>\n",
       "      <td>993.392273</td>\n",
       "      <td>409.989258</td>\n",
       "      <td>431.859131</td>\n",
       "      <td>-2.538582</td>\n",
       "      <td>517.478821</td>\n",
       "      <td>64.826698</td>\n",
       "      <td>...</td>\n",
       "      <td>-226.473829</td>\n",
       "      <td>-226.524795</td>\n",
       "      <td>-230.154752</td>\n",
       "      <td>-231.040916</td>\n",
       "      <td>-237.615592</td>\n",
       "      <td>-233.523662</td>\n",
       "      <td>-233.145090</td>\n",
       "      <td>-237.488582</td>\n",
       "      <td>-234.084009</td>\n",
       "      <td>Clc1c(N2CCN(CCCNC(=O)C)CC2)cc(Cl)cc1</td>\n",
       "    </tr>\n",
       "    <tr>\n",
       "      <th>4</th>\n",
       "      <td>1</td>\n",
       "      <td>144.912735</td>\n",
       "      <td>737.176025</td>\n",
       "      <td>135.177597</td>\n",
       "      <td>1464.036380</td>\n",
       "      <td>662.010498</td>\n",
       "      <td>708.867981</td>\n",
       "      <td>-6.710082</td>\n",
       "      <td>714.396484</td>\n",
       "      <td>107.607346</td>\n",
       "      <td>...</td>\n",
       "      <td>-467.541003</td>\n",
       "      <td>-467.590640</td>\n",
       "      <td>-471.131830</td>\n",
       "      <td>-471.997423</td>\n",
       "      <td>-480.366616</td>\n",
       "      <td>-477.067501</td>\n",
       "      <td>-476.496823</td>\n",
       "      <td>-478.700945</td>\n",
       "      <td>-467.515321</td>\n",
       "      <td>Br[C@@H]1[C@]2(Br)[C@@](C)([C@H]3[C@H]([C@H]4[...</td>\n",
       "    </tr>\n",
       "    <tr>\n",
       "      <th>...</th>\n",
       "      <td>...</td>\n",
       "      <td>...</td>\n",
       "      <td>...</td>\n",
       "      <td>...</td>\n",
       "      <td>...</td>\n",
       "      <td>...</td>\n",
       "      <td>...</td>\n",
       "      <td>...</td>\n",
       "      <td>...</td>\n",
       "      <td>...</td>\n",
       "      <td>...</td>\n",
       "      <td>...</td>\n",
       "      <td>...</td>\n",
       "      <td>...</td>\n",
       "      <td>...</td>\n",
       "      <td>...</td>\n",
       "      <td>...</td>\n",
       "      <td>...</td>\n",
       "      <td>...</td>\n",
       "      <td>...</td>\n",
       "      <td>...</td>\n",
       "    </tr>\n",
       "    <tr>\n",
       "      <th>1861</th>\n",
       "      <td>1</td>\n",
       "      <td>106.650070</td>\n",
       "      <td>536.710999</td>\n",
       "      <td>110.821869</td>\n",
       "      <td>1129.715820</td>\n",
       "      <td>472.036835</td>\n",
       "      <td>498.839203</td>\n",
       "      <td>-2.783543</td>\n",
       "      <td>589.414978</td>\n",
       "      <td>75.455940</td>\n",
       "      <td>...</td>\n",
       "      <td>-272.898704</td>\n",
       "      <td>-272.937728</td>\n",
       "      <td>-275.671537</td>\n",
       "      <td>-276.324978</td>\n",
       "      <td>-284.271916</td>\n",
       "      <td>-281.089342</td>\n",
       "      <td>-280.644838</td>\n",
       "      <td>-282.759133</td>\n",
       "      <td>-275.041033</td>\n",
       "      <td>ClCCN(CCCl)c1ccc(CCCC(=O)OC(C)(C)C)cc1</td>\n",
       "    </tr>\n",
       "    <tr>\n",
       "      <th>1862</th>\n",
       "      <td>1</td>\n",
       "      <td>71.265938</td>\n",
       "      <td>356.409058</td>\n",
       "      <td>74.011734</td>\n",
       "      <td>750.434448</td>\n",
       "      <td>312.389557</td>\n",
       "      <td>330.091675</td>\n",
       "      <td>-1.307748</td>\n",
       "      <td>398.547150</td>\n",
       "      <td>51.422092</td>\n",
       "      <td>...</td>\n",
       "      <td>-185.547418</td>\n",
       "      <td>-185.586895</td>\n",
       "      <td>-188.406945</td>\n",
       "      <td>-189.098045</td>\n",
       "      <td>-192.462472</td>\n",
       "      <td>-190.346009</td>\n",
       "      <td>-190.060680</td>\n",
       "      <td>-192.227854</td>\n",
       "      <td>-189.151275</td>\n",
       "      <td>S=C1NC(=O)C([C@@H](CCC)C)(CC)C(=O)N1</td>\n",
       "    </tr>\n",
       "    <tr>\n",
       "      <th>1863</th>\n",
       "      <td>1</td>\n",
       "      <td>90.257103</td>\n",
       "      <td>464.145264</td>\n",
       "      <td>83.995193</td>\n",
       "      <td>933.989929</td>\n",
       "      <td>416.151031</td>\n",
       "      <td>445.102356</td>\n",
       "      <td>-5.074581</td>\n",
       "      <td>442.694672</td>\n",
       "      <td>65.023697</td>\n",
       "      <td>...</td>\n",
       "      <td>-290.536490</td>\n",
       "      <td>-290.571121</td>\n",
       "      <td>-293.028236</td>\n",
       "      <td>-293.624670</td>\n",
       "      <td>-298.914012</td>\n",
       "      <td>-296.539673</td>\n",
       "      <td>-296.174482</td>\n",
       "      <td>-298.275661</td>\n",
       "      <td>-293.140373</td>\n",
       "      <td>O=C1CC2=C([C@H]3[C@@H]([C@H](C)C2)[C@H]2[C@@](...</td>\n",
       "    </tr>\n",
       "    <tr>\n",
       "      <th>1864</th>\n",
       "      <td>1</td>\n",
       "      <td>118.440666</td>\n",
       "      <td>603.593689</td>\n",
       "      <td>117.618591</td>\n",
       "      <td>1245.296630</td>\n",
       "      <td>537.397095</td>\n",
       "      <td>569.517944</td>\n",
       "      <td>-5.163879</td>\n",
       "      <td>621.902954</td>\n",
       "      <td>82.623634</td>\n",
       "      <td>...</td>\n",
       "      <td>-304.814751</td>\n",
       "      <td>-304.867377</td>\n",
       "      <td>-308.629258</td>\n",
       "      <td>-309.552556</td>\n",
       "      <td>-318.926957</td>\n",
       "      <td>-314.517817</td>\n",
       "      <td>-314.039653</td>\n",
       "      <td>-316.027914</td>\n",
       "      <td>-310.820848</td>\n",
       "      <td>Fc1ccc(C2=NC[C@H](CNC(=O)c3ccc(C)cc3)N(C)c3c2c...</td>\n",
       "    </tr>\n",
       "    <tr>\n",
       "      <th>1865</th>\n",
       "      <td>1</td>\n",
       "      <td>34.290031</td>\n",
       "      <td>160.270737</td>\n",
       "      <td>45.451626</td>\n",
       "      <td>378.508392</td>\n",
       "      <td>133.854111</td>\n",
       "      <td>135.728989</td>\n",
       "      <td>2.277766</td>\n",
       "      <td>248.056885</td>\n",
       "      <td>24.866697</td>\n",
       "      <td>...</td>\n",
       "      <td>-31.100056</td>\n",
       "      <td>-31.114316</td>\n",
       "      <td>-32.094529</td>\n",
       "      <td>-32.323144</td>\n",
       "      <td>-34.800672</td>\n",
       "      <td>-33.651548</td>\n",
       "      <td>-33.508509</td>\n",
       "      <td>-34.305808</td>\n",
       "      <td>-30.200136</td>\n",
       "      <td>ClC(Cl)(Cl)C</td>\n",
       "    </tr>\n",
       "  </tbody>\n",
       "</table>\n",
       "<p>1866 rows × 48 columns</p>\n",
       "</div>"
      ],
      "text/plain": [
       "      Active          x1        pmv1          x2         pmv2          x3  \\\n",
       "0          1   37.979584  169.997406   52.716610   404.245483  139.412445   \n",
       "1          1   75.030350  392.657501   66.645096   792.212769  352.056915   \n",
       "2          1   98.376518  503.202484  100.648026  1057.320680  443.864227   \n",
       "3          1   92.564079  468.065063   97.910751   993.392273  409.989258   \n",
       "4          1  144.912735  737.176025  135.177597  1464.036380  662.010498   \n",
       "...      ...         ...         ...         ...          ...         ...   \n",
       "1861       1  106.650070  536.710999  110.821869  1129.715820  472.036835   \n",
       "1862       1   71.265938  356.409058   74.011734   750.434448  312.389557   \n",
       "1863       1   90.257103  464.145264   83.995193   933.989929  416.151031   \n",
       "1864       1  118.440666  603.593689  117.618591  1245.296630  537.397095   \n",
       "1865       1   34.290031  160.270737   45.451626   378.508392  133.854111   \n",
       "\n",
       "            pmv3        x4        pmv4          x5  ...       CPCM2  \\\n",
       "0     140.044617  4.297644  292.944000   28.023092  ...  -17.652098   \n",
       "1     377.674957 -5.893218  358.615875   53.860622  ... -246.975186   \n",
       "2     469.030701 -4.093867  533.184204   67.382744  ... -259.339213   \n",
       "3     431.859131 -2.538582  517.478821   64.826698  ... -226.473829   \n",
       "4     708.867981 -6.710082  714.396484  107.607346  ... -467.541003   \n",
       "...          ...       ...         ...         ...  ...         ...   \n",
       "1861  498.839203 -2.783543  589.414978   75.455940  ... -272.898704   \n",
       "1862  330.091675 -1.307748  398.547150   51.422092  ... -185.547418   \n",
       "1863  445.102356 -5.074581  442.694672   65.023697  ... -290.536490   \n",
       "1864  569.517944 -5.163879  621.902954   82.623634  ... -304.814751   \n",
       "1865  135.728989  2.277766  248.056885   24.866697  ...  -31.100056   \n",
       "\n",
       "           CPCM3       CPCM4       CPCM5        SMD1        SMD2        SMD3  \\\n",
       "0     -17.658243  -18.077089  -18.173771  -18.630166  -17.902943  -17.727189   \n",
       "1    -246.992635 -248.209669 -248.498814 -255.605253 -253.338243 -253.019086   \n",
       "2    -259.391827 -263.072341 -263.950062 -273.414022 -270.356295 -269.974022   \n",
       "3    -226.524795 -230.154752 -231.040916 -237.615592 -233.523662 -233.145090   \n",
       "4    -467.590640 -471.131830 -471.997423 -480.366616 -477.067501 -476.496823   \n",
       "...          ...         ...         ...         ...         ...         ...   \n",
       "1861 -272.937728 -275.671537 -276.324978 -284.271916 -281.089342 -280.644838   \n",
       "1862 -185.586895 -188.406945 -189.098045 -192.462472 -190.346009 -190.060680   \n",
       "1863 -290.571121 -293.028236 -293.624670 -298.914012 -296.539673 -296.174482   \n",
       "1864 -304.867377 -308.629258 -309.552556 -318.926957 -314.517817 -314.039653   \n",
       "1865  -31.114316  -32.094529  -32.323144  -34.800672  -33.651548  -33.508509   \n",
       "\n",
       "            SMD4        SMD5  \\\n",
       "0     -18.051943  -13.805539   \n",
       "1    -253.484498 -246.509914   \n",
       "2    -270.638854 -266.865933   \n",
       "3    -237.488582 -234.084009   \n",
       "4    -478.700945 -467.515321   \n",
       "...          ...         ...   \n",
       "1861 -282.759133 -275.041033   \n",
       "1862 -192.227854 -189.151275   \n",
       "1863 -298.275661 -293.140373   \n",
       "1864 -316.027914 -310.820848   \n",
       "1865  -34.305808  -30.200136   \n",
       "\n",
       "                                                    mol  \n",
       "0                                    ClC(F)(F)C(Cl)(F)F  \n",
       "1                  C[C@H]1[C@@](N2CCCCC2)(c2sccc2)CCCC1  \n",
       "2         O=C1N(C)C(=O)c2n(CCN[C@H](Cc3ccccc3)C)cnc2N1C  \n",
       "3                  Clc1c(N2CCN(CCCNC(=O)C)CC2)cc(Cl)cc1  \n",
       "4     Br[C@@H]1[C@]2(Br)[C@@](C)([C@H]3[C@H]([C@H]4[...  \n",
       "...                                                 ...  \n",
       "1861             ClCCN(CCCl)c1ccc(CCCC(=O)OC(C)(C)C)cc1  \n",
       "1862               S=C1NC(=O)C([C@@H](CCC)C)(CC)C(=O)N1  \n",
       "1863  O=C1CC2=C([C@H]3[C@@H]([C@H](C)C2)[C@H]2[C@@](...  \n",
       "1864  Fc1ccc(C2=NC[C@H](CNC(=O)c3ccc(C)cc3)N(C)c3c2c...  \n",
       "1865                                       ClC(Cl)(Cl)C  \n",
       "\n",
       "[1866 rows x 48 columns]"
      ]
     },
     "execution_count": 3,
     "metadata": {},
     "output_type": "execute_result"
    }
   ],
   "source": [
    "# Read data\n",
    "data = pd.read_csv('BrainData.csv')\n",
    "\n",
    "header=data.columns.tolist()\n",
    "data"
   ]
  },
  {
   "cell_type": "code",
   "execution_count": 4,
   "metadata": {},
   "outputs": [],
   "source": [
    "headerx=header.copy()\n",
    "headerx.remove('Active')\n"
   ]
  },
  {
   "cell_type": "markdown",
   "metadata": {
    "_uuid": "7b01b05873bebba75f13a4db1047872e9e9b76e1"
   },
   "source": [
    "## <a id='1.3'>1.4. Label Encoder </a>"
   ]
  },
  {
   "cell_type": "code",
   "execution_count": 5,
   "metadata": {
    "_uuid": "625b46ed9cde8f870f2e524eef2c964b09521390"
   },
   "outputs": [
    {
     "data": {
      "text/html": [
       "<div>\n",
       "<style scoped>\n",
       "    .dataframe tbody tr th:only-of-type {\n",
       "        vertical-align: middle;\n",
       "    }\n",
       "\n",
       "    .dataframe tbody tr th {\n",
       "        vertical-align: top;\n",
       "    }\n",
       "\n",
       "    .dataframe thead th {\n",
       "        text-align: right;\n",
       "    }\n",
       "</style>\n",
       "<table border=\"1\" class=\"dataframe\">\n",
       "  <thead>\n",
       "    <tr style=\"text-align: right;\">\n",
       "      <th></th>\n",
       "      <th>Active</th>\n",
       "      <th>x1</th>\n",
       "      <th>pmv1</th>\n",
       "      <th>x2</th>\n",
       "      <th>pmv2</th>\n",
       "      <th>x3</th>\n",
       "      <th>pmv3</th>\n",
       "      <th>x4</th>\n",
       "      <th>pmv4</th>\n",
       "      <th>x5</th>\n",
       "      <th>...</th>\n",
       "      <th>CPCM2</th>\n",
       "      <th>CPCM3</th>\n",
       "      <th>CPCM4</th>\n",
       "      <th>CPCM5</th>\n",
       "      <th>SMD1</th>\n",
       "      <th>SMD2</th>\n",
       "      <th>SMD3</th>\n",
       "      <th>SMD4</th>\n",
       "      <th>SMD5</th>\n",
       "      <th>mol</th>\n",
       "    </tr>\n",
       "  </thead>\n",
       "  <tbody>\n",
       "    <tr>\n",
       "      <th>0</th>\n",
       "      <td>1</td>\n",
       "      <td>37.979584</td>\n",
       "      <td>169.997406</td>\n",
       "      <td>52.716610</td>\n",
       "      <td>404.245483</td>\n",
       "      <td>139.412445</td>\n",
       "      <td>140.044617</td>\n",
       "      <td>4.297644</td>\n",
       "      <td>292.944000</td>\n",
       "      <td>28.023092</td>\n",
       "      <td>...</td>\n",
       "      <td>-17.652098</td>\n",
       "      <td>-17.658243</td>\n",
       "      <td>-18.077089</td>\n",
       "      <td>-18.173771</td>\n",
       "      <td>-18.630166</td>\n",
       "      <td>-17.902943</td>\n",
       "      <td>-17.727189</td>\n",
       "      <td>-18.051943</td>\n",
       "      <td>-13.805539</td>\n",
       "      <td>124</td>\n",
       "    </tr>\n",
       "    <tr>\n",
       "      <th>1</th>\n",
       "      <td>1</td>\n",
       "      <td>75.030350</td>\n",
       "      <td>392.657501</td>\n",
       "      <td>66.645096</td>\n",
       "      <td>792.212769</td>\n",
       "      <td>352.056915</td>\n",
       "      <td>377.674957</td>\n",
       "      <td>-5.893218</td>\n",
       "      <td>358.615875</td>\n",
       "      <td>53.860622</td>\n",
       "      <td>...</td>\n",
       "      <td>-246.975186</td>\n",
       "      <td>-246.992635</td>\n",
       "      <td>-248.209669</td>\n",
       "      <td>-248.498814</td>\n",
       "      <td>-255.605253</td>\n",
       "      <td>-253.338243</td>\n",
       "      <td>-253.019086</td>\n",
       "      <td>-253.484498</td>\n",
       "      <td>-246.509914</td>\n",
       "      <td>92</td>\n",
       "    </tr>\n",
       "    <tr>\n",
       "      <th>2</th>\n",
       "      <td>1</td>\n",
       "      <td>98.376518</td>\n",
       "      <td>503.202484</td>\n",
       "      <td>100.648026</td>\n",
       "      <td>1057.320680</td>\n",
       "      <td>443.864227</td>\n",
       "      <td>469.030701</td>\n",
       "      <td>-4.093867</td>\n",
       "      <td>533.184204</td>\n",
       "      <td>67.382744</td>\n",
       "      <td>...</td>\n",
       "      <td>-259.339213</td>\n",
       "      <td>-259.391827</td>\n",
       "      <td>-263.072341</td>\n",
       "      <td>-263.950062</td>\n",
       "      <td>-273.414022</td>\n",
       "      <td>-270.356295</td>\n",
       "      <td>-269.974022</td>\n",
       "      <td>-270.638854</td>\n",
       "      <td>-266.865933</td>\n",
       "      <td>1474</td>\n",
       "    </tr>\n",
       "    <tr>\n",
       "      <th>3</th>\n",
       "      <td>1</td>\n",
       "      <td>92.564079</td>\n",
       "      <td>468.065063</td>\n",
       "      <td>97.910751</td>\n",
       "      <td>993.392273</td>\n",
       "      <td>409.989258</td>\n",
       "      <td>431.859131</td>\n",
       "      <td>-2.538582</td>\n",
       "      <td>517.478821</td>\n",
       "      <td>64.826698</td>\n",
       "      <td>...</td>\n",
       "      <td>-226.473829</td>\n",
       "      <td>-226.524795</td>\n",
       "      <td>-230.154752</td>\n",
       "      <td>-231.040916</td>\n",
       "      <td>-237.615592</td>\n",
       "      <td>-233.523662</td>\n",
       "      <td>-233.145090</td>\n",
       "      <td>-237.488582</td>\n",
       "      <td>-234.084009</td>\n",
       "      <td>254</td>\n",
       "    </tr>\n",
       "    <tr>\n",
       "      <th>4</th>\n",
       "      <td>1</td>\n",
       "      <td>144.912735</td>\n",
       "      <td>737.176025</td>\n",
       "      <td>135.177597</td>\n",
       "      <td>1464.036380</td>\n",
       "      <td>662.010498</td>\n",
       "      <td>708.867981</td>\n",
       "      <td>-6.710082</td>\n",
       "      <td>714.396484</td>\n",
       "      <td>107.607346</td>\n",
       "      <td>...</td>\n",
       "      <td>-467.541003</td>\n",
       "      <td>-467.590640</td>\n",
       "      <td>-471.131830</td>\n",
       "      <td>-471.997423</td>\n",
       "      <td>-480.366616</td>\n",
       "      <td>-477.067501</td>\n",
       "      <td>-476.496823</td>\n",
       "      <td>-478.700945</td>\n",
       "      <td>-467.515321</td>\n",
       "      <td>8</td>\n",
       "    </tr>\n",
       "    <tr>\n",
       "      <th>...</th>\n",
       "      <td>...</td>\n",
       "      <td>...</td>\n",
       "      <td>...</td>\n",
       "      <td>...</td>\n",
       "      <td>...</td>\n",
       "      <td>...</td>\n",
       "      <td>...</td>\n",
       "      <td>...</td>\n",
       "      <td>...</td>\n",
       "      <td>...</td>\n",
       "      <td>...</td>\n",
       "      <td>...</td>\n",
       "      <td>...</td>\n",
       "      <td>...</td>\n",
       "      <td>...</td>\n",
       "      <td>...</td>\n",
       "      <td>...</td>\n",
       "      <td>...</td>\n",
       "      <td>...</td>\n",
       "      <td>...</td>\n",
       "      <td>...</td>\n",
       "    </tr>\n",
       "    <tr>\n",
       "      <th>1861</th>\n",
       "      <td>1</td>\n",
       "      <td>106.650070</td>\n",
       "      <td>536.710999</td>\n",
       "      <td>110.821869</td>\n",
       "      <td>1129.715820</td>\n",
       "      <td>472.036835</td>\n",
       "      <td>498.839203</td>\n",
       "      <td>-2.783543</td>\n",
       "      <td>589.414978</td>\n",
       "      <td>75.455940</td>\n",
       "      <td>...</td>\n",
       "      <td>-272.898704</td>\n",
       "      <td>-272.937728</td>\n",
       "      <td>-275.671537</td>\n",
       "      <td>-276.324978</td>\n",
       "      <td>-284.271916</td>\n",
       "      <td>-281.089342</td>\n",
       "      <td>-280.644838</td>\n",
       "      <td>-282.759133</td>\n",
       "      <td>-275.041033</td>\n",
       "      <td>144</td>\n",
       "    </tr>\n",
       "    <tr>\n",
       "      <th>1862</th>\n",
       "      <td>1</td>\n",
       "      <td>71.265938</td>\n",
       "      <td>356.409058</td>\n",
       "      <td>74.011734</td>\n",
       "      <td>750.434448</td>\n",
       "      <td>312.389557</td>\n",
       "      <td>330.091675</td>\n",
       "      <td>-1.307748</td>\n",
       "      <td>398.547150</td>\n",
       "      <td>51.422092</td>\n",
       "      <td>...</td>\n",
       "      <td>-185.547418</td>\n",
       "      <td>-185.586895</td>\n",
       "      <td>-188.406945</td>\n",
       "      <td>-189.098045</td>\n",
       "      <td>-192.462472</td>\n",
       "      <td>-190.346009</td>\n",
       "      <td>-190.060680</td>\n",
       "      <td>-192.227854</td>\n",
       "      <td>-189.151275</td>\n",
       "      <td>1834</td>\n",
       "    </tr>\n",
       "    <tr>\n",
       "      <th>1863</th>\n",
       "      <td>1</td>\n",
       "      <td>90.257103</td>\n",
       "      <td>464.145264</td>\n",
       "      <td>83.995193</td>\n",
       "      <td>933.989929</td>\n",
       "      <td>416.151031</td>\n",
       "      <td>445.102356</td>\n",
       "      <td>-5.074581</td>\n",
       "      <td>442.694672</td>\n",
       "      <td>65.023697</td>\n",
       "      <td>...</td>\n",
       "      <td>-290.536490</td>\n",
       "      <td>-290.571121</td>\n",
       "      <td>-293.028236</td>\n",
       "      <td>-293.624670</td>\n",
       "      <td>-298.914012</td>\n",
       "      <td>-296.539673</td>\n",
       "      <td>-296.174482</td>\n",
       "      <td>-298.275661</td>\n",
       "      <td>-293.140373</td>\n",
       "      <td>1454</td>\n",
       "    </tr>\n",
       "    <tr>\n",
       "      <th>1864</th>\n",
       "      <td>1</td>\n",
       "      <td>118.440666</td>\n",
       "      <td>603.593689</td>\n",
       "      <td>117.618591</td>\n",
       "      <td>1245.296630</td>\n",
       "      <td>537.397095</td>\n",
       "      <td>569.517944</td>\n",
       "      <td>-5.163879</td>\n",
       "      <td>621.902954</td>\n",
       "      <td>82.623634</td>\n",
       "      <td>...</td>\n",
       "      <td>-304.814751</td>\n",
       "      <td>-304.867377</td>\n",
       "      <td>-308.629258</td>\n",
       "      <td>-309.552556</td>\n",
       "      <td>-318.926957</td>\n",
       "      <td>-314.517817</td>\n",
       "      <td>-314.039653</td>\n",
       "      <td>-316.027914</td>\n",
       "      <td>-310.820848</td>\n",
       "      <td>637</td>\n",
       "    </tr>\n",
       "    <tr>\n",
       "      <th>1865</th>\n",
       "      <td>1</td>\n",
       "      <td>34.290031</td>\n",
       "      <td>160.270737</td>\n",
       "      <td>45.451626</td>\n",
       "      <td>378.508392</td>\n",
       "      <td>133.854111</td>\n",
       "      <td>135.728989</td>\n",
       "      <td>2.277766</td>\n",
       "      <td>248.056885</td>\n",
       "      <td>24.866697</td>\n",
       "      <td>...</td>\n",
       "      <td>-31.100056</td>\n",
       "      <td>-31.114316</td>\n",
       "      <td>-32.094529</td>\n",
       "      <td>-32.323144</td>\n",
       "      <td>-34.800672</td>\n",
       "      <td>-33.651548</td>\n",
       "      <td>-33.508509</td>\n",
       "      <td>-34.305808</td>\n",
       "      <td>-30.200136</td>\n",
       "      <td>102</td>\n",
       "    </tr>\n",
       "  </tbody>\n",
       "</table>\n",
       "<p>1866 rows × 48 columns</p>\n",
       "</div>"
      ],
      "text/plain": [
       "      Active          x1        pmv1          x2         pmv2          x3  \\\n",
       "0          1   37.979584  169.997406   52.716610   404.245483  139.412445   \n",
       "1          1   75.030350  392.657501   66.645096   792.212769  352.056915   \n",
       "2          1   98.376518  503.202484  100.648026  1057.320680  443.864227   \n",
       "3          1   92.564079  468.065063   97.910751   993.392273  409.989258   \n",
       "4          1  144.912735  737.176025  135.177597  1464.036380  662.010498   \n",
       "...      ...         ...         ...         ...          ...         ...   \n",
       "1861       1  106.650070  536.710999  110.821869  1129.715820  472.036835   \n",
       "1862       1   71.265938  356.409058   74.011734   750.434448  312.389557   \n",
       "1863       1   90.257103  464.145264   83.995193   933.989929  416.151031   \n",
       "1864       1  118.440666  603.593689  117.618591  1245.296630  537.397095   \n",
       "1865       1   34.290031  160.270737   45.451626   378.508392  133.854111   \n",
       "\n",
       "            pmv3        x4        pmv4          x5  ...       CPCM2  \\\n",
       "0     140.044617  4.297644  292.944000   28.023092  ...  -17.652098   \n",
       "1     377.674957 -5.893218  358.615875   53.860622  ... -246.975186   \n",
       "2     469.030701 -4.093867  533.184204   67.382744  ... -259.339213   \n",
       "3     431.859131 -2.538582  517.478821   64.826698  ... -226.473829   \n",
       "4     708.867981 -6.710082  714.396484  107.607346  ... -467.541003   \n",
       "...          ...       ...         ...         ...  ...         ...   \n",
       "1861  498.839203 -2.783543  589.414978   75.455940  ... -272.898704   \n",
       "1862  330.091675 -1.307748  398.547150   51.422092  ... -185.547418   \n",
       "1863  445.102356 -5.074581  442.694672   65.023697  ... -290.536490   \n",
       "1864  569.517944 -5.163879  621.902954   82.623634  ... -304.814751   \n",
       "1865  135.728989  2.277766  248.056885   24.866697  ...  -31.100056   \n",
       "\n",
       "           CPCM3       CPCM4       CPCM5        SMD1        SMD2        SMD3  \\\n",
       "0     -17.658243  -18.077089  -18.173771  -18.630166  -17.902943  -17.727189   \n",
       "1    -246.992635 -248.209669 -248.498814 -255.605253 -253.338243 -253.019086   \n",
       "2    -259.391827 -263.072341 -263.950062 -273.414022 -270.356295 -269.974022   \n",
       "3    -226.524795 -230.154752 -231.040916 -237.615592 -233.523662 -233.145090   \n",
       "4    -467.590640 -471.131830 -471.997423 -480.366616 -477.067501 -476.496823   \n",
       "...          ...         ...         ...         ...         ...         ...   \n",
       "1861 -272.937728 -275.671537 -276.324978 -284.271916 -281.089342 -280.644838   \n",
       "1862 -185.586895 -188.406945 -189.098045 -192.462472 -190.346009 -190.060680   \n",
       "1863 -290.571121 -293.028236 -293.624670 -298.914012 -296.539673 -296.174482   \n",
       "1864 -304.867377 -308.629258 -309.552556 -318.926957 -314.517817 -314.039653   \n",
       "1865  -31.114316  -32.094529  -32.323144  -34.800672  -33.651548  -33.508509   \n",
       "\n",
       "            SMD4        SMD5   mol  \n",
       "0     -18.051943  -13.805539   124  \n",
       "1    -253.484498 -246.509914    92  \n",
       "2    -270.638854 -266.865933  1474  \n",
       "3    -237.488582 -234.084009   254  \n",
       "4    -478.700945 -467.515321     8  \n",
       "...          ...         ...   ...  \n",
       "1861 -282.759133 -275.041033   144  \n",
       "1862 -192.227854 -189.151275  1834  \n",
       "1863 -298.275661 -293.140373  1454  \n",
       "1864 -316.027914 -310.820848   637  \n",
       "1865  -34.305808  -30.200136   102  \n",
       "\n",
       "[1866 rows x 48 columns]"
      ]
     },
     "execution_count": 5,
     "metadata": {},
     "output_type": "execute_result"
    }
   ],
   "source": [
    "# convert to number variables\n",
    "from sklearn.preprocessing import LabelEncoder\n",
    "lbe=LabelEncoder()\n",
    "\n",
    "data.mol=lbe.fit_transform(data.mol)\n",
    "\n",
    "\n",
    "data"
   ]
  },
  {
   "cell_type": "markdown",
   "metadata": {
    "_uuid": "fceed7f2e0de59bf6da30bafa19e8da7da925c74"
   },
   "source": [
    "## <a id='1.3'>1.3. Missing values(Clean Data)</a>"
   ]
  },
  {
   "cell_type": "code",
   "execution_count": 6,
   "metadata": {},
   "outputs": [],
   "source": [
    "#replace non_value\n",
    "#train data\n",
    "data.HOMO.replace(\"NA\",np.nan, inplace = True)\n",
    "data.GapHL.replace(\"#VALUE!\",np.nan, inplace = True)\n",
    "#data.GapHL.replace(\"NA\",np.nan, inplace = True)"
   ]
  },
  {
   "cell_type": "code",
   "execution_count": 7,
   "metadata": {},
   "outputs": [
    {
     "data": {
      "text/html": [
       "<div>\n",
       "<style scoped>\n",
       "    .dataframe tbody tr th:only-of-type {\n",
       "        vertical-align: middle;\n",
       "    }\n",
       "\n",
       "    .dataframe tbody tr th {\n",
       "        vertical-align: top;\n",
       "    }\n",
       "\n",
       "    .dataframe thead th {\n",
       "        text-align: right;\n",
       "    }\n",
       "</style>\n",
       "<table border=\"1\" class=\"dataframe\">\n",
       "  <thead>\n",
       "    <tr style=\"text-align: right;\">\n",
       "      <th></th>\n",
       "      <th>Active</th>\n",
       "      <th>x1</th>\n",
       "      <th>pmv1</th>\n",
       "      <th>x2</th>\n",
       "      <th>pmv2</th>\n",
       "      <th>x3</th>\n",
       "      <th>pmv3</th>\n",
       "      <th>x4</th>\n",
       "      <th>pmv4</th>\n",
       "      <th>x5</th>\n",
       "      <th>...</th>\n",
       "      <th>CPCM2</th>\n",
       "      <th>CPCM3</th>\n",
       "      <th>CPCM4</th>\n",
       "      <th>CPCM5</th>\n",
       "      <th>SMD1</th>\n",
       "      <th>SMD2</th>\n",
       "      <th>SMD3</th>\n",
       "      <th>SMD4</th>\n",
       "      <th>SMD5</th>\n",
       "      <th>mol</th>\n",
       "    </tr>\n",
       "  </thead>\n",
       "  <tbody>\n",
       "    <tr>\n",
       "      <th>0</th>\n",
       "      <td>1.0</td>\n",
       "      <td>37.979584</td>\n",
       "      <td>169.997406</td>\n",
       "      <td>52.716610</td>\n",
       "      <td>404.245483</td>\n",
       "      <td>139.412445</td>\n",
       "      <td>140.044617</td>\n",
       "      <td>4.297644</td>\n",
       "      <td>292.944000</td>\n",
       "      <td>28.023092</td>\n",
       "      <td>...</td>\n",
       "      <td>-17.652098</td>\n",
       "      <td>-17.658243</td>\n",
       "      <td>-18.077089</td>\n",
       "      <td>-18.173771</td>\n",
       "      <td>-18.630166</td>\n",
       "      <td>-17.902943</td>\n",
       "      <td>-17.727189</td>\n",
       "      <td>-18.051943</td>\n",
       "      <td>-13.805539</td>\n",
       "      <td>124.0</td>\n",
       "    </tr>\n",
       "    <tr>\n",
       "      <th>1</th>\n",
       "      <td>1.0</td>\n",
       "      <td>75.030350</td>\n",
       "      <td>392.657501</td>\n",
       "      <td>66.645096</td>\n",
       "      <td>792.212769</td>\n",
       "      <td>352.056915</td>\n",
       "      <td>377.674957</td>\n",
       "      <td>-5.893218</td>\n",
       "      <td>358.615875</td>\n",
       "      <td>53.860622</td>\n",
       "      <td>...</td>\n",
       "      <td>-246.975186</td>\n",
       "      <td>-246.992635</td>\n",
       "      <td>-248.209669</td>\n",
       "      <td>-248.498814</td>\n",
       "      <td>-255.605253</td>\n",
       "      <td>-253.338243</td>\n",
       "      <td>-253.019086</td>\n",
       "      <td>-253.484498</td>\n",
       "      <td>-246.509914</td>\n",
       "      <td>92.0</td>\n",
       "    </tr>\n",
       "    <tr>\n",
       "      <th>2</th>\n",
       "      <td>1.0</td>\n",
       "      <td>98.376518</td>\n",
       "      <td>503.202484</td>\n",
       "      <td>100.648026</td>\n",
       "      <td>1057.320680</td>\n",
       "      <td>443.864227</td>\n",
       "      <td>469.030701</td>\n",
       "      <td>-4.093867</td>\n",
       "      <td>533.184204</td>\n",
       "      <td>67.382744</td>\n",
       "      <td>...</td>\n",
       "      <td>-259.339213</td>\n",
       "      <td>-259.391827</td>\n",
       "      <td>-263.072341</td>\n",
       "      <td>-263.950062</td>\n",
       "      <td>-273.414022</td>\n",
       "      <td>-270.356295</td>\n",
       "      <td>-269.974022</td>\n",
       "      <td>-270.638854</td>\n",
       "      <td>-266.865933</td>\n",
       "      <td>1474.0</td>\n",
       "    </tr>\n",
       "    <tr>\n",
       "      <th>3</th>\n",
       "      <td>1.0</td>\n",
       "      <td>92.564079</td>\n",
       "      <td>468.065063</td>\n",
       "      <td>97.910751</td>\n",
       "      <td>993.392273</td>\n",
       "      <td>409.989258</td>\n",
       "      <td>431.859131</td>\n",
       "      <td>-2.538582</td>\n",
       "      <td>517.478821</td>\n",
       "      <td>64.826698</td>\n",
       "      <td>...</td>\n",
       "      <td>-226.473829</td>\n",
       "      <td>-226.524795</td>\n",
       "      <td>-230.154752</td>\n",
       "      <td>-231.040916</td>\n",
       "      <td>-237.615592</td>\n",
       "      <td>-233.523662</td>\n",
       "      <td>-233.145090</td>\n",
       "      <td>-237.488582</td>\n",
       "      <td>-234.084009</td>\n",
       "      <td>254.0</td>\n",
       "    </tr>\n",
       "    <tr>\n",
       "      <th>4</th>\n",
       "      <td>1.0</td>\n",
       "      <td>144.912735</td>\n",
       "      <td>737.176025</td>\n",
       "      <td>135.177597</td>\n",
       "      <td>1464.036380</td>\n",
       "      <td>662.010498</td>\n",
       "      <td>708.867981</td>\n",
       "      <td>-6.710082</td>\n",
       "      <td>714.396484</td>\n",
       "      <td>107.607346</td>\n",
       "      <td>...</td>\n",
       "      <td>-467.541003</td>\n",
       "      <td>-467.590640</td>\n",
       "      <td>-471.131830</td>\n",
       "      <td>-471.997423</td>\n",
       "      <td>-480.366616</td>\n",
       "      <td>-477.067501</td>\n",
       "      <td>-476.496823</td>\n",
       "      <td>-478.700945</td>\n",
       "      <td>-467.515321</td>\n",
       "      <td>8.0</td>\n",
       "    </tr>\n",
       "    <tr>\n",
       "      <th>...</th>\n",
       "      <td>...</td>\n",
       "      <td>...</td>\n",
       "      <td>...</td>\n",
       "      <td>...</td>\n",
       "      <td>...</td>\n",
       "      <td>...</td>\n",
       "      <td>...</td>\n",
       "      <td>...</td>\n",
       "      <td>...</td>\n",
       "      <td>...</td>\n",
       "      <td>...</td>\n",
       "      <td>...</td>\n",
       "      <td>...</td>\n",
       "      <td>...</td>\n",
       "      <td>...</td>\n",
       "      <td>...</td>\n",
       "      <td>...</td>\n",
       "      <td>...</td>\n",
       "      <td>...</td>\n",
       "      <td>...</td>\n",
       "      <td>...</td>\n",
       "    </tr>\n",
       "    <tr>\n",
       "      <th>1861</th>\n",
       "      <td>1.0</td>\n",
       "      <td>106.650070</td>\n",
       "      <td>536.710999</td>\n",
       "      <td>110.821869</td>\n",
       "      <td>1129.715820</td>\n",
       "      <td>472.036835</td>\n",
       "      <td>498.839203</td>\n",
       "      <td>-2.783543</td>\n",
       "      <td>589.414978</td>\n",
       "      <td>75.455940</td>\n",
       "      <td>...</td>\n",
       "      <td>-272.898704</td>\n",
       "      <td>-272.937728</td>\n",
       "      <td>-275.671537</td>\n",
       "      <td>-276.324978</td>\n",
       "      <td>-284.271916</td>\n",
       "      <td>-281.089342</td>\n",
       "      <td>-280.644838</td>\n",
       "      <td>-282.759133</td>\n",
       "      <td>-275.041033</td>\n",
       "      <td>144.0</td>\n",
       "    </tr>\n",
       "    <tr>\n",
       "      <th>1862</th>\n",
       "      <td>1.0</td>\n",
       "      <td>71.265938</td>\n",
       "      <td>356.409058</td>\n",
       "      <td>74.011734</td>\n",
       "      <td>750.434448</td>\n",
       "      <td>312.389557</td>\n",
       "      <td>330.091675</td>\n",
       "      <td>-1.307748</td>\n",
       "      <td>398.547150</td>\n",
       "      <td>51.422092</td>\n",
       "      <td>...</td>\n",
       "      <td>-185.547418</td>\n",
       "      <td>-185.586895</td>\n",
       "      <td>-188.406945</td>\n",
       "      <td>-189.098045</td>\n",
       "      <td>-192.462472</td>\n",
       "      <td>-190.346009</td>\n",
       "      <td>-190.060680</td>\n",
       "      <td>-192.227854</td>\n",
       "      <td>-189.151275</td>\n",
       "      <td>1834.0</td>\n",
       "    </tr>\n",
       "    <tr>\n",
       "      <th>1863</th>\n",
       "      <td>1.0</td>\n",
       "      <td>90.257103</td>\n",
       "      <td>464.145264</td>\n",
       "      <td>83.995193</td>\n",
       "      <td>933.989929</td>\n",
       "      <td>416.151031</td>\n",
       "      <td>445.102356</td>\n",
       "      <td>-5.074581</td>\n",
       "      <td>442.694672</td>\n",
       "      <td>65.023697</td>\n",
       "      <td>...</td>\n",
       "      <td>-290.536490</td>\n",
       "      <td>-290.571121</td>\n",
       "      <td>-293.028236</td>\n",
       "      <td>-293.624670</td>\n",
       "      <td>-298.914012</td>\n",
       "      <td>-296.539673</td>\n",
       "      <td>-296.174482</td>\n",
       "      <td>-298.275661</td>\n",
       "      <td>-293.140373</td>\n",
       "      <td>1454.0</td>\n",
       "    </tr>\n",
       "    <tr>\n",
       "      <th>1864</th>\n",
       "      <td>1.0</td>\n",
       "      <td>118.440666</td>\n",
       "      <td>603.593689</td>\n",
       "      <td>117.618591</td>\n",
       "      <td>1245.296630</td>\n",
       "      <td>537.397095</td>\n",
       "      <td>569.517944</td>\n",
       "      <td>-5.163879</td>\n",
       "      <td>621.902954</td>\n",
       "      <td>82.623634</td>\n",
       "      <td>...</td>\n",
       "      <td>-304.814751</td>\n",
       "      <td>-304.867377</td>\n",
       "      <td>-308.629258</td>\n",
       "      <td>-309.552556</td>\n",
       "      <td>-318.926957</td>\n",
       "      <td>-314.517817</td>\n",
       "      <td>-314.039653</td>\n",
       "      <td>-316.027914</td>\n",
       "      <td>-310.820848</td>\n",
       "      <td>637.0</td>\n",
       "    </tr>\n",
       "    <tr>\n",
       "      <th>1865</th>\n",
       "      <td>1.0</td>\n",
       "      <td>34.290031</td>\n",
       "      <td>160.270737</td>\n",
       "      <td>45.451626</td>\n",
       "      <td>378.508392</td>\n",
       "      <td>133.854111</td>\n",
       "      <td>135.728989</td>\n",
       "      <td>2.277766</td>\n",
       "      <td>248.056885</td>\n",
       "      <td>24.866697</td>\n",
       "      <td>...</td>\n",
       "      <td>-31.100056</td>\n",
       "      <td>-31.114316</td>\n",
       "      <td>-32.094529</td>\n",
       "      <td>-32.323144</td>\n",
       "      <td>-34.800672</td>\n",
       "      <td>-33.651548</td>\n",
       "      <td>-33.508509</td>\n",
       "      <td>-34.305808</td>\n",
       "      <td>-30.200136</td>\n",
       "      <td>102.0</td>\n",
       "    </tr>\n",
       "  </tbody>\n",
       "</table>\n",
       "<p>1866 rows × 48 columns</p>\n",
       "</div>"
      ],
      "text/plain": [
       "      Active          x1        pmv1          x2         pmv2          x3  \\\n",
       "0        1.0   37.979584  169.997406   52.716610   404.245483  139.412445   \n",
       "1        1.0   75.030350  392.657501   66.645096   792.212769  352.056915   \n",
       "2        1.0   98.376518  503.202484  100.648026  1057.320680  443.864227   \n",
       "3        1.0   92.564079  468.065063   97.910751   993.392273  409.989258   \n",
       "4        1.0  144.912735  737.176025  135.177597  1464.036380  662.010498   \n",
       "...      ...         ...         ...         ...          ...         ...   \n",
       "1861     1.0  106.650070  536.710999  110.821869  1129.715820  472.036835   \n",
       "1862     1.0   71.265938  356.409058   74.011734   750.434448  312.389557   \n",
       "1863     1.0   90.257103  464.145264   83.995193   933.989929  416.151031   \n",
       "1864     1.0  118.440666  603.593689  117.618591  1245.296630  537.397095   \n",
       "1865     1.0   34.290031  160.270737   45.451626   378.508392  133.854111   \n",
       "\n",
       "            pmv3        x4        pmv4          x5  ...       CPCM2  \\\n",
       "0     140.044617  4.297644  292.944000   28.023092  ...  -17.652098   \n",
       "1     377.674957 -5.893218  358.615875   53.860622  ... -246.975186   \n",
       "2     469.030701 -4.093867  533.184204   67.382744  ... -259.339213   \n",
       "3     431.859131 -2.538582  517.478821   64.826698  ... -226.473829   \n",
       "4     708.867981 -6.710082  714.396484  107.607346  ... -467.541003   \n",
       "...          ...       ...         ...         ...  ...         ...   \n",
       "1861  498.839203 -2.783543  589.414978   75.455940  ... -272.898704   \n",
       "1862  330.091675 -1.307748  398.547150   51.422092  ... -185.547418   \n",
       "1863  445.102356 -5.074581  442.694672   65.023697  ... -290.536490   \n",
       "1864  569.517944 -5.163879  621.902954   82.623634  ... -304.814751   \n",
       "1865  135.728989  2.277766  248.056885   24.866697  ...  -31.100056   \n",
       "\n",
       "           CPCM3       CPCM4       CPCM5        SMD1        SMD2        SMD3  \\\n",
       "0     -17.658243  -18.077089  -18.173771  -18.630166  -17.902943  -17.727189   \n",
       "1    -246.992635 -248.209669 -248.498814 -255.605253 -253.338243 -253.019086   \n",
       "2    -259.391827 -263.072341 -263.950062 -273.414022 -270.356295 -269.974022   \n",
       "3    -226.524795 -230.154752 -231.040916 -237.615592 -233.523662 -233.145090   \n",
       "4    -467.590640 -471.131830 -471.997423 -480.366616 -477.067501 -476.496823   \n",
       "...          ...         ...         ...         ...         ...         ...   \n",
       "1861 -272.937728 -275.671537 -276.324978 -284.271916 -281.089342 -280.644838   \n",
       "1862 -185.586895 -188.406945 -189.098045 -192.462472 -190.346009 -190.060680   \n",
       "1863 -290.571121 -293.028236 -293.624670 -298.914012 -296.539673 -296.174482   \n",
       "1864 -304.867377 -308.629258 -309.552556 -318.926957 -314.517817 -314.039653   \n",
       "1865  -31.114316  -32.094529  -32.323144  -34.800672  -33.651548  -33.508509   \n",
       "\n",
       "            SMD4        SMD5     mol  \n",
       "0     -18.051943  -13.805539   124.0  \n",
       "1    -253.484498 -246.509914    92.0  \n",
       "2    -270.638854 -266.865933  1474.0  \n",
       "3    -237.488582 -234.084009   254.0  \n",
       "4    -478.700945 -467.515321     8.0  \n",
       "...          ...         ...     ...  \n",
       "1861 -282.759133 -275.041033   144.0  \n",
       "1862 -192.227854 -189.151275  1834.0  \n",
       "1863 -298.275661 -293.140373  1454.0  \n",
       "1864 -316.027914 -310.820848   637.0  \n",
       "1865  -34.305808  -30.200136   102.0  \n",
       "\n",
       "[1866 rows x 48 columns]"
      ]
     },
     "execution_count": 7,
     "metadata": {},
     "output_type": "execute_result"
    }
   ],
   "source": [
    "###cleanind Data###\n",
    "\n",
    "from sklearn.impute import SimpleImputer\n",
    "\n",
    "imp = SimpleImputer(missing_values=np.nan, strategy='mean')\n",
    "imp = imp.fit(data)\n",
    "data = imp.transform(data)\n",
    "\n",
    "###into DataFrame###\n",
    "data= pd.DataFrame(data,columns=header)\n",
    "data"
   ]
  },
  {
   "cell_type": "markdown",
   "metadata": {
    "_uuid": "828354108a8e730fe25d8dedc2dd9b56fb59f7fb"
   },
   "source": [
    "# <a id='2'>2. Exploratory Data Analysis (EDA)</a>"
   ]
  },
  {
   "cell_type": "markdown",
   "metadata": {
    "_uuid": "a8572425f7fc0f43544ab2408ff779e41215ed6a"
   },
   "source": [
    "# <a id='2.1'>2.1. Head and describe</a> "
   ]
  },
  {
   "cell_type": "code",
   "execution_count": 8,
   "metadata": {
    "_uuid": "5e7dc31e6fbfc82183bab592efa712c2166f7775"
   },
   "outputs": [
    {
     "data": {
      "text/html": [
       "<div>\n",
       "<style scoped>\n",
       "    .dataframe tbody tr th:only-of-type {\n",
       "        vertical-align: middle;\n",
       "    }\n",
       "\n",
       "    .dataframe tbody tr th {\n",
       "        vertical-align: top;\n",
       "    }\n",
       "\n",
       "    .dataframe thead th {\n",
       "        text-align: right;\n",
       "    }\n",
       "</style>\n",
       "<table border=\"1\" class=\"dataframe\">\n",
       "  <thead>\n",
       "    <tr style=\"text-align: right;\">\n",
       "      <th></th>\n",
       "      <th>Active</th>\n",
       "      <th>x1</th>\n",
       "      <th>pmv1</th>\n",
       "      <th>x2</th>\n",
       "      <th>pmv2</th>\n",
       "      <th>x3</th>\n",
       "      <th>pmv3</th>\n",
       "      <th>x4</th>\n",
       "      <th>pmv4</th>\n",
       "      <th>x5</th>\n",
       "      <th>...</th>\n",
       "      <th>CPCM2</th>\n",
       "      <th>CPCM3</th>\n",
       "      <th>CPCM4</th>\n",
       "      <th>CPCM5</th>\n",
       "      <th>SMD1</th>\n",
       "      <th>SMD2</th>\n",
       "      <th>SMD3</th>\n",
       "      <th>SMD4</th>\n",
       "      <th>SMD5</th>\n",
       "      <th>mol</th>\n",
       "    </tr>\n",
       "  </thead>\n",
       "  <tbody>\n",
       "    <tr>\n",
       "      <th>0</th>\n",
       "      <td>1.0</td>\n",
       "      <td>37.979584</td>\n",
       "      <td>169.997406</td>\n",
       "      <td>52.716610</td>\n",
       "      <td>404.245483</td>\n",
       "      <td>139.412445</td>\n",
       "      <td>140.044617</td>\n",
       "      <td>4.297644</td>\n",
       "      <td>292.944000</td>\n",
       "      <td>28.023092</td>\n",
       "      <td>...</td>\n",
       "      <td>-17.652098</td>\n",
       "      <td>-17.658243</td>\n",
       "      <td>-18.077089</td>\n",
       "      <td>-18.173771</td>\n",
       "      <td>-18.630166</td>\n",
       "      <td>-17.902943</td>\n",
       "      <td>-17.727189</td>\n",
       "      <td>-18.051943</td>\n",
       "      <td>-13.805539</td>\n",
       "      <td>124.0</td>\n",
       "    </tr>\n",
       "    <tr>\n",
       "      <th>1</th>\n",
       "      <td>1.0</td>\n",
       "      <td>75.030350</td>\n",
       "      <td>392.657501</td>\n",
       "      <td>66.645096</td>\n",
       "      <td>792.212769</td>\n",
       "      <td>352.056915</td>\n",
       "      <td>377.674957</td>\n",
       "      <td>-5.893218</td>\n",
       "      <td>358.615875</td>\n",
       "      <td>53.860622</td>\n",
       "      <td>...</td>\n",
       "      <td>-246.975186</td>\n",
       "      <td>-246.992635</td>\n",
       "      <td>-248.209669</td>\n",
       "      <td>-248.498814</td>\n",
       "      <td>-255.605253</td>\n",
       "      <td>-253.338243</td>\n",
       "      <td>-253.019086</td>\n",
       "      <td>-253.484498</td>\n",
       "      <td>-246.509914</td>\n",
       "      <td>92.0</td>\n",
       "    </tr>\n",
       "    <tr>\n",
       "      <th>2</th>\n",
       "      <td>1.0</td>\n",
       "      <td>98.376518</td>\n",
       "      <td>503.202484</td>\n",
       "      <td>100.648026</td>\n",
       "      <td>1057.320680</td>\n",
       "      <td>443.864227</td>\n",
       "      <td>469.030701</td>\n",
       "      <td>-4.093867</td>\n",
       "      <td>533.184204</td>\n",
       "      <td>67.382744</td>\n",
       "      <td>...</td>\n",
       "      <td>-259.339213</td>\n",
       "      <td>-259.391827</td>\n",
       "      <td>-263.072341</td>\n",
       "      <td>-263.950062</td>\n",
       "      <td>-273.414022</td>\n",
       "      <td>-270.356295</td>\n",
       "      <td>-269.974022</td>\n",
       "      <td>-270.638854</td>\n",
       "      <td>-266.865933</td>\n",
       "      <td>1474.0</td>\n",
       "    </tr>\n",
       "    <tr>\n",
       "      <th>3</th>\n",
       "      <td>1.0</td>\n",
       "      <td>92.564079</td>\n",
       "      <td>468.065063</td>\n",
       "      <td>97.910751</td>\n",
       "      <td>993.392273</td>\n",
       "      <td>409.989258</td>\n",
       "      <td>431.859131</td>\n",
       "      <td>-2.538582</td>\n",
       "      <td>517.478821</td>\n",
       "      <td>64.826698</td>\n",
       "      <td>...</td>\n",
       "      <td>-226.473829</td>\n",
       "      <td>-226.524795</td>\n",
       "      <td>-230.154752</td>\n",
       "      <td>-231.040916</td>\n",
       "      <td>-237.615592</td>\n",
       "      <td>-233.523662</td>\n",
       "      <td>-233.145090</td>\n",
       "      <td>-237.488582</td>\n",
       "      <td>-234.084009</td>\n",
       "      <td>254.0</td>\n",
       "    </tr>\n",
       "    <tr>\n",
       "      <th>4</th>\n",
       "      <td>1.0</td>\n",
       "      <td>144.912735</td>\n",
       "      <td>737.176025</td>\n",
       "      <td>135.177597</td>\n",
       "      <td>1464.036380</td>\n",
       "      <td>662.010498</td>\n",
       "      <td>708.867981</td>\n",
       "      <td>-6.710082</td>\n",
       "      <td>714.396484</td>\n",
       "      <td>107.607346</td>\n",
       "      <td>...</td>\n",
       "      <td>-467.541003</td>\n",
       "      <td>-467.590640</td>\n",
       "      <td>-471.131830</td>\n",
       "      <td>-471.997423</td>\n",
       "      <td>-480.366616</td>\n",
       "      <td>-477.067501</td>\n",
       "      <td>-476.496823</td>\n",
       "      <td>-478.700945</td>\n",
       "      <td>-467.515321</td>\n",
       "      <td>8.0</td>\n",
       "    </tr>\n",
       "  </tbody>\n",
       "</table>\n",
       "<p>5 rows × 48 columns</p>\n",
       "</div>"
      ],
      "text/plain": [
       "   Active          x1        pmv1          x2         pmv2          x3  \\\n",
       "0     1.0   37.979584  169.997406   52.716610   404.245483  139.412445   \n",
       "1     1.0   75.030350  392.657501   66.645096   792.212769  352.056915   \n",
       "2     1.0   98.376518  503.202484  100.648026  1057.320680  443.864227   \n",
       "3     1.0   92.564079  468.065063   97.910751   993.392273  409.989258   \n",
       "4     1.0  144.912735  737.176025  135.177597  1464.036380  662.010498   \n",
       "\n",
       "         pmv3        x4        pmv4          x5  ...       CPCM2       CPCM3  \\\n",
       "0  140.044617  4.297644  292.944000   28.023092  ...  -17.652098  -17.658243   \n",
       "1  377.674957 -5.893218  358.615875   53.860622  ... -246.975186 -246.992635   \n",
       "2  469.030701 -4.093867  533.184204   67.382744  ... -259.339213 -259.391827   \n",
       "3  431.859131 -2.538582  517.478821   64.826698  ... -226.473829 -226.524795   \n",
       "4  708.867981 -6.710082  714.396484  107.607346  ... -467.541003 -467.590640   \n",
       "\n",
       "        CPCM4       CPCM5        SMD1        SMD2        SMD3        SMD4  \\\n",
       "0  -18.077089  -18.173771  -18.630166  -17.902943  -17.727189  -18.051943   \n",
       "1 -248.209669 -248.498814 -255.605253 -253.338243 -253.019086 -253.484498   \n",
       "2 -263.072341 -263.950062 -273.414022 -270.356295 -269.974022 -270.638854   \n",
       "3 -230.154752 -231.040916 -237.615592 -233.523662 -233.145090 -237.488582   \n",
       "4 -471.131830 -471.997423 -480.366616 -477.067501 -476.496823 -478.700945   \n",
       "\n",
       "         SMD5     mol  \n",
       "0  -13.805539   124.0  \n",
       "1 -246.509914    92.0  \n",
       "2 -266.865933  1474.0  \n",
       "3 -234.084009   254.0  \n",
       "4 -467.515321     8.0  \n",
       "\n",
       "[5 rows x 48 columns]"
      ]
     },
     "execution_count": 8,
     "metadata": {},
     "output_type": "execute_result"
    }
   ],
   "source": [
    "# Heads\n",
    "data.head()"
   ]
  },
  {
   "cell_type": "code",
   "execution_count": 9,
   "metadata": {
    "_uuid": "7da89c8be02c5d4656e0c406e3c494b24ce48c50",
    "scrolled": false
   },
   "outputs": [
    {
     "data": {
      "text/html": [
       "<div>\n",
       "<style scoped>\n",
       "    .dataframe tbody tr th:only-of-type {\n",
       "        vertical-align: middle;\n",
       "    }\n",
       "\n",
       "    .dataframe tbody tr th {\n",
       "        vertical-align: top;\n",
       "    }\n",
       "\n",
       "    .dataframe thead th {\n",
       "        text-align: right;\n",
       "    }\n",
       "</style>\n",
       "<table border=\"1\" class=\"dataframe\">\n",
       "  <thead>\n",
       "    <tr style=\"text-align: right;\">\n",
       "      <th></th>\n",
       "      <th>Active</th>\n",
       "      <th>x1</th>\n",
       "      <th>pmv1</th>\n",
       "      <th>x2</th>\n",
       "      <th>pmv2</th>\n",
       "      <th>x3</th>\n",
       "      <th>pmv3</th>\n",
       "      <th>x4</th>\n",
       "      <th>pmv4</th>\n",
       "      <th>x5</th>\n",
       "      <th>...</th>\n",
       "      <th>CPCM2</th>\n",
       "      <th>CPCM3</th>\n",
       "      <th>CPCM4</th>\n",
       "      <th>CPCM5</th>\n",
       "      <th>SMD1</th>\n",
       "      <th>SMD2</th>\n",
       "      <th>SMD3</th>\n",
       "      <th>SMD4</th>\n",
       "      <th>SMD5</th>\n",
       "      <th>mol</th>\n",
       "    </tr>\n",
       "  </thead>\n",
       "  <tbody>\n",
       "    <tr>\n",
       "      <th>count</th>\n",
       "      <td>1866.000000</td>\n",
       "      <td>1866.000000</td>\n",
       "      <td>1866.000000</td>\n",
       "      <td>1866.000000</td>\n",
       "      <td>1866.000000</td>\n",
       "      <td>1866.000000</td>\n",
       "      <td>1866.000000</td>\n",
       "      <td>1866.000000</td>\n",
       "      <td>1866.000000</td>\n",
       "      <td>1866.000000</td>\n",
       "      <td>...</td>\n",
       "      <td>1866.000000</td>\n",
       "      <td>1866.000000</td>\n",
       "      <td>1866.000000</td>\n",
       "      <td>1866.000000</td>\n",
       "      <td>1866.000000</td>\n",
       "      <td>1866.000000</td>\n",
       "      <td>1866.000000</td>\n",
       "      <td>1866.000000</td>\n",
       "      <td>1866.000000</td>\n",
       "      <td>1866.000000</td>\n",
       "    </tr>\n",
       "    <tr>\n",
       "      <th>mean</th>\n",
       "      <td>0.770632</td>\n",
       "      <td>50.717953</td>\n",
       "      <td>275.327266</td>\n",
       "      <td>97.975531</td>\n",
       "      <td>1015.342643</td>\n",
       "      <td>436.871471</td>\n",
       "      <td>462.920769</td>\n",
       "      <td>-3.411093</td>\n",
       "      <td>520.581391</td>\n",
       "      <td>66.812629</td>\n",
       "      <td>...</td>\n",
       "      <td>-252.555750</td>\n",
       "      <td>-252.615433</td>\n",
       "      <td>-256.665009</td>\n",
       "      <td>-257.764217</td>\n",
       "      <td>-262.582055</td>\n",
       "      <td>-259.245445</td>\n",
       "      <td>-258.865652</td>\n",
       "      <td>-262.448119</td>\n",
       "      <td>-260.317392</td>\n",
       "      <td>929.540193</td>\n",
       "    </tr>\n",
       "    <tr>\n",
       "      <th>std</th>\n",
       "      <td>0.420539</td>\n",
       "      <td>535.205332</td>\n",
       "      <td>2507.971211</td>\n",
       "      <td>41.215621</td>\n",
       "      <td>395.327608</td>\n",
       "      <td>193.177404</td>\n",
       "      <td>207.159636</td>\n",
       "      <td>2.711284</td>\n",
       "      <td>215.458589</td>\n",
       "      <td>30.858896</td>\n",
       "      <td>...</td>\n",
       "      <td>119.962351</td>\n",
       "      <td>119.976701</td>\n",
       "      <td>121.204281</td>\n",
       "      <td>121.437335</td>\n",
       "      <td>124.384748</td>\n",
       "      <td>121.522503</td>\n",
       "      <td>121.401724</td>\n",
       "      <td>122.661428</td>\n",
       "      <td>122.199318</td>\n",
       "      <td>537.948063</td>\n",
       "    </tr>\n",
       "    <tr>\n",
       "      <th>min</th>\n",
       "      <td>0.000000</td>\n",
       "      <td>-6085.390140</td>\n",
       "      <td>-28468.781200</td>\n",
       "      <td>0.000000</td>\n",
       "      <td>1.814795</td>\n",
       "      <td>0.000000</td>\n",
       "      <td>0.323664</td>\n",
       "      <td>-15.245303</td>\n",
       "      <td>13.591911</td>\n",
       "      <td>-0.941217</td>\n",
       "      <td>...</td>\n",
       "      <td>-1107.615462</td>\n",
       "      <td>-1107.776664</td>\n",
       "      <td>-1119.376836</td>\n",
       "      <td>-1122.244564</td>\n",
       "      <td>-1133.447575</td>\n",
       "      <td>-1123.575656</td>\n",
       "      <td>-1122.273792</td>\n",
       "      <td>-1138.217611</td>\n",
       "      <td>-1130.748096</td>\n",
       "      <td>0.000000</td>\n",
       "    </tr>\n",
       "    <tr>\n",
       "      <th>25%</th>\n",
       "      <td>1.000000</td>\n",
       "      <td>72.538952</td>\n",
       "      <td>371.836265</td>\n",
       "      <td>74.722136</td>\n",
       "      <td>792.198533</td>\n",
       "      <td>330.209076</td>\n",
       "      <td>348.802902</td>\n",
       "      <td>-5.351070</td>\n",
       "      <td>399.202163</td>\n",
       "      <td>49.733242</td>\n",
       "      <td>...</td>\n",
       "      <td>-302.121545</td>\n",
       "      <td>-302.176789</td>\n",
       "      <td>-307.231832</td>\n",
       "      <td>-308.210090</td>\n",
       "      <td>-314.171685</td>\n",
       "      <td>-310.181102</td>\n",
       "      <td>-309.758829</td>\n",
       "      <td>-314.469211</td>\n",
       "      <td>-311.738417</td>\n",
       "      <td>464.250000</td>\n",
       "    </tr>\n",
       "    <tr>\n",
       "      <th>50%</th>\n",
       "      <td>1.000000</td>\n",
       "      <td>91.029713</td>\n",
       "      <td>466.091766</td>\n",
       "      <td>91.540108</td>\n",
       "      <td>968.162994</td>\n",
       "      <td>414.318390</td>\n",
       "      <td>438.220275</td>\n",
       "      <td>-3.393345</td>\n",
       "      <td>485.146759</td>\n",
       "      <td>63.284294</td>\n",
       "      <td>...</td>\n",
       "      <td>-237.491555</td>\n",
       "      <td>-237.553645</td>\n",
       "      <td>-241.668455</td>\n",
       "      <td>-242.431730</td>\n",
       "      <td>-248.199777</td>\n",
       "      <td>-244.128476</td>\n",
       "      <td>-243.797626</td>\n",
       "      <td>-247.073720</td>\n",
       "      <td>-244.224281</td>\n",
       "      <td>929.500000</td>\n",
       "    </tr>\n",
       "    <tr>\n",
       "      <th>75%</th>\n",
       "      <td>1.000000</td>\n",
       "      <td>111.484985</td>\n",
       "      <td>568.437256</td>\n",
       "      <td>111.519054</td>\n",
       "      <td>1170.851285</td>\n",
       "      <td>506.560150</td>\n",
       "      <td>536.786316</td>\n",
       "      <td>-1.635543</td>\n",
       "      <td>590.198120</td>\n",
       "      <td>76.863834</td>\n",
       "      <td>...</td>\n",
       "      <td>-179.405837</td>\n",
       "      <td>-179.444336</td>\n",
       "      <td>-182.572061</td>\n",
       "      <td>-183.578023</td>\n",
       "      <td>-188.856138</td>\n",
       "      <td>-185.789308</td>\n",
       "      <td>-185.440250</td>\n",
       "      <td>-187.581880</td>\n",
       "      <td>-185.976207</td>\n",
       "      <td>1394.750000</td>\n",
       "    </tr>\n",
       "    <tr>\n",
       "      <th>max</th>\n",
       "      <td>1.000000</td>\n",
       "      <td>574.993042</td>\n",
       "      <td>2758.452150</td>\n",
       "      <td>559.031616</td>\n",
       "      <td>5053.585940</td>\n",
       "      <td>2497.807130</td>\n",
       "      <td>2662.668460</td>\n",
       "      <td>16.307638</td>\n",
       "      <td>2984.053960</td>\n",
       "      <td>394.841949</td>\n",
       "      <td>...</td>\n",
       "      <td>146.454563</td>\n",
       "      <td>146.450181</td>\n",
       "      <td>146.129549</td>\n",
       "      <td>146.048671</td>\n",
       "      <td>644.334256</td>\n",
       "      <td>148.820366</td>\n",
       "      <td>148.914701</td>\n",
       "      <td>150.544224</td>\n",
       "      <td>147.974963</td>\n",
       "      <td>1861.000000</td>\n",
       "    </tr>\n",
       "  </tbody>\n",
       "</table>\n",
       "<p>8 rows × 48 columns</p>\n",
       "</div>"
      ],
      "text/plain": [
       "            Active           x1          pmv1           x2         pmv2  \\\n",
       "count  1866.000000  1866.000000   1866.000000  1866.000000  1866.000000   \n",
       "mean      0.770632    50.717953    275.327266    97.975531  1015.342643   \n",
       "std       0.420539   535.205332   2507.971211    41.215621   395.327608   \n",
       "min       0.000000 -6085.390140 -28468.781200     0.000000     1.814795   \n",
       "25%       1.000000    72.538952    371.836265    74.722136   792.198533   \n",
       "50%       1.000000    91.029713    466.091766    91.540108   968.162994   \n",
       "75%       1.000000   111.484985    568.437256   111.519054  1170.851285   \n",
       "max       1.000000   574.993042   2758.452150   559.031616  5053.585940   \n",
       "\n",
       "                x3         pmv3           x4         pmv4           x5  ...  \\\n",
       "count  1866.000000  1866.000000  1866.000000  1866.000000  1866.000000  ...   \n",
       "mean    436.871471   462.920769    -3.411093   520.581391    66.812629  ...   \n",
       "std     193.177404   207.159636     2.711284   215.458589    30.858896  ...   \n",
       "min       0.000000     0.323664   -15.245303    13.591911    -0.941217  ...   \n",
       "25%     330.209076   348.802902    -5.351070   399.202163    49.733242  ...   \n",
       "50%     414.318390   438.220275    -3.393345   485.146759    63.284294  ...   \n",
       "75%     506.560150   536.786316    -1.635543   590.198120    76.863834  ...   \n",
       "max    2497.807130  2662.668460    16.307638  2984.053960   394.841949  ...   \n",
       "\n",
       "             CPCM2        CPCM3        CPCM4        CPCM5         SMD1  \\\n",
       "count  1866.000000  1866.000000  1866.000000  1866.000000  1866.000000   \n",
       "mean   -252.555750  -252.615433  -256.665009  -257.764217  -262.582055   \n",
       "std     119.962351   119.976701   121.204281   121.437335   124.384748   \n",
       "min   -1107.615462 -1107.776664 -1119.376836 -1122.244564 -1133.447575   \n",
       "25%    -302.121545  -302.176789  -307.231832  -308.210090  -314.171685   \n",
       "50%    -237.491555  -237.553645  -241.668455  -242.431730  -248.199777   \n",
       "75%    -179.405837  -179.444336  -182.572061  -183.578023  -188.856138   \n",
       "max     146.454563   146.450181   146.129549   146.048671   644.334256   \n",
       "\n",
       "              SMD2         SMD3         SMD4         SMD5          mol  \n",
       "count  1866.000000  1866.000000  1866.000000  1866.000000  1866.000000  \n",
       "mean   -259.245445  -258.865652  -262.448119  -260.317392   929.540193  \n",
       "std     121.522503   121.401724   122.661428   122.199318   537.948063  \n",
       "min   -1123.575656 -1122.273792 -1138.217611 -1130.748096     0.000000  \n",
       "25%    -310.181102  -309.758829  -314.469211  -311.738417   464.250000  \n",
       "50%    -244.128476  -243.797626  -247.073720  -244.224281   929.500000  \n",
       "75%    -185.789308  -185.440250  -187.581880  -185.976207  1394.750000  \n",
       "max     148.820366   148.914701   150.544224   147.974963  1861.000000  \n",
       "\n",
       "[8 rows x 48 columns]"
      ]
     },
     "execution_count": 9,
     "metadata": {},
     "output_type": "execute_result"
    }
   ],
   "source": [
    "# describe\n",
    "data.describe()"
   ]
  },
  {
   "cell_type": "markdown",
   "metadata": {
    "_uuid": "ec3594e7674d9d28634b2da7e7446598e8377705"
   },
   "source": [
    "# <a id='3'>3. Prepare dataset</a>"
   ]
  },
  {
   "cell_type": "markdown",
   "metadata": {
    "_uuid": "a1dbc3d639be60dd6c79b64722ef56fd90f63f84"
   },
   "source": [
    "## <a id='3.1'>3.1. Define (X,  y)</a>"
   ]
  },
  {
   "cell_type": "markdown",
   "metadata": {
    "_uuid": "0b2489631c8e22b7a2a4b920e2f3d97b09db86c7"
   },
   "source": [
    "* y = diagnosis (target)\n",
    "* X = features (x1, area_se, ....) \n",
    "\n"
   ]
  },
  {
   "cell_type": "code",
   "execution_count": 10,
   "metadata": {},
   "outputs": [
    {
     "data": {
      "text/plain": [
       "0       1.0\n",
       "1       1.0\n",
       "2       1.0\n",
       "3       1.0\n",
       "4       1.0\n",
       "       ... \n",
       "1861    1.0\n",
       "1862    1.0\n",
       "1863    1.0\n",
       "1864    1.0\n",
       "1865    1.0\n",
       "Name: Active, Length: 1866, dtype: float64"
      ]
     },
     "execution_count": 10,
     "metadata": {},
     "output_type": "execute_result"
    }
   ],
   "source": [
    "# Def X and Y\n",
    "y = data.Active\n",
    "X = data.drop('Active', 1)\n",
    "y"
   ]
  },
  {
   "cell_type": "markdown",
   "metadata": {
    "_uuid": "cb43130e98c126bac1482e2032a6302bcd691e75"
   },
   "source": [
    "## <a id='3.2'>3.2. Standard scaler (X)</a>"
   ]
  },
  {
   "cell_type": "code",
   "execution_count": 11,
   "metadata": {
    "_uuid": "472146c22b27a8b6488f37a3540d7c7a032120af"
   },
   "outputs": [
    {
     "data": {
      "text/html": [
       "<div>\n",
       "<style scoped>\n",
       "    .dataframe tbody tr th:only-of-type {\n",
       "        vertical-align: middle;\n",
       "    }\n",
       "\n",
       "    .dataframe tbody tr th {\n",
       "        vertical-align: top;\n",
       "    }\n",
       "\n",
       "    .dataframe thead th {\n",
       "        text-align: right;\n",
       "    }\n",
       "</style>\n",
       "<table border=\"1\" class=\"dataframe\">\n",
       "  <thead>\n",
       "    <tr style=\"text-align: right;\">\n",
       "      <th></th>\n",
       "      <th>x1</th>\n",
       "      <th>pmv1</th>\n",
       "      <th>x2</th>\n",
       "      <th>pmv2</th>\n",
       "      <th>x3</th>\n",
       "      <th>pmv3</th>\n",
       "      <th>x4</th>\n",
       "      <th>pmv4</th>\n",
       "      <th>x5</th>\n",
       "      <th>pmv5</th>\n",
       "      <th>...</th>\n",
       "      <th>CPCM2</th>\n",
       "      <th>CPCM3</th>\n",
       "      <th>CPCM4</th>\n",
       "      <th>CPCM5</th>\n",
       "      <th>SMD1</th>\n",
       "      <th>SMD2</th>\n",
       "      <th>SMD3</th>\n",
       "      <th>SMD4</th>\n",
       "      <th>SMD5</th>\n",
       "      <th>mol</th>\n",
       "    </tr>\n",
       "  </thead>\n",
       "  <tbody>\n",
       "    <tr>\n",
       "      <th>0</th>\n",
       "      <td>-0.023807</td>\n",
       "      <td>-0.042009</td>\n",
       "      <td>-1.098396</td>\n",
       "      <td>-1.546214</td>\n",
       "      <td>-1.540236</td>\n",
       "      <td>-1.559004</td>\n",
       "      <td>2.843967</td>\n",
       "      <td>-1.056808</td>\n",
       "      <td>-1.257334</td>\n",
       "      <td>-1.514019</td>\n",
       "      <td>...</td>\n",
       "      <td>1.958670</td>\n",
       "      <td>1.958882</td>\n",
       "      <td>1.969005</td>\n",
       "      <td>1.973484</td>\n",
       "      <td>1.961794</td>\n",
       "      <td>1.986523</td>\n",
       "      <td>1.986818</td>\n",
       "      <td>1.992979</td>\n",
       "      <td>2.017834</td>\n",
       "      <td>-1.497833</td>\n",
       "    </tr>\n",
       "    <tr>\n",
       "      <th>1</th>\n",
       "      <td>0.045438</td>\n",
       "      <td>0.046795</td>\n",
       "      <td>-0.760363</td>\n",
       "      <td>-0.564569</td>\n",
       "      <td>-0.439168</td>\n",
       "      <td>-0.411608</td>\n",
       "      <td>-0.915725</td>\n",
       "      <td>-0.751926</td>\n",
       "      <td>-0.419830</td>\n",
       "      <td>-0.461466</td>\n",
       "      <td>...</td>\n",
       "      <td>0.046532</td>\n",
       "      <td>0.046878</td>\n",
       "      <td>0.069780</td>\n",
       "      <td>0.076318</td>\n",
       "      <td>0.056106</td>\n",
       "      <td>0.048623</td>\n",
       "      <td>0.048172</td>\n",
       "      <td>0.073096</td>\n",
       "      <td>0.113022</td>\n",
       "      <td>-1.557334</td>\n",
       "    </tr>\n",
       "    <tr>\n",
       "      <th>2</th>\n",
       "      <td>0.089071</td>\n",
       "      <td>0.090885</td>\n",
       "      <td>0.064859</td>\n",
       "      <td>0.106214</td>\n",
       "      <td>0.036208</td>\n",
       "      <td>0.029502</td>\n",
       "      <td>-0.251895</td>\n",
       "      <td>0.058509</td>\n",
       "      <td>0.018480</td>\n",
       "      <td>0.045942</td>\n",
       "      <td>...</td>\n",
       "      <td>-0.056562</td>\n",
       "      <td>-0.056496</td>\n",
       "      <td>-0.052878</td>\n",
       "      <td>-0.050952</td>\n",
       "      <td>-0.087108</td>\n",
       "      <td>-0.091455</td>\n",
       "      <td>-0.091525</td>\n",
       "      <td>-0.066793</td>\n",
       "      <td>-0.053603</td>\n",
       "      <td>1.012376</td>\n",
       "    </tr>\n",
       "    <tr>\n",
       "      <th>3</th>\n",
       "      <td>0.078208</td>\n",
       "      <td>0.076871</td>\n",
       "      <td>-0.001572</td>\n",
       "      <td>-0.055539</td>\n",
       "      <td>-0.139195</td>\n",
       "      <td>-0.149981</td>\n",
       "      <td>0.321893</td>\n",
       "      <td>-0.014404</td>\n",
       "      <td>-0.064372</td>\n",
       "      <td>-0.118558</td>\n",
       "      <td>...</td>\n",
       "      <td>0.217476</td>\n",
       "      <td>0.217523</td>\n",
       "      <td>0.218782</td>\n",
       "      <td>0.220117</td>\n",
       "      <td>0.200773</td>\n",
       "      <td>0.211719</td>\n",
       "      <td>0.211920</td>\n",
       "      <td>0.203538</td>\n",
       "      <td>0.214735</td>\n",
       "      <td>-1.256109</td>\n",
       "    </tr>\n",
       "    <tr>\n",
       "      <th>4</th>\n",
       "      <td>0.176045</td>\n",
       "      <td>0.184202</td>\n",
       "      <td>0.902863</td>\n",
       "      <td>1.135296</td>\n",
       "      <td>1.165765</td>\n",
       "      <td>1.187553</td>\n",
       "      <td>-1.217089</td>\n",
       "      <td>0.899788</td>\n",
       "      <td>1.322330</td>\n",
       "      <td>1.176492</td>\n",
       "      <td>...</td>\n",
       "      <td>-1.792586</td>\n",
       "      <td>-1.792288</td>\n",
       "      <td>-1.769940</td>\n",
       "      <td>-1.764619</td>\n",
       "      <td>-1.751364</td>\n",
       "      <td>-1.792923</td>\n",
       "      <td>-1.793134</td>\n",
       "      <td>-1.763479</td>\n",
       "      <td>-1.696028</td>\n",
       "      <td>-1.713525</td>\n",
       "    </tr>\n",
       "    <tr>\n",
       "      <th>...</th>\n",
       "      <td>...</td>\n",
       "      <td>...</td>\n",
       "      <td>...</td>\n",
       "      <td>...</td>\n",
       "      <td>...</td>\n",
       "      <td>...</td>\n",
       "      <td>...</td>\n",
       "      <td>...</td>\n",
       "      <td>...</td>\n",
       "      <td>...</td>\n",
       "      <td>...</td>\n",
       "      <td>...</td>\n",
       "      <td>...</td>\n",
       "      <td>...</td>\n",
       "      <td>...</td>\n",
       "      <td>...</td>\n",
       "      <td>...</td>\n",
       "      <td>...</td>\n",
       "      <td>...</td>\n",
       "      <td>...</td>\n",
       "      <td>...</td>\n",
       "    </tr>\n",
       "    <tr>\n",
       "      <th>1861</th>\n",
       "      <td>0.104534</td>\n",
       "      <td>0.104249</td>\n",
       "      <td>0.311770</td>\n",
       "      <td>0.289390</td>\n",
       "      <td>0.182085</td>\n",
       "      <td>0.173432</td>\n",
       "      <td>0.231520</td>\n",
       "      <td>0.319560</td>\n",
       "      <td>0.280166</td>\n",
       "      <td>0.203997</td>\n",
       "      <td>...</td>\n",
       "      <td>-0.169623</td>\n",
       "      <td>-0.169431</td>\n",
       "      <td>-0.156856</td>\n",
       "      <td>-0.152883</td>\n",
       "      <td>-0.174424</td>\n",
       "      <td>-0.179800</td>\n",
       "      <td>-0.179446</td>\n",
       "      <td>-0.165630</td>\n",
       "      <td>-0.120521</td>\n",
       "      <td>-1.460644</td>\n",
       "    </tr>\n",
       "    <tr>\n",
       "      <th>1862</th>\n",
       "      <td>0.038403</td>\n",
       "      <td>0.032338</td>\n",
       "      <td>-0.581581</td>\n",
       "      <td>-0.670278</td>\n",
       "      <td>-0.644564</td>\n",
       "      <td>-0.641364</td>\n",
       "      <td>0.775983</td>\n",
       "      <td>-0.566545</td>\n",
       "      <td>-0.498873</td>\n",
       "      <td>-0.639685</td>\n",
       "      <td>...</td>\n",
       "      <td>0.558728</td>\n",
       "      <td>0.558829</td>\n",
       "      <td>0.563316</td>\n",
       "      <td>0.565597</td>\n",
       "      <td>0.563882</td>\n",
       "      <td>0.567121</td>\n",
       "      <td>0.566906</td>\n",
       "      <td>0.572626</td>\n",
       "      <td>0.582533</td>\n",
       "      <td>1.681765</td>\n",
       "    </tr>\n",
       "    <tr>\n",
       "      <th>1863</th>\n",
       "      <td>0.073896</td>\n",
       "      <td>0.075307</td>\n",
       "      <td>-0.339291</td>\n",
       "      <td>-0.205841</td>\n",
       "      <td>-0.107290</td>\n",
       "      <td>-0.086036</td>\n",
       "      <td>-0.613707</td>\n",
       "      <td>-0.361590</td>\n",
       "      <td>-0.057987</td>\n",
       "      <td>-0.131670</td>\n",
       "      <td>...</td>\n",
       "      <td>-0.316690</td>\n",
       "      <td>-0.316444</td>\n",
       "      <td>-0.300096</td>\n",
       "      <td>-0.295379</td>\n",
       "      <td>-0.292172</td>\n",
       "      <td>-0.306974</td>\n",
       "      <td>-0.307400</td>\n",
       "      <td>-0.292163</td>\n",
       "      <td>-0.268674</td>\n",
       "      <td>0.975188</td>\n",
       "    </tr>\n",
       "    <tr>\n",
       "      <th>1864</th>\n",
       "      <td>0.126570</td>\n",
       "      <td>0.130924</td>\n",
       "      <td>0.476720</td>\n",
       "      <td>0.581835</td>\n",
       "      <td>0.520519</td>\n",
       "      <td>0.514703</td>\n",
       "      <td>-0.646652</td>\n",
       "      <td>0.470386</td>\n",
       "      <td>0.512502</td>\n",
       "      <td>0.525767</td>\n",
       "      <td>...</td>\n",
       "      <td>-0.435745</td>\n",
       "      <td>-0.435634</td>\n",
       "      <td>-0.428848</td>\n",
       "      <td>-0.426576</td>\n",
       "      <td>-0.453110</td>\n",
       "      <td>-0.454954</td>\n",
       "      <td>-0.454596</td>\n",
       "      <td>-0.436928</td>\n",
       "      <td>-0.413398</td>\n",
       "      <td>-0.543953</td>\n",
       "    </tr>\n",
       "    <tr>\n",
       "      <th>1865</th>\n",
       "      <td>-0.030703</td>\n",
       "      <td>-0.045889</td>\n",
       "      <td>-1.274711</td>\n",
       "      <td>-1.611334</td>\n",
       "      <td>-1.569017</td>\n",
       "      <td>-1.579842</td>\n",
       "      <td>2.098778</td>\n",
       "      <td>-1.265197</td>\n",
       "      <td>-1.359646</td>\n",
       "      <td>-1.562268</td>\n",
       "      <td>...</td>\n",
       "      <td>1.846538</td>\n",
       "      <td>1.846696</td>\n",
       "      <td>1.853323</td>\n",
       "      <td>1.856937</td>\n",
       "      <td>1.831755</td>\n",
       "      <td>1.856894</td>\n",
       "      <td>1.856790</td>\n",
       "      <td>1.860434</td>\n",
       "      <td>1.883635</td>\n",
       "      <td>-1.538740</td>\n",
       "    </tr>\n",
       "  </tbody>\n",
       "</table>\n",
       "<p>1866 rows × 47 columns</p>\n",
       "</div>"
      ],
      "text/plain": [
       "            x1      pmv1        x2      pmv2        x3      pmv3        x4  \\\n",
       "0    -0.023807 -0.042009 -1.098396 -1.546214 -1.540236 -1.559004  2.843967   \n",
       "1     0.045438  0.046795 -0.760363 -0.564569 -0.439168 -0.411608 -0.915725   \n",
       "2     0.089071  0.090885  0.064859  0.106214  0.036208  0.029502 -0.251895   \n",
       "3     0.078208  0.076871 -0.001572 -0.055539 -0.139195 -0.149981  0.321893   \n",
       "4     0.176045  0.184202  0.902863  1.135296  1.165765  1.187553 -1.217089   \n",
       "...        ...       ...       ...       ...       ...       ...       ...   \n",
       "1861  0.104534  0.104249  0.311770  0.289390  0.182085  0.173432  0.231520   \n",
       "1862  0.038403  0.032338 -0.581581 -0.670278 -0.644564 -0.641364  0.775983   \n",
       "1863  0.073896  0.075307 -0.339291 -0.205841 -0.107290 -0.086036 -0.613707   \n",
       "1864  0.126570  0.130924  0.476720  0.581835  0.520519  0.514703 -0.646652   \n",
       "1865 -0.030703 -0.045889 -1.274711 -1.611334 -1.569017 -1.579842  2.098778   \n",
       "\n",
       "          pmv4        x5      pmv5  ...     CPCM2     CPCM3     CPCM4  \\\n",
       "0    -1.056808 -1.257334 -1.514019  ...  1.958670  1.958882  1.969005   \n",
       "1    -0.751926 -0.419830 -0.461466  ...  0.046532  0.046878  0.069780   \n",
       "2     0.058509  0.018480  0.045942  ... -0.056562 -0.056496 -0.052878   \n",
       "3    -0.014404 -0.064372 -0.118558  ...  0.217476  0.217523  0.218782   \n",
       "4     0.899788  1.322330  1.176492  ... -1.792586 -1.792288 -1.769940   \n",
       "...        ...       ...       ...  ...       ...       ...       ...   \n",
       "1861  0.319560  0.280166  0.203997  ... -0.169623 -0.169431 -0.156856   \n",
       "1862 -0.566545 -0.498873 -0.639685  ...  0.558728  0.558829  0.563316   \n",
       "1863 -0.361590 -0.057987 -0.131670  ... -0.316690 -0.316444 -0.300096   \n",
       "1864  0.470386  0.512502  0.525767  ... -0.435745 -0.435634 -0.428848   \n",
       "1865 -1.265197 -1.359646 -1.562268  ...  1.846538  1.846696  1.853323   \n",
       "\n",
       "         CPCM5      SMD1      SMD2      SMD3      SMD4      SMD5       mol  \n",
       "0     1.973484  1.961794  1.986523  1.986818  1.992979  2.017834 -1.497833  \n",
       "1     0.076318  0.056106  0.048623  0.048172  0.073096  0.113022 -1.557334  \n",
       "2    -0.050952 -0.087108 -0.091455 -0.091525 -0.066793 -0.053603  1.012376  \n",
       "3     0.220117  0.200773  0.211719  0.211920  0.203538  0.214735 -1.256109  \n",
       "4    -1.764619 -1.751364 -1.792923 -1.793134 -1.763479 -1.696028 -1.713525  \n",
       "...        ...       ...       ...       ...       ...       ...       ...  \n",
       "1861 -0.152883 -0.174424 -0.179800 -0.179446 -0.165630 -0.120521 -1.460644  \n",
       "1862  0.565597  0.563882  0.567121  0.566906  0.572626  0.582533  1.681765  \n",
       "1863 -0.295379 -0.292172 -0.306974 -0.307400 -0.292163 -0.268674  0.975188  \n",
       "1864 -0.426576 -0.453110 -0.454954 -0.454596 -0.436928 -0.413398 -0.543953  \n",
       "1865  1.856937  1.831755  1.856894  1.856790  1.860434  1.883635 -1.538740  \n",
       "\n",
       "[1866 rows x 47 columns]"
      ]
     },
     "execution_count": 11,
     "metadata": {},
     "output_type": "execute_result"
    }
   ],
   "source": [
    "# Normalization train data\n",
    "scaler = StandardScaler()\n",
    "X = scaler.fit_transform(X)\n",
    "\n",
    "X= pd.DataFrame(X,columns=headerx)\n",
    "X"
   ]
  },
  {
   "cell_type": "markdown",
   "metadata": {
    "_uuid": "4056bc93ba39efa420595caf47bbc4b234b29467"
   },
   "source": [
    "## <a id='3.3'>3.3. Train test split</a>"
   ]
  },
  {
   "cell_type": "code",
   "execution_count": 12,
   "metadata": {
    "_uuid": "ca7ac96b655e461d1435d8e2610a1035a27b211e"
   },
   "outputs": [],
   "source": [
    "# Train_test split\n",
    "random_state = 42\n",
    "X_train, X_test, y_train, y_test = train_test_split(X, y, test_size = 0.25, random_state = random_state)"
   ]
  },
  {
   "cell_type": "markdown",
   "metadata": {
    "_uuid": "b69f2000f09a3103a5e1e35ddb3f2b422e7d1dfd"
   },
   "source": [
    "# <a id='4'>4. Define functions</a>"
   ]
  },
  {
   "cell_type": "markdown",
   "metadata": {
    "_uuid": "bdfa788ce79a199c10cc11c4ee98444f82eeb981"
   },
   "source": [
    "This part is essential to measure the performance of a model : roc, confusion matrix ..."
   ]
  },
  {
   "cell_type": "markdown",
   "metadata": {
    "_uuid": "b6c37e1a82681670876ce56c0132eb5506ef004f"
   },
   "source": [
    "## <a id='4.1'>4.1. Confusion matrix and show metrics</a>"
   ]
  },
  {
   "cell_type": "markdown",
   "metadata": {
    "_uuid": "952162610d222a1a6918804da75f451f957bcf9a"
   },
   "source": [
    "The confusion matrix, also known as the error matrix, allows visualization of the performance of an algorithm :\n",
    "* true positive (TP) : Malignant tumour correctly identified as malignant\n",
    "* true negative (TN) : Benign tumour correctly identified as benign\n",
    "* false positive (FP) : Benign tumour incorrectly identified as malignant \n",
    "* false negative (FN) : Malignant tumour incorrectly identified as benign\n",
    "\n",
    "Metrics : \n",
    "* Accuracy : (TP +TN) / (TP + TN + FP +FN)\n",
    "* Precision : TP / (TP + FP)\n",
    "* Recall : TP / (TP + FN)\n"
   ]
  },
  {
   "cell_type": "code",
   "execution_count": 13,
   "metadata": {
    "_uuid": "80b76823aa878dabe5bd58d41d4b4ea4187c00c1"
   },
   "outputs": [],
   "source": [
    "# Confusion matrix \n",
    "def plot_confusion_matrix(cm, classes,\n",
    "                          normalize = False,\n",
    "                          title = 'Confusion matrix\"',\n",
    "                          cmap = plt.cm.Blues) :\n",
    "    plt.imshow(cm, interpolation = 'nearest', cmap = cmap)\n",
    "    plt.title(title)\n",
    "    plt.colorbar()\n",
    "    tick_marks = np.arange(len(classes))\n",
    "    plt.xticks(tick_marks, classes, rotation = 0)\n",
    "    plt.yticks(tick_marks, classes)\n",
    "\n",
    "    thresh = cm.max() / 2.\n",
    "    for i, j in itertools.product(range(cm.shape[0]), range(cm.shape[1])) :\n",
    "        plt.text(j, i, cm[i, j],\n",
    "                 horizontalalignment = 'center',\n",
    "                 color = 'white' if cm[i, j] > thresh else 'black')\n",
    "\n",
    "    plt.tight_layout()\n",
    "    plt.ylabel('True label')\n",
    "    plt.xlabel('Predicted label')\n",
    "    \n",
    "# Show metrics \n",
    "def show_metrics():\n",
    "    tp = cm[1,1]\n",
    "    fn = cm[1,0]\n",
    "    fp = cm[0,1]\n",
    "    tn = cm[0,0]\n",
    "    print('Accuracy    =     {:.3f}'.format((tp+tn)/(tp+tn+fp+fn)))\n",
    "    print('Precision   =     {:.3f}'.format(tp/(tp+fp)))\n",
    "    print('Recall      =     {:.3f}'.format(tp/(tp+fn)))\n",
    "    print('Specificity =     {:.3f}'.format(tn/(tn+fp)))\n",
    "    print('F1_score    =     {:.3f}'.format(2*(((tp/(tp+fp))*(tp/(tp+fn)))/\n",
    "                                                 ((tp/(tp+fp))+(tp/(tp+fn))))))"
   ]
  },
  {
   "cell_type": "code",
   "execution_count": 14,
   "metadata": {},
   "outputs": [],
   "source": [
    "def score(y_test, y_pred):\n",
    "    AccScore = accuracy_score(y_test, y_pred)\n",
    "    PrecisionScore = precision_score(y_test, y_pred)\n",
    "    RecallScore = recall_score(y_test, y_pred)\n",
    "    \n",
    "    scoreList=[AccScore,PrecisionScore,RecallScore]\n",
    "    return scoreList"
   ]
  },
  {
   "cell_type": "code",
   "execution_count": 15,
   "metadata": {},
   "outputs": [],
   "source": [
    "# Learning curve\n",
    "def plot_learning_curve(estimator, title, X, y, ylim = None, cv = None,\n",
    "                        n_jobs = 1, train_sizes = np.linspace(.1, 1.0, 5)):\n",
    "    \"\"\"\n",
    "    Plots a learning curve. http://scikit-learn.org/stable/modules/learning_curve.html\n",
    "    \"\"\"\n",
    "    plt.figure()\n",
    "    plt.title(title)\n",
    "    if ylim is not None:\n",
    "        plt.ylim(*ylim)\n",
    "    plt.xlabel('Training examples')\n",
    "    plt.ylabel('Score')\n",
    "    train_sizes, train_scores, test_scores = learning_curve(\n",
    "        estimator, X, y, cv = cv, n_jobs = n_jobs, train_sizes = train_sizes)\n",
    "    train_scores_mean = np.mean(train_scores, axis = 1)\n",
    "    train_scores_std = np.std(train_scores, axis = 1)\n",
    "    test_scores_mean = np.mean(test_scores, axis = 1)\n",
    "    test_scores_std = np.std(test_scores, axis = 1)\n",
    "    plt.grid()\n",
    "    plt.fill_between(train_sizes, train_scores_mean - train_scores_std,\n",
    "                     train_scores_mean + train_scores_std, alpha=0.1,\n",
    "                     color=\"r\")\n",
    "    plt.fill_between(train_sizes, test_scores_mean - test_scores_std,\n",
    "                     test_scores_mean + test_scores_std, alpha = 0.1, color = \"g\")\n",
    "    plt.plot(train_sizes, train_scores_mean, 'o-', color = \"r\",\n",
    "             label = \"Training score\")\n",
    "    plt.plot(train_sizes, test_scores_mean, 'o-', color = \"g\",\n",
    "             label = \"Cross-validation score\")\n",
    "    plt.legend(loc = \"best\")\n",
    "    return plt"
   ]
  },
  {
   "cell_type": "markdown",
   "metadata": {
    "_uuid": "a915b365812fd0f98cf0e8b18ad540015f8380f7"
   },
   "source": [
    "## <a id='4.2'>4.2. ROC curve</a>"
   ]
  },
  {
   "cell_type": "markdown",
   "metadata": {
    "_uuid": "b4beae272e3956bbd5db2a301a8019c60da44715"
   },
   "source": [
    "The ROC curve is created by plotting the true positive rate (TPR) against the false positive rate (FPR) at various threshold settings."
   ]
  },
  {
   "cell_type": "code",
   "execution_count": 16,
   "metadata": {
    "_uuid": "665e1e5ac0614dddb64aaa06204cdb1788fe2692"
   },
   "outputs": [],
   "source": [
    "# ROC curve\n",
    "def plot_roc():\n",
    "    plt.plot(fpr, tpr, label = 'ROC curve', linewidth = 2)\n",
    "    plt.plot([0,1],[0,1], 'k--', linewidth = 2)\n",
    "   # plt.xlim([0.0,0.001])\n",
    "   # plt.ylim([0.0,1.05])\n",
    "    plt.xlabel('False Positive Rate')\n",
    "    plt.ylabel('True Positive Rate')\n",
    "    plt.title('ROC Curve')\n",
    "    plt.show();"
   ]
  },
  {
   "cell_type": "markdown",
   "metadata": {
    "_uuid": "e3a0ca7396cbd4a8ccb27165f9d23897579d49f0"
   },
   "source": [
    " # <a id='5'>5. Predictive model : Gradient Boosting</a>"
   ]
  },
  {
   "cell_type": "code",
   "execution_count": 17,
   "metadata": {},
   "outputs": [
    {
     "data": {
      "image/png": "[encoded data removed]",
      "text/plain": [
       "<Figure size 432x288 with 2 Axes>"
      ]
     },
     "metadata": {
      "needs_background": "light"
     },
     "output_type": "display_data"
    },
    {
     "name": "stdout",
     "output_type": "stream",
     "text": [
      "Accuracy    =     0.916\n",
      "Precision   =     0.917\n",
      "Recall      =     0.977\n",
      "Specificity =     0.730\n",
      "F1_score    =     0.946\n"
     ]
    }
   ],
   "source": [
    "gbc = GradientBoostingClassifier()\n",
    "\n",
    "gbc=gbc.fit(X_train, y_train)\n",
    "\n",
    "y_pred = gbc.predict(X_test)\n",
    "#y_score = gbc.decision_function(X_test)\n",
    "# Confusion maxtrix & metrics\n",
    "cm = confusion_matrix(y_test, y_pred)\n",
    "class_names = [0,1]\n",
    "plt.figure()\n",
    "plot_confusion_matrix(cm, \n",
    "                      classes=class_names, \n",
    "                      title='Gradient Boosting  matrix')\n",
    "\n",
    "plt.show()\n",
    "\n",
    "show_metrics()\n",
    "gbc_score=score(y_test, y_pred)\n"
   ]
  },
  {
   "cell_type": "markdown",
   "metadata": {
    "_uuid": "e45f5dc5ab13f247cbfe065699528babc753f27e"
   },
   "source": [
    "## <a id='5.1'>5.1.  Gradient Boosting  and GridSearch CV to optimise hyperparameters </a>"
   ]
  },
  {
   "cell_type": "markdown",
   "metadata": {
    "_uuid": "fcca7ed0c1c44fb512ac307b61a2f9bbed94d199"
   },
   "source": [
    "# Find the best parameters \n",
    "gbc =  GradientBoostingClassifier() \n",
    "\n",
    "parameters = {'learning_rate': [0.01,0.02,0.03],\n",
    "                  'subsample'    : [0.9, 0.5, 0.2],\n",
    "                  'n_estimators' : [100,500,1000],\n",
    "                  'max_depth'    : [4,6,8]\n",
    "                 }\n",
    "\n",
    "CV_gbc = GridSearchCV(estimator = gbc, param_grid = parameters ,  cv = 2, n_jobs=-1)\n",
    "CV_gbc.fit(X_train, y_train)\n",
    "\n",
    "best_parameters = CV_GBC.best_params_\n",
    "print(\"\\n The best score across ALL searched params:\\n\",CV_GBC.best_score_)\n",
    "print('The best parameters for using this model is', best_parameters)"
   ]
  },
  {
   "cell_type": "markdown",
   "metadata": {
    "_uuid": "d7179004ca27934995154f2c697f389cefeaef3b"
   },
   "source": [
    "###### Log with best hyperparameters\n",
    "CV_gbc = GradientBoostingClassifier(learning_rate = best_parameters['learning_rate'], \n",
    "                               max_depth = best_parameters['max_depth'], \n",
    "                                n_estimators = best_parameters['n_estimators'], \n",
    "                                 subsample = best_parameters['subsample'])\n",
    "\n",
    "\n",
    "CV_gbc.fit(X_train, y_train)\n",
    "y_pred = CV_gbc.predict(X_test)\n",
    "y_score = CV_gbc.decision_function(X_test)\n",
    "\n",
    "#### Confusion maxtrix & metrics\n",
    "cm = confusion_matrix(y_test, y_pred)\n",
    "class_names = [0,1]\n",
    "plt.figure()\n",
    "plot_confusion_matrix(cm, \n",
    "                      classes=class_names, \n",
    "                      title='Gradient Boosting  matrix')\n",
    "\n",
    "plt.show()\n",
    "\n",
    "show_metrics()\n",
    "CV_gbc_score=score(y_test, y_pred)\n",
    "##### ROC curve\n",
    "fpr, tpr, t = roc_curve(y_test, y_score)\n",
    "plot_roc()"
   ]
  },
  {
   "cell_type": "markdown",
   "metadata": {
    "_uuid": "e45f5dc5ab13f247cbfe065699528babc753f27e"
   },
   "source": [
    "## <a id='5.2'>5.2.  Gradient Boosting  and Feature Selection </a>"
   ]
  },
  {
   "cell_type": "code",
   "execution_count": 18,
   "metadata": {},
   "outputs": [],
   "source": [
    "from sklearn.feature_selection import SelectFromModel\n",
    "from sklearn.ensemble import RandomForestClassifier"
   ]
  },
  {
   "cell_type": "code",
   "execution_count": 19,
   "metadata": {},
   "outputs": [
    {
     "name": "stdout",
     "output_type": "stream",
     "text": [
      "X Shape is  (1399, 11)\n",
      "Selected Features are :  [False False  True False False False  True  True False False False False\n",
      " False  True False False False False False  True False  True  True  True\n",
      " False False False False  True  True False False False False False False\n",
      " False False False False False False False False False False  True]\n"
     ]
    }
   ],
   "source": [
    "sel = SelectFromModel(RandomForestClassifier(),max_features = 11) \n",
    "sel.fit(X, y)\n",
    "X_train_new = sel.transform(X_train)\n",
    "X_test_new = sel.transform(X_test)\n",
    "print('X Shape is ' , X_train_new.shape)\n",
    "print('Selected Features are : ' , sel.get_support())"
   ]
  },
  {
   "cell_type": "code",
   "execution_count": 20,
   "metadata": {},
   "outputs": [
    {
     "data": {
      "image/png": "[encoded data removed]",
      "text/plain": [
       "<Figure size 432x288 with 2 Axes>"
      ]
     },
     "metadata": {
      "needs_background": "light"
     },
     "output_type": "display_data"
    },
    {
     "name": "stdout",
     "output_type": "stream",
     "text": [
      "Accuracy    =     0.908\n",
      "Precision   =     0.919\n",
      "Recall      =     0.963\n",
      "Specificity =     0.739\n",
      "F1_score    =     0.940\n"
     ]
    },
    {
     "data": {
      "image/png": "[encoded data removed]",
      "text/plain": [
       "<Figure size 432x288 with 1 Axes>"
      ]
     },
     "metadata": {
      "needs_background": "light"
     },
     "output_type": "display_data"
    }
   ],
   "source": [
    "gbc = GradientBoostingClassifier()\n",
    "\n",
    "gbc=gbc.fit(X_train_new, y_train)\n",
    "\n",
    "y_pred = gbc.predict(X_test_new)\n",
    "y_score = gbc.decision_function(X_test_new)\n",
    "# Confusion maxtrix & metrics\n",
    "cm = confusion_matrix(y_test, y_pred)\n",
    "class_names = [0,1]\n",
    "plt.figure()\n",
    "plot_confusion_matrix(cm, \n",
    "                      classes=class_names, \n",
    "                      title='Gradient Boosting  matrix')\n",
    "\n",
    "plt.show()\n",
    "\n",
    "show_metrics()\n",
    "gbc_sel_score=score(y_test, y_pred)\n",
    "# ROC curve\n",
    "fpr, tpr, t = roc_curve(y_test, y_score)\n",
    "gbc_roc=plot_roc()\n",
    "gbc_roc"
   ]
  },
  {
   "cell_type": "markdown",
   "metadata": {
    "_uuid": "de6ad8bba144fad0f695b83e204f4594fce7e216"
   },
   "source": [
    "## <a > Gradient Boosting Models performance plot (accuracy, precision, recall)</a>"
   ]
  },
  {
   "cell_type": "code",
   "execution_count": 21,
   "metadata": {},
   "outputs": [
    {
     "data": {
      "text/plain": [
       "[0.9164882226980728, 0.9173333333333333, 0.9772727272727273]"
      ]
     },
     "execution_count": 21,
     "metadata": {},
     "output_type": "execute_result"
    }
   ],
   "source": [
    "gbc_score"
   ]
  },
  {
   "cell_type": "code",
   "execution_count": 22,
   "metadata": {},
   "outputs": [
    {
     "data": {
      "text/plain": [
       "[0.9079229122055674, 0.9186991869918699, 0.9630681818181818]"
      ]
     },
     "execution_count": 22,
     "metadata": {},
     "output_type": "execute_result"
    }
   ],
   "source": [
    "gbc_sel_score"
   ]
  },
  {
   "cell_type": "code",
   "execution_count": 23,
   "metadata": {
    "_uuid": "5003dd3cfeb323cdb1d563bd751b9b33554769a0"
   },
   "outputs": [
    {
     "data": {
      "image/png": "[encoded data removed]",
      "text/plain": [
       "<Figure size 1080x720 with 1 Axes>"
      ]
     },
     "metadata": {
      "needs_background": "light"
     },
     "output_type": "display_data"
    }
   ],
   "source": [
    "models_metrics = {'GBC': gbc_score,\n",
    "                \n",
    "                 'gbc_sel' : gbc_sel_score,\n",
    "                }\n",
    "df = pd.DataFrame(data = models_metrics)\n",
    "df.rename(index={0:'Accuracy',1:'Precision', 2: 'Recall'}, \n",
    "                 inplace=True)\n",
    "ax = df.plot(kind='bar', figsize = (15,10), ylim = (0.80, 1), \n",
    "        color = ['gold', 'lightgreen'],\n",
    "        rot = 0, title ='Models performance (cross val mean)',\n",
    "        edgecolor = 'grey', alpha = 0.5)\n",
    "for p in ax.patches:\n",
    "    ax.annotate(str(p.get_height()), (p.get_x() * 1.01, p.get_height() * 1.0005))\n",
    "plt.show()"
   ]
  },
  {
   "cell_type": "markdown",
   "metadata": {
    "_uuid": "de6ad8bba144fad0f695b83e204f4594fce7e216"
   },
   "source": [
    "## <a id='6'>6. Predictive model 2 : Logistic Regression </a>"
   ]
  },
  {
   "cell_type": "code",
   "execution_count": 24,
   "metadata": {},
   "outputs": [],
   "source": [
    "from sklearn.linear_model import LogisticRegression"
   ]
  },
  {
   "cell_type": "code",
   "execution_count": 25,
   "metadata": {},
   "outputs": [
    {
     "data": {
      "image/png": "[encoded data removed]",
      "text/plain": [
       "<Figure size 432x288 with 2 Axes>"
      ]
     },
     "metadata": {
      "needs_background": "light"
     },
     "output_type": "display_data"
    },
    {
     "name": "stdout",
     "output_type": "stream",
     "text": [
      "Accuracy    =     0.882\n",
      "Precision   =     0.884\n",
      "Recall      =     0.972\n",
      "Specificity =     0.609\n",
      "F1_score    =     0.926\n"
     ]
    },
    {
     "data": {
      "image/png": "[encoded data removed]",
      "text/plain": [
       "<Figure size 432x288 with 1 Axes>"
      ]
     },
     "metadata": {
      "needs_background": "light"
     },
     "output_type": "display_data"
    }
   ],
   "source": [
    "log = LogisticRegression()\n",
    "\n",
    "log=log.fit(X_train, y_train)\n",
    "\n",
    "y_pred = log.predict(X_test)\n",
    "y_score = log.decision_function(X_test)\n",
    "# Confusion maxtrix & metrics\n",
    "cm = confusion_matrix(y_test, y_pred)\n",
    "class_names = [0,1]\n",
    "plt.figure()\n",
    "plot_confusion_matrix(cm, \n",
    "                      classes=class_names, \n",
    "                      title='Logistic Confusion matrix')\n",
    "\n",
    "plt.show()\n",
    "\n",
    "show_metrics()\n",
    "log_score=score(y_test, y_pred)\n",
    "# ROC curve\n",
    "fpr, tpr, t = roc_curve(y_test, y_score)\n",
    "log_roc=plot_roc()\n",
    "log_roc"
   ]
  },
  {
   "cell_type": "markdown",
   "metadata": {},
   "source": [
    "### <a id='6.1'>6.1. Logistic Regression  and GridSearch CV to optimise hyperparameters </a>\n"
   ]
  },
  {
   "cell_type": "code",
   "execution_count": 26,
   "metadata": {},
   "outputs": [
    {
     "name": "stdout",
     "output_type": "stream",
     "text": [
      "Fitting 3 folds for each of 14 candidates, totalling 42 fits\n"
     ]
    },
    {
     "name": "stderr",
     "output_type": "stream",
     "text": [
      "[Parallel(n_jobs=-1)]: Using backend LokyBackend with 4 concurrent workers.\n"
     ]
    },
    {
     "name": "stdout",
     "output_type": "stream",
     "text": [
      "The best parameters for using this model is {'C': 1000, 'penalty': 'l2'}\n"
     ]
    },
    {
     "name": "stderr",
     "output_type": "stream",
     "text": [
      "[Parallel(n_jobs=-1)]: Done  42 out of  42 | elapsed:    3.5s finished\n"
     ]
    }
   ],
   "source": [
    "# Find the best parameters (recall)\n",
    "log_cv = LogisticRegression(random_state = random_state)\n",
    "param_grid = {\n",
    "            'penalty' : ['l2','l1'],  \n",
    "            'C' : [0.001, 0.01, 0.1, 1, 10, 100, 1000]\n",
    "            }\n",
    "\n",
    "CV_log = GridSearchCV(estimator = log_cv, param_grid = param_grid ,cv=3,  verbose = 1, n_jobs = -1)\n",
    "CV_log.fit(X_train, y_train)\n",
    "\n",
    "best_parameters = CV_log.best_params_\n",
    "print('The best parameters for using this model is', best_parameters)"
   ]
  },
  {
   "cell_type": "code",
   "execution_count": 27,
   "metadata": {},
   "outputs": [
    {
     "data": {
      "image/png": "[encoded data removed]",
      "text/plain": [
       "<Figure size 432x288 with 2 Axes>"
      ]
     },
     "metadata": {
      "needs_background": "light"
     },
     "output_type": "display_data"
    },
    {
     "name": "stdout",
     "output_type": "stream",
     "text": [
      "Accuracy    =     0.880\n",
      "Precision   =     0.881\n",
      "Recall      =     0.972\n",
      "Specificity =     0.600\n",
      "F1_score    =     0.924\n"
     ]
    },
    {
     "data": {
      "image/png": "[encoded data removed]",
      "text/plain": [
       "<Figure size 432x288 with 1 Axes>"
      ]
     },
     "metadata": {
      "needs_background": "light"
     },
     "output_type": "display_data"
    }
   ],
   "source": [
    "#Log with best hyperparameters\n",
    "CV_log = LogisticRegression(C = best_parameters['C'], \n",
    "                                penalty = best_parameters['penalty'], \n",
    "                                random_state = random_state)\n",
    "\n",
    "CV_log.fit(X_train, y_train)\n",
    "y_pred = CV_log.predict(X_test)\n",
    "y_score = CV_log.decision_function(X_test)\n",
    "\n",
    "# Confusion maxtrix & metrics\n",
    "cm = confusion_matrix(y_test, y_pred)\n",
    "class_names = [0,1]\n",
    "plt.figure()\n",
    "plot_confusion_matrix(cm, \n",
    "                      classes=class_names, \n",
    "                      title='Logistic Confusion matrix')\n",
    "\n",
    "plt.show()\n",
    "\n",
    "show_metrics()\n",
    "CV_log_score=score(y_test, y_pred)\n",
    "# ROC curve\n",
    "fpr, tpr, t = roc_curve(y_test, y_score)\n",
    "plot_roc()"
   ]
  },
  {
   "cell_type": "markdown",
   "metadata": {},
   "source": [
    "### <a >6.2. Logistic Regression  and Feature Selection </a>"
   ]
  },
  {
   "cell_type": "code",
   "execution_count": 28,
   "metadata": {},
   "outputs": [
    {
     "name": "stdout",
     "output_type": "stream",
     "text": [
      "X Shape is  (1399, 11)\n",
      "Selected Features are :  [False False  True  True False False  True  True False False False False\n",
      " False  True False False False False False  True False  True  True  True\n",
      " False False False False  True  True False False False False False False\n",
      " False False False False False False False False False False False]\n"
     ]
    }
   ],
   "source": [
    "sel = SelectFromModel(RandomForestClassifier(),max_features = 11) \n",
    "sel.fit(X, y)\n",
    "X_train_new = sel.transform(X_train)\n",
    "X_test_new = sel.transform(X_test)\n",
    "print('X Shape is ' , X_train_new.shape)\n",
    "print('Selected Features are : ' , sel.get_support())"
   ]
  },
  {
   "cell_type": "code",
   "execution_count": 29,
   "metadata": {},
   "outputs": [
    {
     "data": {
      "image/png": "[encoded data removed]",
      "text/plain": [
       "<Figure size 432x288 with 2 Axes>"
      ]
     },
     "metadata": {
      "needs_background": "light"
     },
     "output_type": "display_data"
    },
    {
     "name": "stdout",
     "output_type": "stream",
     "text": [
      "Accuracy    =     0.882\n",
      "Precision   =     0.876\n",
      "Recall      =     0.983\n",
      "Specificity =     0.574\n",
      "F1_score    =     0.926\n"
     ]
    }
   ],
   "source": [
    "log = LogisticRegression()\n",
    "\n",
    "log=log.fit(X_train_new, y_train)\n",
    "\n",
    "y_pred = log.predict(X_test_new)\n",
    "y_score = log.decision_function(X_test_new)\n",
    "# Confusion maxtrix & metrics\n",
    "cm = confusion_matrix(y_test, y_pred)\n",
    "class_names = [0,1]\n",
    "plt.figure()\n",
    "plot_confusion_matrix(cm, \n",
    "                      classes=class_names, \n",
    "                      title='Logistic Confusion matrix')\n",
    "\n",
    "plt.show()\n",
    "\n",
    "show_metrics()\n",
    "log_sel_score=score(y_test, y_pred)\n",
    "# ROC curve\n",
    "#fpr, tpr, t = roc_curve(y_test, y_score)\n",
    "#plot_roc()\n"
   ]
  },
  {
   "cell_type": "markdown",
   "metadata": {},
   "source": [
    "### <a >6.3 Logistic Models performance plot (accuracy, precision, recall)</a>"
   ]
  },
  {
   "cell_type": "code",
   "execution_count": 30,
   "metadata": {},
   "outputs": [
    {
     "data": {
      "text/plain": [
       "[0.8822269807280514, 0.8837209302325582, 0.9715909090909091]"
      ]
     },
     "execution_count": 30,
     "metadata": {},
     "output_type": "execute_result"
    }
   ],
   "source": [
    "log_score"
   ]
  },
  {
   "cell_type": "code",
   "execution_count": 31,
   "metadata": {},
   "outputs": [
    {
     "data": {
      "text/plain": [
       "[0.880085653104925, 0.8814432989690721, 0.9715909090909091]"
      ]
     },
     "execution_count": 31,
     "metadata": {},
     "output_type": "execute_result"
    }
   ],
   "source": [
    "CV_log_score"
   ]
  },
  {
   "cell_type": "code",
   "execution_count": 32,
   "metadata": {},
   "outputs": [
    {
     "data": {
      "text/plain": [
       "[0.8822269807280514, 0.8759493670886076, 0.9829545454545454]"
      ]
     },
     "execution_count": 32,
     "metadata": {},
     "output_type": "execute_result"
    }
   ],
   "source": [
    "log_sel_score"
   ]
  },
  {
   "cell_type": "code",
   "execution_count": 33,
   "metadata": {},
   "outputs": [
    {
     "data": {
      "image/png": "[encoded data removed]",
      "text/plain": [
       "<Figure size 1080x720 with 1 Axes>"
      ]
     },
     "metadata": {
      "needs_background": "light"
     },
     "output_type": "display_data"
    }
   ],
   "source": [
    "models_metrics = {'LOG': log_score,\n",
    "                 'CV_log' : CV_log_score,\n",
    "                 'log_sel' : log_sel_score,\n",
    "                }\n",
    "df = pd.DataFrame(data = models_metrics)\n",
    "df.rename(index={0:'Accuracy',1:'Precision', 2: 'Recall'}, \n",
    "                 inplace=True)\n",
    "ax = df.plot(kind='bar', figsize = (15,10), ylim = (0.80, 1), \n",
    "        color = ['gold','lightcoral', 'lightgreen'],\n",
    "        rot = 0, title ='Models performance (cross val mean)',\n",
    "        edgecolor = 'grey', alpha = 0.5)\n",
    "for p in ax.patches:\n",
    "    ax.annotate(str(p.get_height()), (p.get_x() * 1.01, p.get_height() * 1.0005))\n",
    "plt.show()"
   ]
  },
  {
   "cell_type": "markdown",
   "metadata": {
    "_uuid": "de6ad8bba144fad0f695b83e204f4594fce7e216"
   },
   "source": [
    "## <a id='7'>7. Predictive model 3 :Decision Tree Classifier </a>"
   ]
  },
  {
   "cell_type": "code",
   "execution_count": 34,
   "metadata": {},
   "outputs": [],
   "source": [
    "from sklearn.tree import DecisionTreeClassifier"
   ]
  },
  {
   "cell_type": "markdown",
   "metadata": {},
   "source": [
    "### >DecisionTreeClassifier & Naive Bayes(GaussianNB)"
   ]
  },
  {
   "cell_type": "code",
   "execution_count": 35,
   "metadata": {},
   "outputs": [
    {
     "data": {
      "image/png": "[encoded data removed]",
      "text/plain": [
       "<Figure size 432x288 with 2 Axes>"
      ]
     },
     "metadata": {
      "needs_background": "light"
     },
     "output_type": "display_data"
    },
    {
     "name": "stdout",
     "output_type": "stream",
     "text": [
      "Accuracy    =     0.863\n",
      "Precision   =     0.900\n",
      "Recall      =     0.920\n",
      "Specificity =     0.687\n",
      "F1_score    =     0.910\n",
      "[0.8629550321199143, 0.9, 0.9204545454545454]\n"
     ]
    },
    {
     "data": {
      "image/png": "[encoded data removed]",
      "text/plain": [
       "<Figure size 432x288 with 1 Axes>"
      ]
     },
     "metadata": {
      "needs_background": "light"
     },
     "output_type": "display_data"
    }
   ],
   "source": [
    "Dtree= DecisionTreeClassifier()\n",
    "# NB_=GaussianNB()\n",
    "\n",
    "# Dtree=DtreeingClassifier(estimators=[('Dtree',Dtree_),('NB',NB_)])\n",
    "Dtree.fit(X_train, y_train)\n",
    "\n",
    "y_pred = Dtree.predict(X_test)\n",
    "\n",
    "# Confusion maxtrix & metrics\n",
    "cm = confusion_matrix(y_test, y_pred)\n",
    "class_names = [0,1]\n",
    "plt.figure()\n",
    "plot_confusion_matrix(cm, \n",
    "                      classes=class_names, \n",
    "                      title='Decision Tree Confusion matrix')\n",
    "#plt.savefig('6')\n",
    "plt.show()\n",
    "\n",
    "show_metrics()\n",
    "Dtree_score=score(y_test, y_pred)\n",
    "print(Dtree_score)\n",
    "# ROC curve\n",
    "fpr, tpr, t = roc_curve(y_test, y_score)\n",
    "Dtree_roc=plot_roc()\n",
    "Dtree_roc"
   ]
  },
  {
   "cell_type": "markdown",
   "metadata": {
    "_uuid": "de6ad8bba144fad0f695b83e204f4594fce7e216"
   },
   "source": [
    "## <a id='8'>8. Predictive model 4 : Support Vector Machine(svc) </a>"
   ]
  },
  {
   "cell_type": "code",
   "execution_count": 36,
   "metadata": {},
   "outputs": [],
   "source": [
    "from sklearn.svm import SVC"
   ]
  },
  {
   "cell_type": "code",
   "execution_count": 37,
   "metadata": {},
   "outputs": [
    {
     "data": {
      "image/png": "[encoded data removed]",
      "text/plain": [
       "<Figure size 432x288 with 2 Axes>"
      ]
     },
     "metadata": {
      "needs_background": "light"
     },
     "output_type": "display_data"
    },
    {
     "name": "stdout",
     "output_type": "stream",
     "text": [
      "Accuracy    =     0.891\n",
      "Precision   =     0.889\n",
      "Recall      =     0.977\n",
      "Specificity =     0.626\n",
      "F1_score    =     0.931\n"
     ]
    },
    {
     "data": {
      "image/png": "[encoded data removed]",
      "text/plain": [
       "<Figure size 432x288 with 1 Axes>"
      ]
     },
     "metadata": {
      "needs_background": "light"
     },
     "output_type": "display_data"
    }
   ],
   "source": [
    "svc = SVC()\n",
    "\n",
    "svc=svc.fit(X_train, y_train)\n",
    "\n",
    "y_pred = svc.predict(X_test)\n",
    "y_score = svc.decision_function(X_test)\n",
    "# Confusion maxtrix & metrics\n",
    "cm = confusion_matrix(y_test, y_pred)\n",
    "class_names = [0,1]\n",
    "plt.figure()\n",
    "plot_confusion_matrix(cm, \n",
    "                      classes=class_names, \n",
    "                      title='SVC Confusion matrix')\n",
    "\n",
    "plt.show()\n",
    "\n",
    "show_metrics()\n",
    "svc_score=score(y_test, y_pred)\n",
    "# ROC curve\n",
    "fpr, tpr, t = roc_curve(y_test, y_score)\n",
    "svc_roc=plot_roc()\n",
    "svc_roc"
   ]
  },
  {
   "cell_type": "markdown",
   "metadata": {},
   "source": [
    "### <a id='8.1'>8.1. SVC and GridSearch CV to optimise hyperparameters </a>"
   ]
  },
  {
   "cell_type": "code",
   "execution_count": 38,
   "metadata": {},
   "outputs": [
    {
     "name": "stdout",
     "output_type": "stream",
     "text": [
      "Fitting 5 folds for each of 48 candidates, totalling 240 fits\n",
      "[CV] C=0.1, gamma=1, kernel=rbf ......................................\n",
      "[CV] ....................... C=0.1, gamma=1, kernel=rbf, total=   0.1s\n",
      "[CV] C=0.1, gamma=1, kernel=rbf ......................................\n"
     ]
    },
    {
     "name": "stderr",
     "output_type": "stream",
     "text": [
      "[Parallel(n_jobs=1)]: Using backend SequentialBackend with 1 concurrent workers.\n",
      "[Parallel(n_jobs=1)]: Done   1 out of   1 | elapsed:    0.1s remaining:    0.0s\n"
     ]
    },
    {
     "name": "stdout",
     "output_type": "stream",
     "text": [
      "[CV] ....................... C=0.1, gamma=1, kernel=rbf, total=   0.2s\n",
      "[CV] C=0.1, gamma=1, kernel=rbf ......................................\n",
      "[CV] ....................... C=0.1, gamma=1, kernel=rbf, total=   0.1s\n",
      "[CV] C=0.1, gamma=1, kernel=rbf ......................................\n",
      "[CV] ....................... C=0.1, gamma=1, kernel=rbf, total=   0.2s\n",
      "[CV] C=0.1, gamma=1, kernel=rbf ......................................\n",
      "[CV] ....................... C=0.1, gamma=1, kernel=rbf, total=   0.1s\n",
      "[CV] C=0.1, gamma=1, kernel=poly .....................................\n",
      "[CV] ...................... C=0.1, gamma=1, kernel=poly, total=   0.5s\n",
      "[CV] C=0.1, gamma=1, kernel=poly .....................................\n",
      "[CV] ...................... C=0.1, gamma=1, kernel=poly, total=   0.9s\n",
      "[CV] C=0.1, gamma=1, kernel=poly .....................................\n",
      "[CV] ...................... C=0.1, gamma=1, kernel=poly, total=   1.1s\n",
      "[CV] C=0.1, gamma=1, kernel=poly .....................................\n",
      "[CV] ...................... C=0.1, gamma=1, kernel=poly, total=   1.2s\n",
      "[CV] C=0.1, gamma=1, kernel=poly .....................................\n",
      "[CV] ...................... C=0.1, gamma=1, kernel=poly, total=   0.9s\n",
      "[CV] C=0.1, gamma=1, kernel=sigmoid ..................................\n",
      "[CV] ................... C=0.1, gamma=1, kernel=sigmoid, total=   0.1s\n",
      "[CV] C=0.1, gamma=1, kernel=sigmoid ..................................\n",
      "[CV] ................... C=0.1, gamma=1, kernel=sigmoid, total=   0.1s\n",
      "[CV] C=0.1, gamma=1, kernel=sigmoid ..................................\n",
      "[CV] ................... C=0.1, gamma=1, kernel=sigmoid, total=   0.1s\n",
      "[CV] C=0.1, gamma=1, kernel=sigmoid ..................................\n",
      "[CV] ................... C=0.1, gamma=1, kernel=sigmoid, total=   0.1s\n",
      "[CV] C=0.1, gamma=1, kernel=sigmoid ..................................\n",
      "[CV] ................... C=0.1, gamma=1, kernel=sigmoid, total=   0.1s\n",
      "[CV] C=0.1, gamma=0.1, kernel=rbf ....................................\n",
      "[CV] ..................... C=0.1, gamma=0.1, kernel=rbf, total=   0.1s\n",
      "[CV] C=0.1, gamma=0.1, kernel=rbf ....................................\n",
      "[CV] ..................... C=0.1, gamma=0.1, kernel=rbf, total=   0.1s\n",
      "[CV] C=0.1, gamma=0.1, kernel=rbf ....................................\n",
      "[CV] ..................... C=0.1, gamma=0.1, kernel=rbf, total=   0.1s\n",
      "[CV] C=0.1, gamma=0.1, kernel=rbf ....................................\n",
      "[CV] ..................... C=0.1, gamma=0.1, kernel=rbf, total=   0.1s\n",
      "[CV] C=0.1, gamma=0.1, kernel=rbf ....................................\n",
      "[CV] ..................... C=0.1, gamma=0.1, kernel=rbf, total=   0.1s\n",
      "[CV] C=0.1, gamma=0.1, kernel=poly ...................................\n",
      "[CV] .................... C=0.1, gamma=0.1, kernel=poly, total=   0.1s\n",
      "[CV] C=0.1, gamma=0.1, kernel=poly ...................................\n",
      "[CV] .................... C=0.1, gamma=0.1, kernel=poly, total=   0.1s\n",
      "[CV] C=0.1, gamma=0.1, kernel=poly ...................................\n",
      "[CV] .................... C=0.1, gamma=0.1, kernel=poly, total=   0.1s\n",
      "[CV] C=0.1, gamma=0.1, kernel=poly ...................................\n",
      "[CV] .................... C=0.1, gamma=0.1, kernel=poly, total=   0.1s\n",
      "[CV] C=0.1, gamma=0.1, kernel=poly ...................................\n",
      "[CV] .................... C=0.1, gamma=0.1, kernel=poly, total=   0.1s\n",
      "[CV] C=0.1, gamma=0.1, kernel=sigmoid ................................\n",
      "[CV] ................. C=0.1, gamma=0.1, kernel=sigmoid, total=   0.1s\n",
      "[CV] C=0.1, gamma=0.1, kernel=sigmoid ................................\n",
      "[CV] ................. C=0.1, gamma=0.1, kernel=sigmoid, total=   0.1s\n",
      "[CV] C=0.1, gamma=0.1, kernel=sigmoid ................................\n",
      "[CV] ................. C=0.1, gamma=0.1, kernel=sigmoid, total=   0.1s\n",
      "[CV] C=0.1, gamma=0.1, kernel=sigmoid ................................\n",
      "[CV] ................. C=0.1, gamma=0.1, kernel=sigmoid, total=   0.1s\n",
      "[CV] C=0.1, gamma=0.1, kernel=sigmoid ................................\n",
      "[CV] ................. C=0.1, gamma=0.1, kernel=sigmoid, total=   0.1s\n",
      "[CV] C=0.1, gamma=0.01, kernel=rbf ...................................\n",
      "[CV] .................... C=0.1, gamma=0.01, kernel=rbf, total=   0.1s\n",
      "[CV] C=0.1, gamma=0.01, kernel=rbf ...................................\n",
      "[CV] .................... C=0.1, gamma=0.01, kernel=rbf, total=   0.1s\n",
      "[CV] C=0.1, gamma=0.01, kernel=rbf ...................................\n",
      "[CV] .................... C=0.1, gamma=0.01, kernel=rbf, total=   0.1s\n",
      "[CV] C=0.1, gamma=0.01, kernel=rbf ...................................\n",
      "[CV] .................... C=0.1, gamma=0.01, kernel=rbf, total=   0.1s\n",
      "[CV] C=0.1, gamma=0.01, kernel=rbf ...................................\n",
      "[CV] .................... C=0.1, gamma=0.01, kernel=rbf, total=   0.1s\n",
      "[CV] C=0.1, gamma=0.01, kernel=poly ..................................\n",
      "[CV] ................... C=0.1, gamma=0.01, kernel=poly, total=   0.0s\n",
      "[CV] C=0.1, gamma=0.01, kernel=poly ..................................\n",
      "[CV] ................... C=0.1, gamma=0.01, kernel=poly, total=   0.1s\n",
      "[CV] C=0.1, gamma=0.01, kernel=poly ..................................\n",
      "[CV] ................... C=0.1, gamma=0.01, kernel=poly, total=   0.1s\n",
      "[CV] C=0.1, gamma=0.01, kernel=poly ..................................\n",
      "[CV] ................... C=0.1, gamma=0.01, kernel=poly, total=   0.1s\n",
      "[CV] C=0.1, gamma=0.01, kernel=poly ..................................\n",
      "[CV] ................... C=0.1, gamma=0.01, kernel=poly, total=   0.0s\n",
      "[CV] C=0.1, gamma=0.01, kernel=sigmoid ...............................\n",
      "[CV] ................ C=0.1, gamma=0.01, kernel=sigmoid, total=   0.1s\n",
      "[CV] C=0.1, gamma=0.01, kernel=sigmoid ...............................\n",
      "[CV] ................ C=0.1, gamma=0.01, kernel=sigmoid, total=   0.1s\n",
      "[CV] C=0.1, gamma=0.01, kernel=sigmoid ...............................\n",
      "[CV] ................ C=0.1, gamma=0.01, kernel=sigmoid, total=   0.1s\n",
      "[CV] C=0.1, gamma=0.01, kernel=sigmoid ...............................\n",
      "[CV] ................ C=0.1, gamma=0.01, kernel=sigmoid, total=   0.1s\n",
      "[CV] C=0.1, gamma=0.01, kernel=sigmoid ...............................\n",
      "[CV] ................ C=0.1, gamma=0.01, kernel=sigmoid, total=   0.1s\n",
      "[CV] C=0.1, gamma=0.001, kernel=rbf ..................................\n",
      "[CV] ................... C=0.1, gamma=0.001, kernel=rbf, total=   0.1s\n",
      "[CV] C=0.1, gamma=0.001, kernel=rbf ..................................\n",
      "[CV] ................... C=0.1, gamma=0.001, kernel=rbf, total=   0.1s\n",
      "[CV] C=0.1, gamma=0.001, kernel=rbf ..................................\n",
      "[CV] ................... C=0.1, gamma=0.001, kernel=rbf, total=   0.1s\n",
      "[CV] C=0.1, gamma=0.001, kernel=rbf ..................................\n",
      "[CV] ................... C=0.1, gamma=0.001, kernel=rbf, total=   0.1s\n",
      "[CV] C=0.1, gamma=0.001, kernel=rbf ..................................\n",
      "[CV] ................... C=0.1, gamma=0.001, kernel=rbf, total=   0.1s\n",
      "[CV] C=0.1, gamma=0.001, kernel=poly .................................\n",
      "[CV] .................. C=0.1, gamma=0.001, kernel=poly, total=   0.0s\n",
      "[CV] C=0.1, gamma=0.001, kernel=poly .................................\n",
      "[CV] .................. C=0.1, gamma=0.001, kernel=poly, total=   0.1s\n",
      "[CV] C=0.1, gamma=0.001, kernel=poly .................................\n",
      "[CV] .................. C=0.1, gamma=0.001, kernel=poly, total=   0.1s\n",
      "[CV] C=0.1, gamma=0.001, kernel=poly .................................\n",
      "[CV] .................. C=0.1, gamma=0.001, kernel=poly, total=   0.0s\n",
      "[CV] C=0.1, gamma=0.001, kernel=poly .................................\n",
      "[CV] .................. C=0.1, gamma=0.001, kernel=poly, total=   0.1s\n",
      "[CV] C=0.1, gamma=0.001, kernel=sigmoid ..............................\n",
      "[CV] ............... C=0.1, gamma=0.001, kernel=sigmoid, total=   0.1s\n",
      "[CV] C=0.1, gamma=0.001, kernel=sigmoid ..............................\n",
      "[CV] ............... C=0.1, gamma=0.001, kernel=sigmoid, total=   0.1s\n",
      "[CV] C=0.1, gamma=0.001, kernel=sigmoid ..............................\n",
      "[CV] ............... C=0.1, gamma=0.001, kernel=sigmoid, total=   0.1s\n",
      "[CV] C=0.1, gamma=0.001, kernel=sigmoid ..............................\n",
      "[CV] ............... C=0.1, gamma=0.001, kernel=sigmoid, total=   0.1s\n",
      "[CV] C=0.1, gamma=0.001, kernel=sigmoid ..............................\n",
      "[CV] ............... C=0.1, gamma=0.001, kernel=sigmoid, total=   0.1s\n",
      "[CV] C=1, gamma=1, kernel=rbf ........................................\n",
      "[CV] ......................... C=1, gamma=1, kernel=rbf, total=   0.1s\n",
      "[CV] C=1, gamma=1, kernel=rbf ........................................\n",
      "[CV] ......................... C=1, gamma=1, kernel=rbf, total=   0.2s\n",
      "[CV] C=1, gamma=1, kernel=rbf ........................................\n",
      "[CV] ......................... C=1, gamma=1, kernel=rbf, total=   0.1s\n",
      "[CV] C=1, gamma=1, kernel=rbf ........................................\n",
      "[CV] ......................... C=1, gamma=1, kernel=rbf, total=   0.2s\n",
      "[CV] C=1, gamma=1, kernel=rbf ........................................\n",
      "[CV] ......................... C=1, gamma=1, kernel=rbf, total=   0.2s\n",
      "[CV] C=1, gamma=1, kernel=poly .......................................\n",
      "[CV] ........................ C=1, gamma=1, kernel=poly, total=   0.6s\n",
      "[CV] C=1, gamma=1, kernel=poly .......................................\n",
      "[CV] ........................ C=1, gamma=1, kernel=poly, total=   1.7s\n",
      "[CV] C=1, gamma=1, kernel=poly .......................................\n",
      "[CV] ........................ C=1, gamma=1, kernel=poly, total=   0.9s\n",
      "[CV] C=1, gamma=1, kernel=poly .......................................\n",
      "[CV] ........................ C=1, gamma=1, kernel=poly, total=   0.8s\n",
      "[CV] C=1, gamma=1, kernel=poly .......................................\n",
      "[CV] ........................ C=1, gamma=1, kernel=poly, total=   0.6s\n",
      "[CV] C=1, gamma=1, kernel=sigmoid ....................................\n",
      "[CV] ..................... C=1, gamma=1, kernel=sigmoid, total=   0.1s\n",
      "[CV] C=1, gamma=1, kernel=sigmoid ....................................\n",
      "[CV] ..................... C=1, gamma=1, kernel=sigmoid, total=   0.1s\n",
      "[CV] C=1, gamma=1, kernel=sigmoid ....................................\n",
      "[CV] ..................... C=1, gamma=1, kernel=sigmoid, total=   0.1s\n",
      "[CV] C=1, gamma=1, kernel=sigmoid ....................................\n",
      "[CV] ..................... C=1, gamma=1, kernel=sigmoid, total=   0.1s\n",
      "[CV] C=1, gamma=1, kernel=sigmoid ....................................\n",
      "[CV] ..................... C=1, gamma=1, kernel=sigmoid, total=   0.0s\n",
      "[CV] C=1, gamma=0.1, kernel=rbf ......................................\n",
      "[CV] ....................... C=1, gamma=0.1, kernel=rbf, total=   0.1s\n",
      "[CV] C=1, gamma=0.1, kernel=rbf ......................................\n",
      "[CV] ....................... C=1, gamma=0.1, kernel=rbf, total=   0.1s\n",
      "[CV] C=1, gamma=0.1, kernel=rbf ......................................\n",
      "[CV] ....................... C=1, gamma=0.1, kernel=rbf, total=   0.1s\n",
      "[CV] C=1, gamma=0.1, kernel=rbf ......................................\n",
      "[CV] ....................... C=1, gamma=0.1, kernel=rbf, total=   0.1s\n",
      "[CV] C=1, gamma=0.1, kernel=rbf ......................................\n",
      "[CV] ....................... C=1, gamma=0.1, kernel=rbf, total=   0.1s\n",
      "[CV] C=1, gamma=0.1, kernel=poly .....................................\n",
      "[CV] ...................... C=1, gamma=0.1, kernel=poly, total=   0.1s\n",
      "[CV] C=1, gamma=0.1, kernel=poly .....................................\n",
      "[CV] ...................... C=1, gamma=0.1, kernel=poly, total=   0.2s\n",
      "[CV] C=1, gamma=0.1, kernel=poly .....................................\n",
      "[CV] ...................... C=1, gamma=0.1, kernel=poly, total=   0.1s\n",
      "[CV] C=1, gamma=0.1, kernel=poly .....................................\n",
      "[CV] ...................... C=1, gamma=0.1, kernel=poly, total=   0.1s\n",
      "[CV] C=1, gamma=0.1, kernel=poly .....................................\n",
      "[CV] ...................... C=1, gamma=0.1, kernel=poly, total=   0.1s\n",
      "[CV] C=1, gamma=0.1, kernel=sigmoid ..................................\n",
      "[CV] ................... C=1, gamma=0.1, kernel=sigmoid, total=   0.1s\n",
      "[CV] C=1, gamma=0.1, kernel=sigmoid ..................................\n",
      "[CV] ................... C=1, gamma=0.1, kernel=sigmoid, total=   0.1s\n",
      "[CV] C=1, gamma=0.1, kernel=sigmoid ..................................\n",
      "[CV] ................... C=1, gamma=0.1, kernel=sigmoid, total=   0.1s\n",
      "[CV] C=1, gamma=0.1, kernel=sigmoid ..................................\n",
      "[CV] ................... C=1, gamma=0.1, kernel=sigmoid, total=   0.1s\n",
      "[CV] C=1, gamma=0.1, kernel=sigmoid ..................................\n",
      "[CV] ................... C=1, gamma=0.1, kernel=sigmoid, total=   0.1s\n",
      "[CV] C=1, gamma=0.01, kernel=rbf .....................................\n",
      "[CV] ...................... C=1, gamma=0.01, kernel=rbf, total=   0.1s\n",
      "[CV] C=1, gamma=0.01, kernel=rbf .....................................\n",
      "[CV] ...................... C=1, gamma=0.01, kernel=rbf, total=   0.0s\n",
      "[CV] C=1, gamma=0.01, kernel=rbf .....................................\n",
      "[CV] ...................... C=1, gamma=0.01, kernel=rbf, total=   0.1s\n",
      "[CV] C=1, gamma=0.01, kernel=rbf .....................................\n",
      "[CV] ...................... C=1, gamma=0.01, kernel=rbf, total=   0.1s\n",
      "[CV] C=1, gamma=0.01, kernel=rbf .....................................\n",
      "[CV] ...................... C=1, gamma=0.01, kernel=rbf, total=   0.1s\n",
      "[CV] C=1, gamma=0.01, kernel=poly ....................................\n",
      "[CV] ..................... C=1, gamma=0.01, kernel=poly, total=   0.0s\n",
      "[CV] C=1, gamma=0.01, kernel=poly ....................................\n",
      "[CV] ..................... C=1, gamma=0.01, kernel=poly, total=   0.1s\n",
      "[CV] C=1, gamma=0.01, kernel=poly ....................................\n",
      "[CV] ..................... C=1, gamma=0.01, kernel=poly, total=   0.1s\n",
      "[CV] C=1, gamma=0.01, kernel=poly ....................................\n",
      "[CV] ..................... C=1, gamma=0.01, kernel=poly, total=   0.1s\n",
      "[CV] C=1, gamma=0.01, kernel=poly ....................................\n",
      "[CV] ..................... C=1, gamma=0.01, kernel=poly, total=   0.0s\n",
      "[CV] C=1, gamma=0.01, kernel=sigmoid .................................\n",
      "[CV] .................. C=1, gamma=0.01, kernel=sigmoid, total=   0.0s\n",
      "[CV] C=1, gamma=0.01, kernel=sigmoid .................................\n",
      "[CV] .................. C=1, gamma=0.01, kernel=sigmoid, total=   0.0s\n",
      "[CV] C=1, gamma=0.01, kernel=sigmoid .................................\n",
      "[CV] .................. C=1, gamma=0.01, kernel=sigmoid, total=   0.0s\n",
      "[CV] C=1, gamma=0.01, kernel=sigmoid .................................\n",
      "[CV] .................. C=1, gamma=0.01, kernel=sigmoid, total=   0.1s\n",
      "[CV] C=1, gamma=0.01, kernel=sigmoid .................................\n",
      "[CV] .................. C=1, gamma=0.01, kernel=sigmoid, total=   0.1s\n",
      "[CV] C=1, gamma=0.001, kernel=rbf ....................................\n",
      "[CV] ..................... C=1, gamma=0.001, kernel=rbf, total=   0.1s\n",
      "[CV] C=1, gamma=0.001, kernel=rbf ....................................\n",
      "[CV] ..................... C=1, gamma=0.001, kernel=rbf, total=   0.1s\n",
      "[CV] C=1, gamma=0.001, kernel=rbf ....................................\n",
      "[CV] ..................... C=1, gamma=0.001, kernel=rbf, total=   0.1s\n",
      "[CV] C=1, gamma=0.001, kernel=rbf ....................................\n",
      "[CV] ..................... C=1, gamma=0.001, kernel=rbf, total=   0.1s\n",
      "[CV] C=1, gamma=0.001, kernel=rbf ....................................\n",
      "[CV] ..................... C=1, gamma=0.001, kernel=rbf, total=   0.1s\n",
      "[CV] C=1, gamma=0.001, kernel=poly ...................................\n",
      "[CV] .................... C=1, gamma=0.001, kernel=poly, total=   0.0s\n",
      "[CV] C=1, gamma=0.001, kernel=poly ...................................\n",
      "[CV] .................... C=1, gamma=0.001, kernel=poly, total=   0.1s\n",
      "[CV] C=1, gamma=0.001, kernel=poly ...................................\n",
      "[CV] .................... C=1, gamma=0.001, kernel=poly, total=   0.1s\n",
      "[CV] C=1, gamma=0.001, kernel=poly ...................................\n",
      "[CV] .................... C=1, gamma=0.001, kernel=poly, total=   0.0s\n",
      "[CV] C=1, gamma=0.001, kernel=poly ...................................\n",
      "[CV] .................... C=1, gamma=0.001, kernel=poly, total=   0.1s\n",
      "[CV] C=1, gamma=0.001, kernel=sigmoid ................................\n",
      "[CV] ................. C=1, gamma=0.001, kernel=sigmoid, total=   0.1s\n",
      "[CV] C=1, gamma=0.001, kernel=sigmoid ................................\n",
      "[CV] ................. C=1, gamma=0.001, kernel=sigmoid, total=   0.1s\n",
      "[CV] C=1, gamma=0.001, kernel=sigmoid ................................\n",
      "[CV] ................. C=1, gamma=0.001, kernel=sigmoid, total=   0.1s\n",
      "[CV] C=1, gamma=0.001, kernel=sigmoid ................................\n",
      "[CV] ................. C=1, gamma=0.001, kernel=sigmoid, total=   0.1s\n",
      "[CV] C=1, gamma=0.001, kernel=sigmoid ................................\n",
      "[CV] ................. C=1, gamma=0.001, kernel=sigmoid, total=   0.1s\n",
      "[CV] C=10, gamma=1, kernel=rbf .......................................\n",
      "[CV] ........................ C=10, gamma=1, kernel=rbf, total=   0.2s\n",
      "[CV] C=10, gamma=1, kernel=rbf .......................................\n",
      "[CV] ........................ C=10, gamma=1, kernel=rbf, total=   0.2s\n",
      "[CV] C=10, gamma=1, kernel=rbf .......................................\n",
      "[CV] ........................ C=10, gamma=1, kernel=rbf, total=   0.2s\n",
      "[CV] C=10, gamma=1, kernel=rbf .......................................\n",
      "[CV] ........................ C=10, gamma=1, kernel=rbf, total=   0.2s\n",
      "[CV] C=10, gamma=1, kernel=rbf .......................................\n",
      "[CV] ........................ C=10, gamma=1, kernel=rbf, total=   0.2s\n",
      "[CV] C=10, gamma=1, kernel=poly ......................................\n",
      "[CV] ....................... C=10, gamma=1, kernel=poly, total=   0.6s\n",
      "[CV] C=10, gamma=1, kernel=poly ......................................\n",
      "[CV] ....................... C=10, gamma=1, kernel=poly, total=   1.7s\n",
      "[CV] C=10, gamma=1, kernel=poly ......................................\n",
      "[CV] ....................... C=10, gamma=1, kernel=poly, total=   1.0s\n",
      "[CV] C=10, gamma=1, kernel=poly ......................................\n",
      "[CV] ....................... C=10, gamma=1, kernel=poly, total=   0.8s\n",
      "[CV] C=10, gamma=1, kernel=poly ......................................\n",
      "[CV] ....................... C=10, gamma=1, kernel=poly, total=   0.6s\n",
      "[CV] C=10, gamma=1, kernel=sigmoid ...................................\n",
      "[CV] .................... C=10, gamma=1, kernel=sigmoid, total=   0.1s\n",
      "[CV] C=10, gamma=1, kernel=sigmoid ...................................\n",
      "[CV] .................... C=10, gamma=1, kernel=sigmoid, total=   0.1s\n",
      "[CV] C=10, gamma=1, kernel=sigmoid ...................................\n",
      "[CV] .................... C=10, gamma=1, kernel=sigmoid, total=   0.1s\n",
      "[CV] C=10, gamma=1, kernel=sigmoid ...................................\n",
      "[CV] .................... C=10, gamma=1, kernel=sigmoid, total=   0.1s\n",
      "[CV] C=10, gamma=1, kernel=sigmoid ...................................\n",
      "[CV] .................... C=10, gamma=1, kernel=sigmoid, total=   0.1s\n",
      "[CV] C=10, gamma=0.1, kernel=rbf .....................................\n",
      "[CV] ...................... C=10, gamma=0.1, kernel=rbf, total=   0.1s\n",
      "[CV] C=10, gamma=0.1, kernel=rbf .....................................\n",
      "[CV] ...................... C=10, gamma=0.1, kernel=rbf, total=   0.1s\n",
      "[CV] C=10, gamma=0.1, kernel=rbf .....................................\n",
      "[CV] ...................... C=10, gamma=0.1, kernel=rbf, total=   0.1s\n",
      "[CV] C=10, gamma=0.1, kernel=rbf .....................................\n",
      "[CV] ...................... C=10, gamma=0.1, kernel=rbf, total=   0.1s\n",
      "[CV] C=10, gamma=0.1, kernel=rbf .....................................\n",
      "[CV] ...................... C=10, gamma=0.1, kernel=rbf, total=   0.1s\n",
      "[CV] C=10, gamma=0.1, kernel=poly ....................................\n",
      "[CV] ..................... C=10, gamma=0.1, kernel=poly, total=   0.2s\n",
      "[CV] C=10, gamma=0.1, kernel=poly ....................................\n",
      "[CV] ..................... C=10, gamma=0.1, kernel=poly, total=   0.5s\n",
      "[CV] C=10, gamma=0.1, kernel=poly ....................................\n",
      "[CV] ..................... C=10, gamma=0.1, kernel=poly, total=   0.3s\n",
      "[CV] C=10, gamma=0.1, kernel=poly ....................................\n",
      "[CV] ..................... C=10, gamma=0.1, kernel=poly, total=   0.5s\n",
      "[CV] C=10, gamma=0.1, kernel=poly ....................................\n",
      "[CV] ..................... C=10, gamma=0.1, kernel=poly, total=   0.3s\n",
      "[CV] C=10, gamma=0.1, kernel=sigmoid .................................\n",
      "[CV] .................. C=10, gamma=0.1, kernel=sigmoid, total=   0.1s\n",
      "[CV] C=10, gamma=0.1, kernel=sigmoid .................................\n",
      "[CV] .................. C=10, gamma=0.1, kernel=sigmoid, total=   0.1s\n",
      "[CV] C=10, gamma=0.1, kernel=sigmoid .................................\n",
      "[CV] .................. C=10, gamma=0.1, kernel=sigmoid, total=   0.1s\n",
      "[CV] C=10, gamma=0.1, kernel=sigmoid .................................\n",
      "[CV] .................. C=10, gamma=0.1, kernel=sigmoid, total=   0.1s\n",
      "[CV] C=10, gamma=0.1, kernel=sigmoid .................................\n",
      "[CV] .................. C=10, gamma=0.1, kernel=sigmoid, total=   0.0s\n",
      "[CV] C=10, gamma=0.01, kernel=rbf ....................................\n",
      "[CV] ..................... C=10, gamma=0.01, kernel=rbf, total=   0.1s\n",
      "[CV] C=10, gamma=0.01, kernel=rbf ....................................\n",
      "[CV] ..................... C=10, gamma=0.01, kernel=rbf, total=   0.1s\n",
      "[CV] C=10, gamma=0.01, kernel=rbf ....................................\n",
      "[CV] ..................... C=10, gamma=0.01, kernel=rbf, total=   0.1s\n",
      "[CV] C=10, gamma=0.01, kernel=rbf ....................................\n",
      "[CV] ..................... C=10, gamma=0.01, kernel=rbf, total=   0.0s\n",
      "[CV] C=10, gamma=0.01, kernel=rbf ....................................\n",
      "[CV] ..................... C=10, gamma=0.01, kernel=rbf, total=   0.1s\n",
      "[CV] C=10, gamma=0.01, kernel=poly ...................................\n",
      "[CV] .................... C=10, gamma=0.01, kernel=poly, total=   0.1s\n",
      "[CV] C=10, gamma=0.01, kernel=poly ...................................\n",
      "[CV] .................... C=10, gamma=0.01, kernel=poly, total=   0.1s\n",
      "[CV] C=10, gamma=0.01, kernel=poly ...................................\n",
      "[CV] .................... C=10, gamma=0.01, kernel=poly, total=   0.1s\n",
      "[CV] C=10, gamma=0.01, kernel=poly ...................................\n",
      "[CV] .................... C=10, gamma=0.01, kernel=poly, total=   0.1s\n",
      "[CV] C=10, gamma=0.01, kernel=poly ...................................\n",
      "[CV] .................... C=10, gamma=0.01, kernel=poly, total=   0.1s\n",
      "[CV] C=10, gamma=0.01, kernel=sigmoid ................................\n",
      "[CV] ................. C=10, gamma=0.01, kernel=sigmoid, total=   0.0s\n",
      "[CV] C=10, gamma=0.01, kernel=sigmoid ................................\n",
      "[CV] ................. C=10, gamma=0.01, kernel=sigmoid, total=   0.0s\n",
      "[CV] C=10, gamma=0.01, kernel=sigmoid ................................\n",
      "[CV] ................. C=10, gamma=0.01, kernel=sigmoid, total=   0.0s\n",
      "[CV] C=10, gamma=0.01, kernel=sigmoid ................................\n",
      "[CV] ................. C=10, gamma=0.01, kernel=sigmoid, total=   0.0s\n",
      "[CV] C=10, gamma=0.01, kernel=sigmoid ................................\n",
      "[CV] ................. C=10, gamma=0.01, kernel=sigmoid, total=   0.0s\n",
      "[CV] C=10, gamma=0.001, kernel=rbf ...................................\n",
      "[CV] .................... C=10, gamma=0.001, kernel=rbf, total=   0.0s\n",
      "[CV] C=10, gamma=0.001, kernel=rbf ...................................\n",
      "[CV] .................... C=10, gamma=0.001, kernel=rbf, total=   0.1s\n",
      "[CV] C=10, gamma=0.001, kernel=rbf ...................................\n",
      "[CV] .................... C=10, gamma=0.001, kernel=rbf, total=   0.1s\n",
      "[CV] C=10, gamma=0.001, kernel=rbf ...................................\n",
      "[CV] .................... C=10, gamma=0.001, kernel=rbf, total=   0.0s\n",
      "[CV] C=10, gamma=0.001, kernel=rbf ...................................\n",
      "[CV] .................... C=10, gamma=0.001, kernel=rbf, total=   0.1s\n",
      "[CV] C=10, gamma=0.001, kernel=poly ..................................\n",
      "[CV] ................... C=10, gamma=0.001, kernel=poly, total=   0.0s\n",
      "[CV] C=10, gamma=0.001, kernel=poly ..................................\n",
      "[CV] ................... C=10, gamma=0.001, kernel=poly, total=   0.1s\n",
      "[CV] C=10, gamma=0.001, kernel=poly ..................................\n",
      "[CV] ................... C=10, gamma=0.001, kernel=poly, total=   0.1s\n",
      "[CV] C=10, gamma=0.001, kernel=poly ..................................\n",
      "[CV] ................... C=10, gamma=0.001, kernel=poly, total=   0.0s\n",
      "[CV] C=10, gamma=0.001, kernel=poly ..................................\n",
      "[CV] ................... C=10, gamma=0.001, kernel=poly, total=   0.1s\n",
      "[CV] C=10, gamma=0.001, kernel=sigmoid ...............................\n",
      "[CV] ................ C=10, gamma=0.001, kernel=sigmoid, total=   0.0s\n",
      "[CV] C=10, gamma=0.001, kernel=sigmoid ...............................\n",
      "[CV] ................ C=10, gamma=0.001, kernel=sigmoid, total=   0.1s\n",
      "[CV] C=10, gamma=0.001, kernel=sigmoid ...............................\n",
      "[CV] ................ C=10, gamma=0.001, kernel=sigmoid, total=   0.1s\n",
      "[CV] C=10, gamma=0.001, kernel=sigmoid ...............................\n",
      "[CV] ................ C=10, gamma=0.001, kernel=sigmoid, total=   0.1s\n",
      "[CV] C=10, gamma=0.001, kernel=sigmoid ...............................\n",
      "[CV] ................ C=10, gamma=0.001, kernel=sigmoid, total=   0.0s\n",
      "[CV] C=100, gamma=1, kernel=rbf ......................................\n",
      "[CV] ....................... C=100, gamma=1, kernel=rbf, total=   0.2s\n",
      "[CV] C=100, gamma=1, kernel=rbf ......................................\n",
      "[CV] ....................... C=100, gamma=1, kernel=rbf, total=   0.2s\n",
      "[CV] C=100, gamma=1, kernel=rbf ......................................\n",
      "[CV] ....................... C=100, gamma=1, kernel=rbf, total=   0.2s\n",
      "[CV] C=100, gamma=1, kernel=rbf ......................................\n",
      "[CV] ....................... C=100, gamma=1, kernel=rbf, total=   0.2s\n",
      "[CV] C=100, gamma=1, kernel=rbf ......................................\n",
      "[CV] ....................... C=100, gamma=1, kernel=rbf, total=   0.2s\n",
      "[CV] C=100, gamma=1, kernel=poly .....................................\n",
      "[CV] ...................... C=100, gamma=1, kernel=poly, total=   0.6s\n",
      "[CV] C=100, gamma=1, kernel=poly .....................................\n",
      "[CV] ...................... C=100, gamma=1, kernel=poly, total=   1.7s\n",
      "[CV] C=100, gamma=1, kernel=poly .....................................\n",
      "[CV] ...................... C=100, gamma=1, kernel=poly, total=   0.9s\n",
      "[CV] C=100, gamma=1, kernel=poly .....................................\n",
      "[CV] ...................... C=100, gamma=1, kernel=poly, total=   0.8s\n",
      "[CV] C=100, gamma=1, kernel=poly .....................................\n",
      "[CV] ...................... C=100, gamma=1, kernel=poly, total=   0.6s\n",
      "[CV] C=100, gamma=1, kernel=sigmoid ..................................\n",
      "[CV] ................... C=100, gamma=1, kernel=sigmoid, total=   0.1s\n",
      "[CV] C=100, gamma=1, kernel=sigmoid ..................................\n",
      "[CV] ................... C=100, gamma=1, kernel=sigmoid, total=   0.1s\n",
      "[CV] C=100, gamma=1, kernel=sigmoid ..................................\n",
      "[CV] ................... C=100, gamma=1, kernel=sigmoid, total=   0.1s\n",
      "[CV] C=100, gamma=1, kernel=sigmoid ..................................\n",
      "[CV] ................... C=100, gamma=1, kernel=sigmoid, total=   0.1s\n",
      "[CV] C=100, gamma=1, kernel=sigmoid ..................................\n",
      "[CV] ................... C=100, gamma=1, kernel=sigmoid, total=   0.1s\n",
      "[CV] C=100, gamma=0.1, kernel=rbf ....................................\n",
      "[CV] ..................... C=100, gamma=0.1, kernel=rbf, total=   0.1s\n",
      "[CV] C=100, gamma=0.1, kernel=rbf ....................................\n",
      "[CV] ..................... C=100, gamma=0.1, kernel=rbf, total=   0.1s\n",
      "[CV] C=100, gamma=0.1, kernel=rbf ....................................\n",
      "[CV] ..................... C=100, gamma=0.1, kernel=rbf, total=   0.1s\n",
      "[CV] C=100, gamma=0.1, kernel=rbf ....................................\n",
      "[CV] ..................... C=100, gamma=0.1, kernel=rbf, total=   0.1s\n",
      "[CV] C=100, gamma=0.1, kernel=rbf ....................................\n",
      "[CV] ..................... C=100, gamma=0.1, kernel=rbf, total=   0.1s\n",
      "[CV] C=100, gamma=0.1, kernel=poly ...................................\n",
      "[CV] .................... C=100, gamma=0.1, kernel=poly, total=   0.5s\n",
      "[CV] C=100, gamma=0.1, kernel=poly ...................................\n",
      "[CV] .................... C=100, gamma=0.1, kernel=poly, total=   1.3s\n",
      "[CV] C=100, gamma=0.1, kernel=poly ...................................\n",
      "[CV] .................... C=100, gamma=0.1, kernel=poly, total=   1.1s\n",
      "[CV] C=100, gamma=0.1, kernel=poly ...................................\n",
      "[CV] .................... C=100, gamma=0.1, kernel=poly, total=   1.1s\n",
      "[CV] C=100, gamma=0.1, kernel=poly ...................................\n",
      "[CV] .................... C=100, gamma=0.1, kernel=poly, total=   0.6s\n",
      "[CV] C=100, gamma=0.1, kernel=sigmoid ................................\n",
      "[CV] ................. C=100, gamma=0.1, kernel=sigmoid, total=   0.1s\n",
      "[CV] C=100, gamma=0.1, kernel=sigmoid ................................\n",
      "[CV] ................. C=100, gamma=0.1, kernel=sigmoid, total=   0.1s\n",
      "[CV] C=100, gamma=0.1, kernel=sigmoid ................................\n",
      "[CV] ................. C=100, gamma=0.1, kernel=sigmoid, total=   0.1s\n",
      "[CV] C=100, gamma=0.1, kernel=sigmoid ................................\n",
      "[CV] ................. C=100, gamma=0.1, kernel=sigmoid, total=   0.1s\n",
      "[CV] C=100, gamma=0.1, kernel=sigmoid ................................\n",
      "[CV] ................. C=100, gamma=0.1, kernel=sigmoid, total=   0.1s\n",
      "[CV] C=100, gamma=0.01, kernel=rbf ...................................\n",
      "[CV] .................... C=100, gamma=0.01, kernel=rbf, total=   0.1s\n",
      "[CV] C=100, gamma=0.01, kernel=rbf ...................................\n",
      "[CV] .................... C=100, gamma=0.01, kernel=rbf, total=   0.1s\n",
      "[CV] C=100, gamma=0.01, kernel=rbf ...................................\n",
      "[CV] .................... C=100, gamma=0.01, kernel=rbf, total=   0.1s\n",
      "[CV] C=100, gamma=0.01, kernel=rbf ...................................\n",
      "[CV] .................... C=100, gamma=0.01, kernel=rbf, total=   0.1s\n",
      "[CV] C=100, gamma=0.01, kernel=rbf ...................................\n",
      "[CV] .................... C=100, gamma=0.01, kernel=rbf, total=   0.1s\n",
      "[CV] C=100, gamma=0.01, kernel=poly ..................................\n",
      "[CV] ................... C=100, gamma=0.01, kernel=poly, total=   0.1s\n",
      "[CV] C=100, gamma=0.01, kernel=poly ..................................\n",
      "[CV] ................... C=100, gamma=0.01, kernel=poly, total=   0.1s\n",
      "[CV] C=100, gamma=0.01, kernel=poly ..................................\n",
      "[CV] ................... C=100, gamma=0.01, kernel=poly, total=   0.1s\n",
      "[CV] C=100, gamma=0.01, kernel=poly ..................................\n",
      "[CV] ................... C=100, gamma=0.01, kernel=poly, total=   0.1s\n",
      "[CV] C=100, gamma=0.01, kernel=poly ..................................\n",
      "[CV] ................... C=100, gamma=0.01, kernel=poly, total=   0.1s\n",
      "[CV] C=100, gamma=0.01, kernel=sigmoid ...............................\n",
      "[CV] ................ C=100, gamma=0.01, kernel=sigmoid, total=   0.1s\n",
      "[CV] C=100, gamma=0.01, kernel=sigmoid ...............................\n",
      "[CV] ................ C=100, gamma=0.01, kernel=sigmoid, total=   0.0s\n",
      "[CV] C=100, gamma=0.01, kernel=sigmoid ...............................\n",
      "[CV] ................ C=100, gamma=0.01, kernel=sigmoid, total=   0.1s\n",
      "[CV] C=100, gamma=0.01, kernel=sigmoid ...............................\n",
      "[CV] ................ C=100, gamma=0.01, kernel=sigmoid, total=   0.0s\n",
      "[CV] C=100, gamma=0.01, kernel=sigmoid ...............................\n",
      "[CV] ................ C=100, gamma=0.01, kernel=sigmoid, total=   0.0s\n",
      "[CV] C=100, gamma=0.001, kernel=rbf ..................................\n",
      "[CV] ................... C=100, gamma=0.001, kernel=rbf, total=   0.1s\n",
      "[CV] C=100, gamma=0.001, kernel=rbf ..................................\n",
      "[CV] ................... C=100, gamma=0.001, kernel=rbf, total=   0.1s\n",
      "[CV] C=100, gamma=0.001, kernel=rbf ..................................\n",
      "[CV] ................... C=100, gamma=0.001, kernel=rbf, total=   0.1s\n",
      "[CV] C=100, gamma=0.001, kernel=rbf ..................................\n",
      "[CV] ................... C=100, gamma=0.001, kernel=rbf, total=   0.0s\n",
      "[CV] C=100, gamma=0.001, kernel=rbf ..................................\n",
      "[CV] ................... C=100, gamma=0.001, kernel=rbf, total=   0.1s\n",
      "[CV] C=100, gamma=0.001, kernel=poly .................................\n",
      "[CV] .................. C=100, gamma=0.001, kernel=poly, total=   0.1s\n",
      "[CV] C=100, gamma=0.001, kernel=poly .................................\n",
      "[CV] .................. C=100, gamma=0.001, kernel=poly, total=   0.1s\n",
      "[CV] C=100, gamma=0.001, kernel=poly .................................\n",
      "[CV] .................. C=100, gamma=0.001, kernel=poly, total=   0.1s\n",
      "[CV] C=100, gamma=0.001, kernel=poly .................................\n",
      "[CV] .................. C=100, gamma=0.001, kernel=poly, total=   0.1s\n",
      "[CV] C=100, gamma=0.001, kernel=poly .................................\n",
      "[CV] .................. C=100, gamma=0.001, kernel=poly, total=   0.1s\n",
      "[CV] C=100, gamma=0.001, kernel=sigmoid ..............................\n",
      "[CV] ............... C=100, gamma=0.001, kernel=sigmoid, total=   0.0s\n",
      "[CV] C=100, gamma=0.001, kernel=sigmoid ..............................\n",
      "[CV] ............... C=100, gamma=0.001, kernel=sigmoid, total=   0.0s\n",
      "[CV] C=100, gamma=0.001, kernel=sigmoid ..............................\n",
      "[CV] ............... C=100, gamma=0.001, kernel=sigmoid, total=   0.0s\n",
      "[CV] C=100, gamma=0.001, kernel=sigmoid ..............................\n",
      "[CV] ............... C=100, gamma=0.001, kernel=sigmoid, total=   0.0s\n",
      "[CV] C=100, gamma=0.001, kernel=sigmoid ..............................\n",
      "[CV] ............... C=100, gamma=0.001, kernel=sigmoid, total=   0.0s\n",
      "The best parameters for using this model is {'C': 10, 'gamma': 0.1, 'kernel': 'rbf'}\n"
     ]
    },
    {
     "name": "stderr",
     "output_type": "stream",
     "text": [
      "[Parallel(n_jobs=1)]: Done 240 out of 240 | elapsed:   40.3s finished\n"
     ]
    }
   ],
   "source": [
    "# Find the best parameters \n",
    "svc = SVC(random_state = random_state)\n",
    "param_grid = {'C': [0.1,1, 10, 100], 'gamma': [1,0.1,0.01,0.001],'kernel': ['rbf', 'poly', 'sigmoid']}\n",
    "\n",
    "CV_svc = GridSearchCV(estimator = svc, param_grid = param_grid ,  scoring = 'accuracy' ,refit=True,verbose=2)\n",
    "CV_svc.fit(X_train, y_train)\n",
    "\n",
    "best_parameters = CV_svc.best_params_\n",
    "print('The best parameters for using this model is', best_parameters)"
   ]
  },
  {
   "cell_type": "code",
   "execution_count": 39,
   "metadata": {},
   "outputs": [
    {
     "data": {
      "image/png": "[encoded data removed]",
      "text/plain": [
       "<Figure size 432x288 with 2 Axes>"
      ]
     },
     "metadata": {
      "needs_background": "light"
     },
     "output_type": "display_data"
    },
    {
     "name": "stdout",
     "output_type": "stream",
     "text": [
      "Accuracy    =     0.904\n",
      "Precision   =     0.912\n",
      "Recall      =     0.966\n",
      "Specificity =     0.713\n",
      "F1_score    =     0.938\n"
     ]
    },
    {
     "data": {
      "image/png": "[encoded data removed]",
      "text/plain": [
       "<Figure size 432x288 with 1 Axes>"
      ]
     },
     "metadata": {
      "needs_background": "light"
     },
     "output_type": "display_data"
    }
   ],
   "source": [
    "#SVC with best hyperparameters\n",
    "CV_svc = SVC(C = best_parameters['C'], \n",
    "                                gamma = best_parameters['gamma'], \n",
    "                                kernel = best_parameters['kernel']\n",
    "                                )\n",
    "\n",
    "CV_svc=CV_svc.fit(X_train, y_train)\n",
    "y_pred = CV_svc.predict(X_test)\n",
    "y_score = CV_svc.decision_function(X_test)\n",
    "\n",
    "# Confusion maxtrix & metrics\n",
    "cm = confusion_matrix(y_test, y_pred)\n",
    "class_names = [0,1]\n",
    "plt.figure()\n",
    "plot_confusion_matrix(cm, \n",
    "                      classes=class_names, \n",
    "                      title='CV_SVC matrix')\n",
    "#plt.savefig('6')\n",
    "plt.show()\n",
    "\n",
    "show_metrics()\n",
    "CV_svc_score=score(y_test, y_pred)\n",
    "# ROC curve\n",
    "fpr, tpr, t = roc_curve(y_test, y_score)\n",
    "plot_roc()"
   ]
  },
  {
   "cell_type": "markdown",
   "metadata": {},
   "source": [
    "### <a > Feature Selection </a>"
   ]
  },
  {
   "cell_type": "code",
   "execution_count": 40,
   "metadata": {},
   "outputs": [
    {
     "name": "stdout",
     "output_type": "stream",
     "text": [
      "X Shape is  (1399, 11)\n",
      "Selected Features are :  [False False  True  True False False  True  True False False False False\n",
      " False  True False False False False False  True False  True  True False\n",
      " False False False False  True  True False False False False False False\n",
      " False False False False False False False False False False  True]\n"
     ]
    }
   ],
   "source": [
    "sel = SelectFromModel(RandomForestClassifier(),max_features = 11) \n",
    "sel.fit(X, y)\n",
    "X_train_new = sel.transform(X_train)\n",
    "X_test_new = sel.transform(X_test)\n",
    "print('X Shape is ' , X_train_new.shape)\n",
    "print('Selected Features are : ' , sel.get_support())"
   ]
  },
  {
   "cell_type": "code",
   "execution_count": 41,
   "metadata": {},
   "outputs": [
    {
     "data": {
      "image/png": "[encoded data removed]",
      "text/plain": [
       "<Figure size 432x288 with 2 Axes>"
      ]
     },
     "metadata": {
      "needs_background": "light"
     },
     "output_type": "display_data"
    },
    {
     "name": "stdout",
     "output_type": "stream",
     "text": [
      "Accuracy    =     0.897\n",
      "Precision   =     0.892\n",
      "Recall      =     0.983\n",
      "Specificity =     0.635\n",
      "F1_score    =     0.935\n"
     ]
    }
   ],
   "source": [
    "svc= SVC()\n",
    "\n",
    "svc=svc.fit(X_train_new, y_train)\n",
    "\n",
    "y_pred = svc.predict(X_test_new)\n",
    "y_score = svc.decision_function(X_test_new)\n",
    "# Confusion maxtrix & metrics\n",
    "cm = confusion_matrix(y_test, y_pred)\n",
    "class_names = [0,1]\n",
    "plt.figure()\n",
    "plot_confusion_matrix(cm, \n",
    "                      classes=class_names, \n",
    "                      title='SVC Confusion matrix')\n",
    "\n",
    "plt.show()\n",
    "\n",
    "show_metrics()\n",
    "svc_sel_score=score(y_test, y_pred)\n",
    "\n"
   ]
  },
  {
   "cell_type": "markdown",
   "metadata": {},
   "source": [
    "### <a > Models performance plot (accuracy, precision, recall)</a>"
   ]
  },
  {
   "cell_type": "code",
   "execution_count": 42,
   "metadata": {},
   "outputs": [
    {
     "data": {
      "image/png": "[encoded data removed]",
      "text/plain": [
       "<Figure size 1080x720 with 1 Axes>"
      ]
     },
     "metadata": {
      "needs_background": "light"
     },
     "output_type": "display_data"
    }
   ],
   "source": [
    "models_metrics = {'svc': svc_score,\n",
    "                 'CV_svc' : CV_svc_score,\n",
    "                 'svc_sel' : svc_sel_score,\n",
    "                }\n",
    "df = pd.DataFrame(data = models_metrics)\n",
    "df.rename(index={0:'Accuracy',1:'Precision', 2: 'Recall'}, \n",
    "                 inplace=True)\n",
    "ax = df.plot(kind='bar', figsize = (15,10), ylim = (0.80, 1), \n",
    "        color = ['gold','lightcoral', 'lightgreen'],\n",
    "        rot = 0, title ='Models performance (cross val mean)',\n",
    "        edgecolor = 'grey', alpha = 0.5)\n",
    "for p in ax.patches:\n",
    "    ax.annotate(str(p.get_height()), (p.get_x() * 1.01, p.get_height() * 1.0005))\n",
    "plt.show()"
   ]
  },
  {
   "cell_type": "markdown",
   "metadata": {
    "_uuid": "de6ad8bba144fad0f695b83e204f4594fce7e216"
   },
   "source": [
    "## <a id='9'>9. Predictive model 5 : K-Nearest Neighbor(KNN) </a>"
   ]
  },
  {
   "cell_type": "code",
   "execution_count": 43,
   "metadata": {},
   "outputs": [],
   "source": [
    "from sklearn.neighbors import KNeighborsClassifier"
   ]
  },
  {
   "cell_type": "code",
   "execution_count": 44,
   "metadata": {},
   "outputs": [
    {
     "data": {
      "image/png": "[encoded data removed]",
      "text/plain": [
       "<Figure size 432x288 with 2 Axes>"
      ]
     },
     "metadata": {
      "needs_background": "light"
     },
     "output_type": "display_data"
    },
    {
     "name": "stdout",
     "output_type": "stream",
     "text": [
      "Accuracy    =     0.901\n",
      "Precision   =     0.896\n",
      "Recall      =     0.983\n",
      "Specificity =     0.652\n",
      "F1_score    =     0.938\n"
     ]
    },
    {
     "data": {
      "image/png": "[encoded data removed]",
      "text/plain": [
       "<Figure size 432x288 with 1 Axes>"
      ]
     },
     "metadata": {
      "needs_background": "light"
     },
     "output_type": "display_data"
    }
   ],
   "source": [
    "knn = KNeighborsClassifier()\n",
    "\n",
    "knn=knn.fit(X_train, y_train)\n",
    "\n",
    "y_pred = knn.predict(X_test)\n",
    "\n",
    "# Confusion maxtrix & metrics\n",
    "cm = confusion_matrix(y_test, y_pred)\n",
    "class_names = [0,1]\n",
    "plt.figure()\n",
    "plot_confusion_matrix(cm, \n",
    "                      classes=class_names, \n",
    "                      title='KNN Confusion matrix')\n",
    "\n",
    "plt.show()\n",
    "\n",
    "show_metrics()\n",
    "knn_score=score(y_test, y_pred)\n",
    "# ROC curve\n",
    "fpr, tpr, t = roc_curve(y_test, y_score)\n",
    "knn_roc=plot_roc()\n",
    "knn_roc"
   ]
  },
  {
   "cell_type": "markdown",
   "metadata": {},
   "source": [
    "### <a id='9.1'>9.1. K-Nearest Neighbor(KNN) and GridSearch CV to optimise hyperparameters </a>"
   ]
  },
  {
   "cell_type": "code",
   "execution_count": 45,
   "metadata": {},
   "outputs": [
    {
     "name": "stdout",
     "output_type": "stream",
     "text": [
      "The best parameters for using this model is {'n_neighbors': 6, 'weights': 'distance'}\n"
     ]
    }
   ],
   "source": [
    "# Find the best parameters\n",
    "knn = KNeighborsClassifier()\n",
    "\n",
    "k_range = list(range(1,31))\n",
    "weight_options = [\"uniform\", \"distance\"]\n",
    "\n",
    "param_grid = dict(n_neighbors = k_range, weights = weight_options)\n",
    "\n",
    "CV_KNN = GridSearchCV(knn, param_grid, cv = 10, scoring = 'accuracy')\n",
    "CV_KNN.fit(X_train, y_train)\n",
    "\n",
    "best_parameters = CV_KNN.best_params_\n",
    "print('The best parameters for using this model is', best_parameters)"
   ]
  },
  {
   "cell_type": "code",
   "execution_count": 46,
   "metadata": {},
   "outputs": [
    {
     "data": {
      "image/png": "[encoded data removed]",
      "text/plain": [
       "<Figure size 432x288 with 2 Axes>"
      ]
     },
     "metadata": {
      "needs_background": "light"
     },
     "output_type": "display_data"
    },
    {
     "name": "stdout",
     "output_type": "stream",
     "text": [
      "Accuracy    =     0.906\n",
      "Precision   =     0.899\n",
      "Recall      =     0.986\n",
      "Specificity =     0.661\n",
      "F1_score    =     0.940\n",
      "[0.9014989293361885, 0.8963730569948186, 0.9829545454545454]\n"
     ]
    }
   ],
   "source": [
    "#KNN with best hyperparameters\n",
    "CV_KNN = KNeighborsClassifier(n_neighbors = best_parameters['n_neighbors'], \n",
    "                                weights = best_parameters['weights']\n",
    "                                )\n",
    "\n",
    "CV_KNN=CV_KNN.fit(X_train, y_train)\n",
    "y_pred = CV_KNN.predict(X_test)\n",
    "\n",
    "\n",
    "# Confusion maxtrix & metrics\n",
    "cm = confusion_matrix(y_test, y_pred)\n",
    "class_names = [0,1]\n",
    "plt.figure()\n",
    "plot_confusion_matrix(cm, \n",
    "                      classes=class_names, \n",
    "                      title='KNN matrix')\n",
    "plt.show()\n",
    "\n",
    "show_metrics()\n",
    "CV_knn_score=score(y_test, y_pred)\n",
    "print(knn_score)\n"
   ]
  },
  {
   "cell_type": "markdown",
   "metadata": {},
   "source": [
    "### <a > K-Nearest Neighbor(KNN)  and Feature Selection </a>"
   ]
  },
  {
   "cell_type": "code",
   "execution_count": 47,
   "metadata": {},
   "outputs": [
    {
     "name": "stdout",
     "output_type": "stream",
     "text": [
      "X Shape is  (1399, 11)\n",
      "Selected Features are :  [False False  True  True False False  True  True False False False False\n",
      " False  True False False False False False  True False  True  True False\n",
      " False False False False  True  True False False False False False False\n",
      " False False False False False False False False False False  True]\n"
     ]
    }
   ],
   "source": [
    "sel = SelectFromModel(RandomForestClassifier(),max_features = 11) \n",
    "sel.fit(X, y)\n",
    "X_train_new = sel.transform(X_train)\n",
    "X_test_new = sel.transform(X_test)\n",
    "print('X Shape is ' , X_train_new.shape)\n",
    "print('Selected Features are : ' , sel.get_support())"
   ]
  },
  {
   "cell_type": "code",
   "execution_count": 48,
   "metadata": {},
   "outputs": [
    {
     "data": {
      "image/png": "[encoded data removed]",
      "text/plain": [
       "<Figure size 432x288 with 2 Axes>"
      ]
     },
     "metadata": {
      "needs_background": "light"
     },
     "output_type": "display_data"
    },
    {
     "name": "stdout",
     "output_type": "stream",
     "text": [
      "Accuracy    =     0.893\n",
      "Precision   =     0.904\n",
      "Recall      =     0.960\n",
      "Specificity =     0.687\n",
      "F1_score    =     0.931\n"
     ]
    }
   ],
   "source": [
    "knn = KNeighborsClassifier()\n",
    "\n",
    "knn=knn.fit(X_train_new, y_train)\n",
    "\n",
    "y_pred = knn.predict(X_test_new)\n",
    "\n",
    "# Confusion maxtrix & metrics\n",
    "cm = confusion_matrix(y_test, y_pred)\n",
    "class_names = [0,1]\n",
    "plt.figure()\n",
    "plot_confusion_matrix(cm, \n",
    "                      classes=class_names, \n",
    "                      title='KNN Confusion matrix')\n",
    "\n",
    "plt.show()\n",
    "\n",
    "show_metrics()\n",
    "knn_sele_score=score(y_test, y_pred)\n"
   ]
  },
  {
   "cell_type": "markdown",
   "metadata": {},
   "source": [
    "### <a> KNN-Models performance plot (accuracy, precision, recall)</a>"
   ]
  },
  {
   "cell_type": "code",
   "execution_count": 49,
   "metadata": {},
   "outputs": [
    {
     "data": {
      "image/png": "[encoded data removed]",
      "text/plain": [
       "<Figure size 1080x720 with 1 Axes>"
      ]
     },
     "metadata": {
      "needs_background": "light"
     },
     "output_type": "display_data"
    }
   ],
   "source": [
    "models_metrics = {'knn': knn_score,\n",
    "                 'CV_knn' : CV_knn_score,\n",
    "                 'knn_sel' : knn_sele_score,\n",
    "                }\n",
    "df = pd.DataFrame(data = models_metrics)\n",
    "df.rename(index={0:'Accuracy',1:'Precision', 2: 'Recall' }, \n",
    "                 inplace=True)\n",
    "ax = df.plot(kind='bar', figsize = (15,10), ylim = (0.80, 1), \n",
    "        color = ['gold','lightcoral', 'lightgreen'],\n",
    "        rot = 0, title ='Models performance (cross val mean)',\n",
    "        edgecolor = 'grey', alpha = 0.5)\n",
    "for p in ax.patches:\n",
    "    ax.annotate(str(p.get_height()), (p.get_x() * 1.01, p.get_height() * 1.0005))\n",
    "plt.show()"
   ]
  },
  {
   "cell_type": "markdown",
   "metadata": {
    "_uuid": "de6ad8bba144fad0f695b83e204f4594fce7e216"
   },
   "source": [
    "## <a id='10'>10. Models performance plot (accuracy, precision, recall)"
   ]
  },
  {
   "cell_type": "code",
   "execution_count": 50,
   "metadata": {},
   "outputs": [
    {
     "data": {
      "image/png": "[encoded data removed]",
      "text/plain": [
       "<Figure size 1080x720 with 1 Axes>"
      ]
     },
     "metadata": {
      "needs_background": "light"
     },
     "output_type": "display_data"
    }
   ],
   "source": [
    "models_metrics = {'GBC': gbc_score, \n",
    "                 'LOG': log_score, \n",
    "                 'SVC' : svc_score,\n",
    "                 'KNN' : knn_score,\n",
    "                'Dtree': Dtree_score,\n",
    "                }\n",
    "df = pd.DataFrame(data = models_metrics)\n",
    "df.rename(index={0:'Accuracy',1:'Precision', 2: 'Recall'}, \n",
    "                 inplace=True)\n",
    "ax = df.plot(kind='bar', figsize = (15,10), ylim = (0.80, 1), \n",
    "        color = ['gold', 'lightgreen', 'red','lightcoral', 'lightskyblue'],\n",
    "        rot = 0, title ='Models performance',\n",
    "        edgecolor = 'grey', alpha = 0.5)\n",
    "for p in ax.patches:\n",
    "    ax.annotate(str(p.get_height()), (p.get_x() * 1.01, p.get_height() * 1.0005))\n",
    "plt.show()"
   ]
  },
  {
   "cell_type": "code",
   "execution_count": 51,
   "metadata": {},
   "outputs": [
    {
     "data": {
      "image/png": "[encoded data removed]",
      "text/plain": [
       "<Figure size 1080x720 with 1 Axes>"
      ]
     },
     "metadata": {
      "needs_background": "light"
     },
     "output_type": "display_data"
    }
   ],
   "source": [
    "#fig = plt.figure()\n",
    "#fig.add_axes([0,0,1,1])\n",
    "models=['GBC','LOG','SVC','KNN', 'Dtree']\n",
    "\n",
    "acc=[gbc_score[0],log_score[0],svc_score[0],knn_score[0],Dtree_score[0]]\n",
    "plt.figure(figsize=(15,10))\n",
    "plt.ylim(0.80, 1)\n",
    "\n",
    "plt.title('Models performance(Accuracy)')\n",
    "plt.bar(models,acc,width=.5)\n",
    "plt.show()\n"
   ]
  },
  {
   "cell_type": "code",
   "execution_count": 52,
   "metadata": {},
   "outputs": [
    {
     "data": {
      "image/png": "[encoded data removed]",
      "text/plain": [
       "<Figure size 1080x720 with 1 Axes>"
      ]
     },
     "metadata": {
      "needs_background": "light"
     },
     "output_type": "display_data"
    }
   ],
   "source": [
    "models_metrics = {'GBC': gbc_score, \n",
    "                 'LOG': log_score, \n",
    "                 'SVC' : svc_score,\n",
    "                 'KNN' : knn_score,\n",
    "                'Dtree': Dtree_score,\n",
    "                }\n",
    "df = pd.DataFrame(data = models_metrics)\n",
    "df.rename(index={0:'Accuracy',1:'Precision', 2: 'Recall'}, \n",
    "                 inplace=True)\n",
    "ax = df.plot(kind='bar', figsize = (15,10), ylim = (0.80, 1), \n",
    "        color = ['gold', 'lightgreen', 'red','lightcoral', 'lightskyblue'],\n",
    "        rot = 0, title ='Models performance',\n",
    "        edgecolor = 'grey', alpha = 0.5)\n",
    "for p in ax.patches:\n",
    "    ax.annotate(str(p.get_height()), (p.get_x() * 1.01, p.get_height() * 1.0005))\n",
    "plt.show()"
   ]
  },
  {
   "cell_type": "code",
   "execution_count": 53,
   "metadata": {},
   "outputs": [
    {
     "data": {
      "image/png": "[encoded data removed]",
      "text/plain": [
       "<Figure size 720x576 with 1 Axes>"
      ]
     },
     "metadata": {
      "needs_background": "light"
     },
     "output_type": "display_data"
    }
   ],
   "source": [
    "models_metrics = {'GBC': gbc_score}\n",
    "df = pd.DataFrame(data = models_metrics)\n",
    "df.rename(index={0:'Accuracy',1:'Precision', 2: 'Recall' }, \n",
    "                 inplace=True)\n",
    "ax = df.plot(kind='bar', figsize = (10,8), ylim = (0.80, 1), width=0.3,\n",
    "        color = [ 'lightgreen'],\n",
    "        rot = 0, title ='GBC Model performance ',\n",
    "        edgecolor = 'grey', alpha = 0.5)\n",
    "for p in ax.patches:\n",
    "    ax.annotate(str(p.get_height()), (p.get_x() * 1.01, p.get_height() * 1.0005))\n",
    "plt.show()"
   ]
  },
  {
   "cell_type": "code",
   "execution_count": 54,
   "metadata": {},
   "outputs": [
    {
     "data": {
      "image/png": "[encoded data removed]",
      "text/plain": [
       "<Figure size 720x576 with 1 Axes>"
      ]
     },
     "metadata": {
      "needs_background": "light"
     },
     "output_type": "display_data"
    }
   ],
   "source": [
    "models_metrics = {'LOG': log_score}\n",
    "df = pd.DataFrame(data = models_metrics)\n",
    "df.rename(index={0:'Accuracy',1:'Precision', 2: 'Recall' }, \n",
    "                 inplace=True)\n",
    "ax = df.plot(kind='bar', figsize = (10,8), ylim = (0.80, 1), width=0.3,\n",
    "        color = [ 'lightgreen'],\n",
    "        rot = 0, title ='LOG Model performance ',\n",
    "        edgecolor = 'grey', alpha = 0.5)\n",
    "for p in ax.patches:\n",
    "    ax.annotate(str(p.get_height()), (p.get_x() * 1.01, p.get_height() * 1.0005))\n",
    "plt.show()"
   ]
  },
  {
   "cell_type": "code",
   "execution_count": 55,
   "metadata": {},
   "outputs": [
    {
     "data": {
      "image/png": "[encoded data removed]",
      "text/plain": [
       "<Figure size 720x576 with 1 Axes>"
      ]
     },
     "metadata": {
      "needs_background": "light"
     },
     "output_type": "display_data"
    }
   ],
   "source": [
    "models_metrics = {'SVC' : svc_score,}\n",
    "df = pd.DataFrame(data = models_metrics)\n",
    "df.rename(index={0:'Accuracy',1:'Precision', 2: 'Recall' }, \n",
    "                 inplace=True)\n",
    "ax = df.plot(kind='bar', figsize = (10,8), ylim = (0.80, 1), width=0.3,\n",
    "        color = [ 'lightgreen'],\n",
    "        rot = 0, title ='SVC Model performance ',\n",
    "        edgecolor = 'grey', alpha = 0.5)\n",
    "for p in ax.patches:\n",
    "    ax.annotate(str(p.get_height()), (p.get_x() * 1.01, p.get_height() * 1.0005))\n",
    "plt.show()"
   ]
  },
  {
   "cell_type": "code",
   "execution_count": 57,
   "metadata": {},
   "outputs": [
    {
     "data": {
      "image/png": "[encoded data removed]",
      "text/plain": [
       "<Figure size 720x576 with 1 Axes>"
      ]
     },
     "metadata": {
      "needs_background": "light"
     },
     "output_type": "display_data"
    }
   ],
   "source": [
    "models_metrics = {'Dtree': Dtree_score}\n",
    "df = pd.DataFrame(data = models_metrics)\n",
    "df.rename(index={0:'Accuracy',1:'Precision', 2: 'Recall' }, \n",
    "                 inplace=True)\n",
    "ax = df.plot(kind='bar', figsize = (10,8), ylim = (0.80, 1), width=0.3,\n",
    "        color = [ 'lightgreen'],\n",
    "        rot = 0, title ='Dtree Model performance ',\n",
    "        edgecolor = 'grey', alpha = 0.5)\n",
    "for p in ax.patches:\n",
    "    ax.annotate(str(p.get_height()), (p.get_x() * 1.01, p.get_height() * 1.0005))\n",
    "plt.show()"
   ]
  },
  {
   "cell_type": "code",
   "execution_count": 67,
   "metadata": {},
   "outputs": [
    {
     "data": {
      "image/png": "[encoded data removed]",
      "text/plain": [
       "<Figure size 720x576 with 1 Axes>"
      ]
     },
     "metadata": {
      "needs_background": "light"
     },
     "output_type": "display_data"
    }
   ],
   "source": [
    "models_metrics = {'knn': knn_score}\n",
    "df = pd.DataFrame(data = models_metrics)\n",
    "df.rename(index={0:'Accuracy',1:'Precision', 2: 'Recall' }, \n",
    "                 inplace=True)\n",
    "ax = df.plot(kind='bar', figsize = (10,8), ylim = (0.80, 1), width=0.3,\n",
    "        color = [ 'lightgreen'],\n",
    "        rot = 0, title ='KNN Model performance ',\n",
    "        edgecolor = 'grey', alpha = 0.5)\n",
    "for p in ax.patches:\n",
    "    ax.annotate(str(p.get_height()), (p.get_x() * 1.01, p.get_height() * 1.0005))\n",
    "plt.show()"
   ]
  },
  {
   "cell_type": "code",
   "execution_count": 58,
   "metadata": {},
   "outputs": [
    {
     "data": {
      "image/png": "[encoded data removed]",
      "text/plain": [
       "<Figure size 720x576 with 1 Axes>"
      ]
     },
     "metadata": {
      "needs_background": "light"
     },
     "output_type": "display_data"
    }
   ],
   "source": [
    "models_metrics = {'knn': knn_score}\n",
    "df = pd.DataFrame(data = models_metrics)\n",
    "df.rename(index={0:'Accuracy',1:'Precision', 2: 'Recall' }, \n",
    "                 inplace=True)\n",
    "ax = df.plot(kind='bar', figsize = (10,8), ylim = (0.80, 1), \n",
    "        color = [ 'lightgreen'],\n",
    "        rot = 0, title ='KNN Model performance ',\n",
    "        edgecolor = 'grey', alpha = 0.5)\n",
    "for p in ax.patches:\n",
    "    ax.annotate(str(p.get_height()), (p.get_x() * 1.01, p.get_height() * 1.0005))\n",
    "plt.show()"
   ]
  },
  {
   "cell_type": "markdown",
   "metadata": {
    "_uuid": "b2df81409628ccdc4ed3b3cccf600f3cba9774cd"
   },
   "source": [
    "**Thank you all ! Merci à tous ! :)**"
   ]
  }
 ],
 "metadata": {
  "celltoolbar": "Raw Cell Format",
  "kernelspec": {
   "display_name": "Python 3",
   "language": "python",
   "name": "python3"
  },
  "language_info": {
   "codemirror_mode": {
    "name": "ipython",
    "version": 3
   },
   "file_extension": ".py",
   "mimetype": "text/x-python",
   "name": "python",
   "nbconvert_exporter": "python",
   "pygments_lexer": "ipython3",
   "version": "3.6.10"
  }
 },
 "nbformat": 4,
 "nbformat_minor": 1
}
